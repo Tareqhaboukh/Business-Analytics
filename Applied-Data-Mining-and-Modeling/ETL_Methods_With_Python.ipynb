{
    "metadata": {
        "kernelspec": {
            "name": "python3",
            "display_name": "Python 3 (ipykernel)",
            "language": "python"
        },
        "language_info": {
            "name": "python",
            "version": "3.8.11",
            "mimetype": "text/x-python",
            "codemirror_mode": {
                "name": "ipython",
                "version": 3
            },
            "pygments_lexer": "ipython3",
            "nbconvert_exporter": "python",
            "file_extension": ".py"
        }
    },
    "nbformat_minor": 2,
    "nbformat": 4,
    "cells": [
        {
            "cell_type": "markdown",
            "source": [
                "## ETL Methods With Python\n",
                "Data cleaning, preparation, and transformation On Titanic Dataset\n",
                "\n",
                "- Tareq Haboukh\n",
                "- Eunice Chua\n",
                "- Fides Audrielle Urgel\n",
                "- Liezel Anne Viray"
            ],
            "metadata": {
                "azdata_cell_guid": "a6ae8b32-b358-4d69-8608-672b9ae60f50"
            },
            "attachments": {}
        },
        {
            "cell_type": "markdown",
            "source": [
                "### 1. Download Titanic dataset<br>"
            ],
            "metadata": {
                "azdata_cell_guid": "b1511d99-71a2-4c27-9f21-0db051c533ff"
            }
        },
        {
            "cell_type": "markdown",
            "source": [
                "## Work in Python"
            ],
            "metadata": {
                "azdata_cell_guid": "9b66c1b4-f7c0-4b05-8380-a21cf64e502b"
            }
        },
        {
            "cell_type": "code",
            "source": [
                "import pandas as pd\n",
                "import numpy as np\n",
                "import matplotlib.pyplot as plt\n",
                "\n",
                "file_path = \"Titanic.csv\"\n",
                "Titanic = pd.read_csv(file_path)\n",
                "df = pd.DataFrame(Titanic)"
            ],
            "metadata": {
                "azdata_cell_guid": "29e6e641-516d-405b-9912-2c47c8e082c8",
                "language": "python"
            },
            "outputs": [],
            "execution_count": 42
        },
        {
            "cell_type": "markdown",
            "source": [
                "### 2. Apply following data preparation rules, note that additional documentation on Python is available at<br>\n",
                "https://docs.python.org<br>\n",
                "https://matplotlib.org<br>\n",
                "https://pandas.pydata.org/pandas-docs/stable"
            ],
            "metadata": {
                "azdata_cell_guid": "2c8fbdb9-17e4-4a55-99f3-a8d6ebd8e5ff"
            }
        },
        {
            "cell_type": "markdown",
            "source": [
                "\\# Drop the columns where all elements are missing values:"
            ],
            "metadata": {
                "azdata_cell_guid": "b9b158de-56f4-4abf-8dbe-a6b97c83cb0c"
            }
        },
        {
            "cell_type": "code",
            "source": [
                "df.dropna(axis=1, how='all')\n",
                "df.head()"
            ],
            "metadata": {
                "scrolled": false,
                "azdata_cell_guid": "49813992-ac51-4288-bb7c-525ab0ebf0e1",
                "language": "python"
            },
            "outputs": [
                {
                    "data": {
                        "text/plain": "   PassengerId  Survived  Pclass  \\\n0            1         0       3   \n1            2         1       1   \n2            3         1       3   \n3            4         1       1   \n4            5         0       3   \n\n                                                Name     Sex   Age  SibSp  \\\n0                            Braund, Mr. Owen Harris    male  22.0      1   \n1  Cumings, Mrs. John Bradley (Florence Briggs Th...  female  38.0      1   \n2                             Heikkinen, Miss. Laina  female  26.0      0   \n3       Futrelle, Mrs. Jacques Heath (Lily May Peel)  female  35.0      1   \n4                           Allen, Mr. William Henry    male  35.0      0   \n\n   Parch            Ticket     Fare Cabin Embarked  \n0      0         A/5 21171   7.2500   NaN        S  \n1      0          PC 17599  71.2833   C85        C  \n2      0  STON/O2. 3101282   7.9250   NaN        S  \n3      0            113803  53.1000  C123        S  \n4      0            373450   8.0500   NaN        S  ",
                        "text/html": "<div>\n<style scoped>\n    .dataframe tbody tr th:only-of-type {\n        vertical-align: middle;\n    }\n\n    .dataframe tbody tr th {\n        vertical-align: top;\n    }\n\n    .dataframe thead th {\n        text-align: right;\n    }\n</style>\n<table border=\"1\" class=\"dataframe\">\n  <thead>\n    <tr style=\"text-align: right;\">\n      <th></th>\n      <th>PassengerId</th>\n      <th>Survived</th>\n      <th>Pclass</th>\n      <th>Name</th>\n      <th>Sex</th>\n      <th>Age</th>\n      <th>SibSp</th>\n      <th>Parch</th>\n      <th>Ticket</th>\n      <th>Fare</th>\n      <th>Cabin</th>\n      <th>Embarked</th>\n    </tr>\n  </thead>\n  <tbody>\n    <tr>\n      <th>0</th>\n      <td>1</td>\n      <td>0</td>\n      <td>3</td>\n      <td>Braund, Mr. Owen Harris</td>\n      <td>male</td>\n      <td>22.0</td>\n      <td>1</td>\n      <td>0</td>\n      <td>A/5 21171</td>\n      <td>7.2500</td>\n      <td>NaN</td>\n      <td>S</td>\n    </tr>\n    <tr>\n      <th>1</th>\n      <td>2</td>\n      <td>1</td>\n      <td>1</td>\n      <td>Cumings, Mrs. John Bradley (Florence Briggs Th...</td>\n      <td>female</td>\n      <td>38.0</td>\n      <td>1</td>\n      <td>0</td>\n      <td>PC 17599</td>\n      <td>71.2833</td>\n      <td>C85</td>\n      <td>C</td>\n    </tr>\n    <tr>\n      <th>2</th>\n      <td>3</td>\n      <td>1</td>\n      <td>3</td>\n      <td>Heikkinen, Miss. Laina</td>\n      <td>female</td>\n      <td>26.0</td>\n      <td>0</td>\n      <td>0</td>\n      <td>STON/O2. 3101282</td>\n      <td>7.9250</td>\n      <td>NaN</td>\n      <td>S</td>\n    </tr>\n    <tr>\n      <th>3</th>\n      <td>4</td>\n      <td>1</td>\n      <td>1</td>\n      <td>Futrelle, Mrs. Jacques Heath (Lily May Peel)</td>\n      <td>female</td>\n      <td>35.0</td>\n      <td>1</td>\n      <td>0</td>\n      <td>113803</td>\n      <td>53.1000</td>\n      <td>C123</td>\n      <td>S</td>\n    </tr>\n    <tr>\n      <th>4</th>\n      <td>5</td>\n      <td>0</td>\n      <td>3</td>\n      <td>Allen, Mr. William Henry</td>\n      <td>male</td>\n      <td>35.0</td>\n      <td>0</td>\n      <td>0</td>\n      <td>373450</td>\n      <td>8.0500</td>\n      <td>NaN</td>\n      <td>S</td>\n    </tr>\n  </tbody>\n</table>\n</div>"
                    },
                    "metadata": {},
                    "execution_count": 43,
                    "output_type": "execute_result"
                }
            ],
            "execution_count": 43
        },
        {
            "cell_type": "markdown",
            "source": [
                "\\# Drop the columns where any of the elements are missing values:"
            ],
            "metadata": {
                "azdata_cell_guid": "197ec7e7-051d-4f4c-be4f-eef9630c066f"
            }
        },
        {
            "cell_type": "code",
            "source": [
                "df.dropna(axis=1, how='any')\n",
                "df.head()"
            ],
            "metadata": {
                "scrolled": false,
                "azdata_cell_guid": "443eb280-b8c6-42e4-907b-4598a7323502",
                "language": "python"
            },
            "outputs": [
                {
                    "data": {
                        "text/plain": "   PassengerId  Survived  Pclass  \\\n0            1         0       3   \n1            2         1       1   \n2            3         1       3   \n3            4         1       1   \n4            5         0       3   \n\n                                                Name     Sex   Age  SibSp  \\\n0                            Braund, Mr. Owen Harris    male  22.0      1   \n1  Cumings, Mrs. John Bradley (Florence Briggs Th...  female  38.0      1   \n2                             Heikkinen, Miss. Laina  female  26.0      0   \n3       Futrelle, Mrs. Jacques Heath (Lily May Peel)  female  35.0      1   \n4                           Allen, Mr. William Henry    male  35.0      0   \n\n   Parch            Ticket     Fare Cabin Embarked  \n0      0         A/5 21171   7.2500   NaN        S  \n1      0          PC 17599  71.2833   C85        C  \n2      0  STON/O2. 3101282   7.9250   NaN        S  \n3      0            113803  53.1000  C123        S  \n4      0            373450   8.0500   NaN        S  ",
                        "text/html": "<div>\n<style scoped>\n    .dataframe tbody tr th:only-of-type {\n        vertical-align: middle;\n    }\n\n    .dataframe tbody tr th {\n        vertical-align: top;\n    }\n\n    .dataframe thead th {\n        text-align: right;\n    }\n</style>\n<table border=\"1\" class=\"dataframe\">\n  <thead>\n    <tr style=\"text-align: right;\">\n      <th></th>\n      <th>PassengerId</th>\n      <th>Survived</th>\n      <th>Pclass</th>\n      <th>Name</th>\n      <th>Sex</th>\n      <th>Age</th>\n      <th>SibSp</th>\n      <th>Parch</th>\n      <th>Ticket</th>\n      <th>Fare</th>\n      <th>Cabin</th>\n      <th>Embarked</th>\n    </tr>\n  </thead>\n  <tbody>\n    <tr>\n      <th>0</th>\n      <td>1</td>\n      <td>0</td>\n      <td>3</td>\n      <td>Braund, Mr. Owen Harris</td>\n      <td>male</td>\n      <td>22.0</td>\n      <td>1</td>\n      <td>0</td>\n      <td>A/5 21171</td>\n      <td>7.2500</td>\n      <td>NaN</td>\n      <td>S</td>\n    </tr>\n    <tr>\n      <th>1</th>\n      <td>2</td>\n      <td>1</td>\n      <td>1</td>\n      <td>Cumings, Mrs. John Bradley (Florence Briggs Th...</td>\n      <td>female</td>\n      <td>38.0</td>\n      <td>1</td>\n      <td>0</td>\n      <td>PC 17599</td>\n      <td>71.2833</td>\n      <td>C85</td>\n      <td>C</td>\n    </tr>\n    <tr>\n      <th>2</th>\n      <td>3</td>\n      <td>1</td>\n      <td>3</td>\n      <td>Heikkinen, Miss. Laina</td>\n      <td>female</td>\n      <td>26.0</td>\n      <td>0</td>\n      <td>0</td>\n      <td>STON/O2. 3101282</td>\n      <td>7.9250</td>\n      <td>NaN</td>\n      <td>S</td>\n    </tr>\n    <tr>\n      <th>3</th>\n      <td>4</td>\n      <td>1</td>\n      <td>1</td>\n      <td>Futrelle, Mrs. Jacques Heath (Lily May Peel)</td>\n      <td>female</td>\n      <td>35.0</td>\n      <td>1</td>\n      <td>0</td>\n      <td>113803</td>\n      <td>53.1000</td>\n      <td>C123</td>\n      <td>S</td>\n    </tr>\n    <tr>\n      <th>4</th>\n      <td>5</td>\n      <td>0</td>\n      <td>3</td>\n      <td>Allen, Mr. William Henry</td>\n      <td>male</td>\n      <td>35.0</td>\n      <td>0</td>\n      <td>0</td>\n      <td>373450</td>\n      <td>8.0500</td>\n      <td>NaN</td>\n      <td>S</td>\n    </tr>\n  </tbody>\n</table>\n</div>"
                    },
                    "metadata": {},
                    "execution_count": 44,
                    "output_type": "execute_result"
                }
            ],
            "execution_count": 44
        },
        {
            "cell_type": "markdown",
            "source": [
                "\\# Keep only the rows which contain 2 missing values maximum:"
            ],
            "metadata": {
                "azdata_cell_guid": "f5921cbe-f3ce-4880-b56b-5e2d0b394efe"
            }
        },
        {
            "cell_type": "code",
            "source": [
                "df.dropna(axis=1, thresh=2)\n",
                "df.head()"
            ],
            "metadata": {
                "azdata_cell_guid": "643323ca-bdfa-48b0-924d-21fe8091cfc8",
                "language": "python"
            },
            "outputs": [
                {
                    "data": {
                        "text/plain": "   PassengerId  Survived  Pclass  \\\n0            1         0       3   \n1            2         1       1   \n2            3         1       3   \n3            4         1       1   \n4            5         0       3   \n\n                                                Name     Sex   Age  SibSp  \\\n0                            Braund, Mr. Owen Harris    male  22.0      1   \n1  Cumings, Mrs. John Bradley (Florence Briggs Th...  female  38.0      1   \n2                             Heikkinen, Miss. Laina  female  26.0      0   \n3       Futrelle, Mrs. Jacques Heath (Lily May Peel)  female  35.0      1   \n4                           Allen, Mr. William Henry    male  35.0      0   \n\n   Parch            Ticket     Fare Cabin Embarked  \n0      0         A/5 21171   7.2500   NaN        S  \n1      0          PC 17599  71.2833   C85        C  \n2      0  STON/O2. 3101282   7.9250   NaN        S  \n3      0            113803  53.1000  C123        S  \n4      0            373450   8.0500   NaN        S  ",
                        "text/html": "<div>\n<style scoped>\n    .dataframe tbody tr th:only-of-type {\n        vertical-align: middle;\n    }\n\n    .dataframe tbody tr th {\n        vertical-align: top;\n    }\n\n    .dataframe thead th {\n        text-align: right;\n    }\n</style>\n<table border=\"1\" class=\"dataframe\">\n  <thead>\n    <tr style=\"text-align: right;\">\n      <th></th>\n      <th>PassengerId</th>\n      <th>Survived</th>\n      <th>Pclass</th>\n      <th>Name</th>\n      <th>Sex</th>\n      <th>Age</th>\n      <th>SibSp</th>\n      <th>Parch</th>\n      <th>Ticket</th>\n      <th>Fare</th>\n      <th>Cabin</th>\n      <th>Embarked</th>\n    </tr>\n  </thead>\n  <tbody>\n    <tr>\n      <th>0</th>\n      <td>1</td>\n      <td>0</td>\n      <td>3</td>\n      <td>Braund, Mr. Owen Harris</td>\n      <td>male</td>\n      <td>22.0</td>\n      <td>1</td>\n      <td>0</td>\n      <td>A/5 21171</td>\n      <td>7.2500</td>\n      <td>NaN</td>\n      <td>S</td>\n    </tr>\n    <tr>\n      <th>1</th>\n      <td>2</td>\n      <td>1</td>\n      <td>1</td>\n      <td>Cumings, Mrs. John Bradley (Florence Briggs Th...</td>\n      <td>female</td>\n      <td>38.0</td>\n      <td>1</td>\n      <td>0</td>\n      <td>PC 17599</td>\n      <td>71.2833</td>\n      <td>C85</td>\n      <td>C</td>\n    </tr>\n    <tr>\n      <th>2</th>\n      <td>3</td>\n      <td>1</td>\n      <td>3</td>\n      <td>Heikkinen, Miss. Laina</td>\n      <td>female</td>\n      <td>26.0</td>\n      <td>0</td>\n      <td>0</td>\n      <td>STON/O2. 3101282</td>\n      <td>7.9250</td>\n      <td>NaN</td>\n      <td>S</td>\n    </tr>\n    <tr>\n      <th>3</th>\n      <td>4</td>\n      <td>1</td>\n      <td>1</td>\n      <td>Futrelle, Mrs. Jacques Heath (Lily May Peel)</td>\n      <td>female</td>\n      <td>35.0</td>\n      <td>1</td>\n      <td>0</td>\n      <td>113803</td>\n      <td>53.1000</td>\n      <td>C123</td>\n      <td>S</td>\n    </tr>\n    <tr>\n      <th>4</th>\n      <td>5</td>\n      <td>0</td>\n      <td>3</td>\n      <td>Allen, Mr. William Henry</td>\n      <td>male</td>\n      <td>35.0</td>\n      <td>0</td>\n      <td>0</td>\n      <td>373450</td>\n      <td>8.0500</td>\n      <td>NaN</td>\n      <td>S</td>\n    </tr>\n  </tbody>\n</table>\n</div>"
                    },
                    "metadata": {},
                    "execution_count": 45,
                    "output_type": "execute_result"
                }
            ],
            "execution_count": 45
        },
        {
            "cell_type": "markdown",
            "source": [
                "\\# Fill all missing values with the mean of the particular column:"
            ],
            "metadata": {
                "azdata_cell_guid": "e23c689e-63bd-48c6-a564-9b8ff9101828"
            }
        },
        {
            "cell_type": "code",
            "source": [
                "# We choose to amend missing values with the mean of Age\n",
                "df['Age'] = df['Age'].fillna(df['Age'].mean())\n",
                "df.head()"
            ],
            "metadata": {
                "azdata_cell_guid": "319c8ecb-0caa-498c-a6b4-0b7e90a59d7a",
                "language": "python"
            },
            "outputs": [
                {
                    "data": {
                        "text/plain": "   PassengerId  Survived  Pclass  \\\n0            1         0       3   \n1            2         1       1   \n2            3         1       3   \n3            4         1       1   \n4            5         0       3   \n\n                                                Name     Sex   Age  SibSp  \\\n0                            Braund, Mr. Owen Harris    male  22.0      1   \n1  Cumings, Mrs. John Bradley (Florence Briggs Th...  female  38.0      1   \n2                             Heikkinen, Miss. Laina  female  26.0      0   \n3       Futrelle, Mrs. Jacques Heath (Lily May Peel)  female  35.0      1   \n4                           Allen, Mr. William Henry    male  35.0      0   \n\n   Parch            Ticket     Fare Cabin Embarked  \n0      0         A/5 21171   7.2500   NaN        S  \n1      0          PC 17599  71.2833   C85        C  \n2      0  STON/O2. 3101282   7.9250   NaN        S  \n3      0            113803  53.1000  C123        S  \n4      0            373450   8.0500   NaN        S  ",
                        "text/html": "<div>\n<style scoped>\n    .dataframe tbody tr th:only-of-type {\n        vertical-align: middle;\n    }\n\n    .dataframe tbody tr th {\n        vertical-align: top;\n    }\n\n    .dataframe thead th {\n        text-align: right;\n    }\n</style>\n<table border=\"1\" class=\"dataframe\">\n  <thead>\n    <tr style=\"text-align: right;\">\n      <th></th>\n      <th>PassengerId</th>\n      <th>Survived</th>\n      <th>Pclass</th>\n      <th>Name</th>\n      <th>Sex</th>\n      <th>Age</th>\n      <th>SibSp</th>\n      <th>Parch</th>\n      <th>Ticket</th>\n      <th>Fare</th>\n      <th>Cabin</th>\n      <th>Embarked</th>\n    </tr>\n  </thead>\n  <tbody>\n    <tr>\n      <th>0</th>\n      <td>1</td>\n      <td>0</td>\n      <td>3</td>\n      <td>Braund, Mr. Owen Harris</td>\n      <td>male</td>\n      <td>22.0</td>\n      <td>1</td>\n      <td>0</td>\n      <td>A/5 21171</td>\n      <td>7.2500</td>\n      <td>NaN</td>\n      <td>S</td>\n    </tr>\n    <tr>\n      <th>1</th>\n      <td>2</td>\n      <td>1</td>\n      <td>1</td>\n      <td>Cumings, Mrs. John Bradley (Florence Briggs Th...</td>\n      <td>female</td>\n      <td>38.0</td>\n      <td>1</td>\n      <td>0</td>\n      <td>PC 17599</td>\n      <td>71.2833</td>\n      <td>C85</td>\n      <td>C</td>\n    </tr>\n    <tr>\n      <th>2</th>\n      <td>3</td>\n      <td>1</td>\n      <td>3</td>\n      <td>Heikkinen, Miss. Laina</td>\n      <td>female</td>\n      <td>26.0</td>\n      <td>0</td>\n      <td>0</td>\n      <td>STON/O2. 3101282</td>\n      <td>7.9250</td>\n      <td>NaN</td>\n      <td>S</td>\n    </tr>\n    <tr>\n      <th>3</th>\n      <td>4</td>\n      <td>1</td>\n      <td>1</td>\n      <td>Futrelle, Mrs. Jacques Heath (Lily May Peel)</td>\n      <td>female</td>\n      <td>35.0</td>\n      <td>1</td>\n      <td>0</td>\n      <td>113803</td>\n      <td>53.1000</td>\n      <td>C123</td>\n      <td>S</td>\n    </tr>\n    <tr>\n      <th>4</th>\n      <td>5</td>\n      <td>0</td>\n      <td>3</td>\n      <td>Allen, Mr. William Henry</td>\n      <td>male</td>\n      <td>35.0</td>\n      <td>0</td>\n      <td>0</td>\n      <td>373450</td>\n      <td>8.0500</td>\n      <td>NaN</td>\n      <td>S</td>\n    </tr>\n  </tbody>\n</table>\n</div>"
                    },
                    "metadata": {},
                    "execution_count": 46,
                    "output_type": "execute_result"
                }
            ],
            "execution_count": 46
        },
        {
            "cell_type": "markdown",
            "source": [
                "\\# Fill any missing value in column 'A' with the column median:"
            ],
            "metadata": {
                "azdata_cell_guid": "56db307a-b56d-45b5-86a2-dabffbb4bfa2"
            }
        },
        {
            "cell_type": "code",
            "source": [
                "# df['Age'] = df['Age'].fillna(df['Age'].median())\n",
                "df['Age'].fillna(df['Age'].median())\n",
                "df.head()"
            ],
            "metadata": {
                "azdata_cell_guid": "a3ba5a7d-446b-4782-b481-8d7cfd47f78b",
                "language": "python"
            },
            "outputs": [
                {
                    "data": {
                        "text/plain": "   PassengerId  Survived  Pclass  \\\n0            1         0       3   \n1            2         1       1   \n2            3         1       3   \n3            4         1       1   \n4            5         0       3   \n\n                                                Name     Sex   Age  SibSp  \\\n0                            Braund, Mr. Owen Harris    male  22.0      1   \n1  Cumings, Mrs. John Bradley (Florence Briggs Th...  female  38.0      1   \n2                             Heikkinen, Miss. Laina  female  26.0      0   \n3       Futrelle, Mrs. Jacques Heath (Lily May Peel)  female  35.0      1   \n4                           Allen, Mr. William Henry    male  35.0      0   \n\n   Parch            Ticket     Fare Cabin Embarked  \n0      0         A/5 21171   7.2500   NaN        S  \n1      0          PC 17599  71.2833   C85        C  \n2      0  STON/O2. 3101282   7.9250   NaN        S  \n3      0            113803  53.1000  C123        S  \n4      0            373450   8.0500   NaN        S  ",
                        "text/html": "<div>\n<style scoped>\n    .dataframe tbody tr th:only-of-type {\n        vertical-align: middle;\n    }\n\n    .dataframe tbody tr th {\n        vertical-align: top;\n    }\n\n    .dataframe thead th {\n        text-align: right;\n    }\n</style>\n<table border=\"1\" class=\"dataframe\">\n  <thead>\n    <tr style=\"text-align: right;\">\n      <th></th>\n      <th>PassengerId</th>\n      <th>Survived</th>\n      <th>Pclass</th>\n      <th>Name</th>\n      <th>Sex</th>\n      <th>Age</th>\n      <th>SibSp</th>\n      <th>Parch</th>\n      <th>Ticket</th>\n      <th>Fare</th>\n      <th>Cabin</th>\n      <th>Embarked</th>\n    </tr>\n  </thead>\n  <tbody>\n    <tr>\n      <th>0</th>\n      <td>1</td>\n      <td>0</td>\n      <td>3</td>\n      <td>Braund, Mr. Owen Harris</td>\n      <td>male</td>\n      <td>22.0</td>\n      <td>1</td>\n      <td>0</td>\n      <td>A/5 21171</td>\n      <td>7.2500</td>\n      <td>NaN</td>\n      <td>S</td>\n    </tr>\n    <tr>\n      <th>1</th>\n      <td>2</td>\n      <td>1</td>\n      <td>1</td>\n      <td>Cumings, Mrs. John Bradley (Florence Briggs Th...</td>\n      <td>female</td>\n      <td>38.0</td>\n      <td>1</td>\n      <td>0</td>\n      <td>PC 17599</td>\n      <td>71.2833</td>\n      <td>C85</td>\n      <td>C</td>\n    </tr>\n    <tr>\n      <th>2</th>\n      <td>3</td>\n      <td>1</td>\n      <td>3</td>\n      <td>Heikkinen, Miss. Laina</td>\n      <td>female</td>\n      <td>26.0</td>\n      <td>0</td>\n      <td>0</td>\n      <td>STON/O2. 3101282</td>\n      <td>7.9250</td>\n      <td>NaN</td>\n      <td>S</td>\n    </tr>\n    <tr>\n      <th>3</th>\n      <td>4</td>\n      <td>1</td>\n      <td>1</td>\n      <td>Futrelle, Mrs. Jacques Heath (Lily May Peel)</td>\n      <td>female</td>\n      <td>35.0</td>\n      <td>1</td>\n      <td>0</td>\n      <td>113803</td>\n      <td>53.1000</td>\n      <td>C123</td>\n      <td>S</td>\n    </tr>\n    <tr>\n      <th>4</th>\n      <td>5</td>\n      <td>0</td>\n      <td>3</td>\n      <td>Allen, Mr. William Henry</td>\n      <td>male</td>\n      <td>35.0</td>\n      <td>0</td>\n      <td>0</td>\n      <td>373450</td>\n      <td>8.0500</td>\n      <td>NaN</td>\n      <td>S</td>\n    </tr>\n  </tbody>\n</table>\n</div>"
                    },
                    "metadata": {},
                    "execution_count": 47,
                    "output_type": "execute_result"
                }
            ],
            "execution_count": 47
        },
        {
            "cell_type": "markdown",
            "source": [
                "### 3. Look at the statistical summary of the prepared dataset:"
            ],
            "metadata": {
                "azdata_cell_guid": "8f4a0a21-98d4-40b9-b3ec-ed20cd1c3e6b"
            }
        },
        {
            "cell_type": "code",
            "source": [
                "print(df.describe().round(2))"
            ],
            "metadata": {
                "azdata_cell_guid": "964c5d2b-929d-46a3-a655-fce950bea974",
                "language": "python"
            },
            "outputs": [
                {
                    "name": "stdout",
                    "text": "       PassengerId  Survived  Pclass     Age   SibSp   Parch    Fare\ncount       891.00    891.00  891.00  891.00  891.00  891.00  891.00\nmean        446.00      0.38    2.31   29.70    0.52    0.38   32.20\nstd         257.35      0.49    0.84   13.00    1.10    0.81   49.69\nmin           1.00      0.00    1.00    0.42    0.00    0.00    0.00\n25%         223.50      0.00    2.00   22.00    0.00    0.00    7.91\n50%         446.00      0.00    3.00   29.70    0.00    0.00   14.45\n75%         668.50      1.00    3.00   35.00    1.00    0.00   31.00\nmax         891.00      1.00    3.00   80.00    8.00    6.00  512.33\n",
                    "output_type": "stream"
                }
            ],
            "execution_count": 48
        },
        {
            "cell_type": "markdown",
            "source": [
                "### 4. Look at the statistical summary for categorical variables:"
            ],
            "metadata": {
                "azdata_cell_guid": "9db32987-bf25-45f9-b320-8852470f2016"
            }
        },
        {
            "cell_type": "code",
            "source": [
                "categorical = df.dtypes[df.dtypes == \"object\"].index\n",
                "print(categorical)\n",
                "df[categorical].describe()"
            ],
            "metadata": {
                "azdata_cell_guid": "1a17f2d6-dc2a-44ad-9e45-3b6e9b960547",
                "language": "python"
            },
            "outputs": [
                {
                    "name": "stdout",
                    "text": "Index(['Name', 'Sex', 'Ticket', 'Cabin', 'Embarked'], dtype='object')\n",
                    "output_type": "stream"
                },
                {
                    "data": {
                        "text/plain": "                           Name   Sex  Ticket    Cabin Embarked\ncount                       891   891     891      204      889\nunique                      891     2     681      147        3\ntop     Braund, Mr. Owen Harris  male  347082  B96 B98        S\nfreq                          1   577       7        4      644",
                        "text/html": "<div>\n<style scoped>\n    .dataframe tbody tr th:only-of-type {\n        vertical-align: middle;\n    }\n\n    .dataframe tbody tr th {\n        vertical-align: top;\n    }\n\n    .dataframe thead th {\n        text-align: right;\n    }\n</style>\n<table border=\"1\" class=\"dataframe\">\n  <thead>\n    <tr style=\"text-align: right;\">\n      <th></th>\n      <th>Name</th>\n      <th>Sex</th>\n      <th>Ticket</th>\n      <th>Cabin</th>\n      <th>Embarked</th>\n    </tr>\n  </thead>\n  <tbody>\n    <tr>\n      <th>count</th>\n      <td>891</td>\n      <td>891</td>\n      <td>891</td>\n      <td>204</td>\n      <td>889</td>\n    </tr>\n    <tr>\n      <th>unique</th>\n      <td>891</td>\n      <td>2</td>\n      <td>681</td>\n      <td>147</td>\n      <td>3</td>\n    </tr>\n    <tr>\n      <th>top</th>\n      <td>Braund, Mr. Owen Harris</td>\n      <td>male</td>\n      <td>347082</td>\n      <td>B96 B98</td>\n      <td>S</td>\n    </tr>\n    <tr>\n      <th>freq</th>\n      <td>1</td>\n      <td>577</td>\n      <td>7</td>\n      <td>4</td>\n      <td>644</td>\n    </tr>\n  </tbody>\n</table>\n</div>"
                    },
                    "metadata": {},
                    "execution_count": 49,
                    "output_type": "execute_result"
                }
            ],
            "execution_count": 49
        },
        {
            "cell_type": "markdown",
            "source": [
                "### 5. Identify categorical variables and explain why they cannot be used in the raw form in the analysis."
            ],
            "metadata": {
                "azdata_cell_guid": "057e3850-1c03-42e0-b035-73b4a8d120dd"
            }
        },
        {
            "cell_type": "markdown",
            "source": [
                "Categorical variables: Name, Sex, Ticket, Cabin and Embarked<br>\n",
                "These cannot be used in the raw form because it cannot be directly interpreted in machine learning models. It cannot fit into a regression equation without treating it."
            ],
            "metadata": {
                "azdata_cell_guid": "0c9e3128-6764-4bf2-9aae-a1fbdb37e377"
            }
        },
        {
            "cell_type": "markdown",
            "source": [
                "### 6. Transform one of the categorical variables into numerical using label encoder method."
            ],
            "metadata": {
                "azdata_cell_guid": "dd85b19a-f8e9-407c-a0f3-5e1b2071b5d4"
            }
        },
        {
            "cell_type": "code",
            "source": [
                "from sklearn.preprocessing import LabelEncoder\n",
                "\n",
                "le = LabelEncoder()\n",
                "EmbarkedEncoded = le.fit_transform(df['Embarked'])\n",
                "df['EmbarkedEncoded'] = EmbarkedEncoded\n",
                "# df.drop('Embarked', axis=1, inplace=True)\n",
                "df.head()"
            ],
            "metadata": {
                "azdata_cell_guid": "bb577c14-987b-4914-8da1-c7fec28363ec",
                "language": "python"
            },
            "outputs": [
                {
                    "data": {
                        "text/plain": "   PassengerId  Survived  Pclass  \\\n0            1         0       3   \n1            2         1       1   \n2            3         1       3   \n3            4         1       1   \n4            5         0       3   \n\n                                                Name     Sex   Age  SibSp  \\\n0                            Braund, Mr. Owen Harris    male  22.0      1   \n1  Cumings, Mrs. John Bradley (Florence Briggs Th...  female  38.0      1   \n2                             Heikkinen, Miss. Laina  female  26.0      0   \n3       Futrelle, Mrs. Jacques Heath (Lily May Peel)  female  35.0      1   \n4                           Allen, Mr. William Henry    male  35.0      0   \n\n   Parch            Ticket     Fare Cabin Embarked  EmbarkedEncoded  \n0      0         A/5 21171   7.2500   NaN        S                2  \n1      0          PC 17599  71.2833   C85        C                0  \n2      0  STON/O2. 3101282   7.9250   NaN        S                2  \n3      0            113803  53.1000  C123        S                2  \n4      0            373450   8.0500   NaN        S                2  ",
                        "text/html": "<div>\n<style scoped>\n    .dataframe tbody tr th:only-of-type {\n        vertical-align: middle;\n    }\n\n    .dataframe tbody tr th {\n        vertical-align: top;\n    }\n\n    .dataframe thead th {\n        text-align: right;\n    }\n</style>\n<table border=\"1\" class=\"dataframe\">\n  <thead>\n    <tr style=\"text-align: right;\">\n      <th></th>\n      <th>PassengerId</th>\n      <th>Survived</th>\n      <th>Pclass</th>\n      <th>Name</th>\n      <th>Sex</th>\n      <th>Age</th>\n      <th>SibSp</th>\n      <th>Parch</th>\n      <th>Ticket</th>\n      <th>Fare</th>\n      <th>Cabin</th>\n      <th>Embarked</th>\n      <th>EmbarkedEncoded</th>\n    </tr>\n  </thead>\n  <tbody>\n    <tr>\n      <th>0</th>\n      <td>1</td>\n      <td>0</td>\n      <td>3</td>\n      <td>Braund, Mr. Owen Harris</td>\n      <td>male</td>\n      <td>22.0</td>\n      <td>1</td>\n      <td>0</td>\n      <td>A/5 21171</td>\n      <td>7.2500</td>\n      <td>NaN</td>\n      <td>S</td>\n      <td>2</td>\n    </tr>\n    <tr>\n      <th>1</th>\n      <td>2</td>\n      <td>1</td>\n      <td>1</td>\n      <td>Cumings, Mrs. John Bradley (Florence Briggs Th...</td>\n      <td>female</td>\n      <td>38.0</td>\n      <td>1</td>\n      <td>0</td>\n      <td>PC 17599</td>\n      <td>71.2833</td>\n      <td>C85</td>\n      <td>C</td>\n      <td>0</td>\n    </tr>\n    <tr>\n      <th>2</th>\n      <td>3</td>\n      <td>1</td>\n      <td>3</td>\n      <td>Heikkinen, Miss. Laina</td>\n      <td>female</td>\n      <td>26.0</td>\n      <td>0</td>\n      <td>0</td>\n      <td>STON/O2. 3101282</td>\n      <td>7.9250</td>\n      <td>NaN</td>\n      <td>S</td>\n      <td>2</td>\n    </tr>\n    <tr>\n      <th>3</th>\n      <td>4</td>\n      <td>1</td>\n      <td>1</td>\n      <td>Futrelle, Mrs. Jacques Heath (Lily May Peel)</td>\n      <td>female</td>\n      <td>35.0</td>\n      <td>1</td>\n      <td>0</td>\n      <td>113803</td>\n      <td>53.1000</td>\n      <td>C123</td>\n      <td>S</td>\n      <td>2</td>\n    </tr>\n    <tr>\n      <th>4</th>\n      <td>5</td>\n      <td>0</td>\n      <td>3</td>\n      <td>Allen, Mr. William Henry</td>\n      <td>male</td>\n      <td>35.0</td>\n      <td>0</td>\n      <td>0</td>\n      <td>373450</td>\n      <td>8.0500</td>\n      <td>NaN</td>\n      <td>S</td>\n      <td>2</td>\n    </tr>\n  </tbody>\n</table>\n</div>"
                    },
                    "metadata": {},
                    "execution_count": 50,
                    "output_type": "execute_result"
                }
            ],
            "execution_count": 50
        },
        {
            "cell_type": "markdown",
            "source": [
                "### 7. Transform gender into numerical variable using dummy coding."
            ],
            "metadata": {
                "azdata_cell_guid": "064aa908-7eb1-435f-b525-2aedd4844b77"
            }
        },
        {
            "cell_type": "code",
            "source": [
                "df_new = pd.get_dummies(df, columns=[\"Sex\"])\n",
                "# df_new = df_new.drop('Sex_male', axis=1, inplace=True)\n",
                "df_new.head()"
            ],
            "metadata": {
                "scrolled": true,
                "azdata_cell_guid": "f518abc4-dc98-472f-847c-64705f5ff605",
                "language": "python"
            },
            "outputs": [
                {
                    "data": {
                        "text/plain": "   PassengerId  Survived  Pclass  \\\n0            1         0       3   \n1            2         1       1   \n2            3         1       3   \n3            4         1       1   \n4            5         0       3   \n\n                                                Name   Age  SibSp  Parch  \\\n0                            Braund, Mr. Owen Harris  22.0      1      0   \n1  Cumings, Mrs. John Bradley (Florence Briggs Th...  38.0      1      0   \n2                             Heikkinen, Miss. Laina  26.0      0      0   \n3       Futrelle, Mrs. Jacques Heath (Lily May Peel)  35.0      1      0   \n4                           Allen, Mr. William Henry  35.0      0      0   \n\n             Ticket     Fare Cabin Embarked  EmbarkedEncoded  Sex_female  \\\n0         A/5 21171   7.2500   NaN        S                2           0   \n1          PC 17599  71.2833   C85        C                0           1   \n2  STON/O2. 3101282   7.9250   NaN        S                2           1   \n3            113803  53.1000  C123        S                2           1   \n4            373450   8.0500   NaN        S                2           0   \n\n   Sex_male  \n0         1  \n1         0  \n2         0  \n3         0  \n4         1  ",
                        "text/html": "<div>\n<style scoped>\n    .dataframe tbody tr th:only-of-type {\n        vertical-align: middle;\n    }\n\n    .dataframe tbody tr th {\n        vertical-align: top;\n    }\n\n    .dataframe thead th {\n        text-align: right;\n    }\n</style>\n<table border=\"1\" class=\"dataframe\">\n  <thead>\n    <tr style=\"text-align: right;\">\n      <th></th>\n      <th>PassengerId</th>\n      <th>Survived</th>\n      <th>Pclass</th>\n      <th>Name</th>\n      <th>Age</th>\n      <th>SibSp</th>\n      <th>Parch</th>\n      <th>Ticket</th>\n      <th>Fare</th>\n      <th>Cabin</th>\n      <th>Embarked</th>\n      <th>EmbarkedEncoded</th>\n      <th>Sex_female</th>\n      <th>Sex_male</th>\n    </tr>\n  </thead>\n  <tbody>\n    <tr>\n      <th>0</th>\n      <td>1</td>\n      <td>0</td>\n      <td>3</td>\n      <td>Braund, Mr. Owen Harris</td>\n      <td>22.0</td>\n      <td>1</td>\n      <td>0</td>\n      <td>A/5 21171</td>\n      <td>7.2500</td>\n      <td>NaN</td>\n      <td>S</td>\n      <td>2</td>\n      <td>0</td>\n      <td>1</td>\n    </tr>\n    <tr>\n      <th>1</th>\n      <td>2</td>\n      <td>1</td>\n      <td>1</td>\n      <td>Cumings, Mrs. John Bradley (Florence Briggs Th...</td>\n      <td>38.0</td>\n      <td>1</td>\n      <td>0</td>\n      <td>PC 17599</td>\n      <td>71.2833</td>\n      <td>C85</td>\n      <td>C</td>\n      <td>0</td>\n      <td>1</td>\n      <td>0</td>\n    </tr>\n    <tr>\n      <th>2</th>\n      <td>3</td>\n      <td>1</td>\n      <td>3</td>\n      <td>Heikkinen, Miss. Laina</td>\n      <td>26.0</td>\n      <td>0</td>\n      <td>0</td>\n      <td>STON/O2. 3101282</td>\n      <td>7.9250</td>\n      <td>NaN</td>\n      <td>S</td>\n      <td>2</td>\n      <td>1</td>\n      <td>0</td>\n    </tr>\n    <tr>\n      <th>3</th>\n      <td>4</td>\n      <td>1</td>\n      <td>1</td>\n      <td>Futrelle, Mrs. Jacques Heath (Lily May Peel)</td>\n      <td>35.0</td>\n      <td>1</td>\n      <td>0</td>\n      <td>113803</td>\n      <td>53.1000</td>\n      <td>C123</td>\n      <td>S</td>\n      <td>2</td>\n      <td>1</td>\n      <td>0</td>\n    </tr>\n    <tr>\n      <th>4</th>\n      <td>5</td>\n      <td>0</td>\n      <td>3</td>\n      <td>Allen, Mr. William Henry</td>\n      <td>35.0</td>\n      <td>0</td>\n      <td>0</td>\n      <td>373450</td>\n      <td>8.0500</td>\n      <td>NaN</td>\n      <td>S</td>\n      <td>2</td>\n      <td>0</td>\n      <td>1</td>\n    </tr>\n  </tbody>\n</table>\n</div>"
                    },
                    "metadata": {},
                    "execution_count": 51,
                    "output_type": "execute_result"
                }
            ],
            "execution_count": 51
        },
        {
            "cell_type": "markdown",
            "source": [
                "### Additional data cleaning:"
            ],
            "metadata": {
                "azdata_cell_guid": "43b33bd8-4b81-4dcc-81d2-f526107dea25"
            }
        },
        {
            "cell_type": "markdown",
            "source": [
                "- PassengerId, Ticket, Embarked, and Sex_female should be dropped.<br>\n",
                "    The first is just an arbitrary integer value, the second one is distinct for every passenger, Embarked is encoded, and only 1 feature need for Sex"
            ],
            "metadata": {
                "azdata_cell_guid": "27d64d3e-4583-4b05-999c-3a3d0dbe9e25"
            }
        },
        {
            "cell_type": "code",
            "source": [
                "df_new.drop(['Ticket', 'PassengerId','Embarked', 'Sex_female'], axis=1, inplace=True)"
            ],
            "metadata": {
                "azdata_cell_guid": "c5b540d9-4d7f-4211-b725-cd8da0586e91",
                "language": "python"
            },
            "outputs": [],
            "execution_count": 52
        },
        {
            "cell_type": "markdown",
            "source": [
                "- Title (Mr., Mrs., Miss,etc) should be extracted from Name, and those should be further converted into 0 if the title is common (Mr., Miss.) and 1 if it isn’t (Dr., Rev., Capt.)."
            ],
            "metadata": {
                "azdata_cell_guid": "2e3e4c28-a91c-49dd-a598-a476e6b4b7ad"
            }
        },
        {
            "cell_type": "code",
            "source": [
                "df_new['Title'] = df_new['Name'].apply(lambda x: x.split(',')[1].strip().split(' ')[0])\n",
                "df_new['Title'] = [0 if x in ['Mr.', 'Miss.', 'Mrs.'] else 1 for x in df_new['Title']]\n",
                "df_new = df_new.rename(columns={'Title': 'TitleUnusual'})"
            ],
            "metadata": {
                "scrolled": true,
                "azdata_cell_guid": "aabf553b-daa3-4133-92ef-ef003cb20118",
                "language": "python"
            },
            "outputs": [],
            "execution_count": 53
        },
        {
            "cell_type": "markdown",
            "source": [
                "- Finally, Name should be dropped."
            ],
            "metadata": {
                "azdata_cell_guid": "e1067966-d507-43b3-a6a2-686f4fa8a1d4"
            }
        },
        {
            "cell_type": "code",
            "source": [
                "df_new.drop('Name', axis=1, inplace=True)"
            ],
            "metadata": {
                "azdata_cell_guid": "b19bedda-b42d-49ec-a8f8-dc99f27c58f7",
                "language": "python"
            },
            "outputs": [],
            "execution_count": 54
        },
        {
            "cell_type": "markdown",
            "source": [
                "- Cabin should be replaced with Cabin_Known — 0 if the value is NaN otherwise 1."
            ],
            "metadata": {
                "azdata_cell_guid": "22a35b59-e207-45b6-8db6-e0b573905d46"
            }
        },
        {
            "cell_type": "code",
            "source": [
                "df_new['Cabin_Known'] = [0 if str(x) == 'nan' else 1 for x in df_new['Cabin']]\n",
                "df_new.drop('Cabin', axis=1, inplace=True)"
            ],
            "metadata": {
                "azdata_cell_guid": "91cdc208-e104-4c45-aba9-fe3ee00340df",
                "language": "python"
            },
            "outputs": [],
            "execution_count": 55
        },
        {
            "cell_type": "code",
            "source": [
                "# Dummy columns should be created from Embarked and first dummy column should be dropped to avoid collinearity issues.\n",
                "# emb_dummies = pd.get_dummies(df_new['Embarked'], drop_first=True, prefix='Embarked')\n",
                "# df_new = pd.concat([df_new, emb_dummies], axis=1)\n",
                "# df_new.drop('Embarked', axis=1, inplace=True)"
            ],
            "metadata": {
                "azdata_cell_guid": "8132e26b-5b54-4b79-8339-20892becd200",
                "language": "python"
            },
            "outputs": [],
            "execution_count": 56
        },
        {
            "cell_type": "code",
            "source": [
                "df_new.head()"
            ],
            "metadata": {
                "azdata_cell_guid": "4303355a-6eb9-4aad-a12a-30580b65f3b7",
                "language": "python"
            },
            "outputs": [
                {
                    "data": {
                        "text/plain": "   Survived  Pclass   Age  SibSp  Parch     Fare  EmbarkedEncoded  Sex_male  \\\n0         0       3  22.0      1      0   7.2500                2         1   \n1         1       1  38.0      1      0  71.2833                0         0   \n2         1       3  26.0      0      0   7.9250                2         0   \n3         1       1  35.0      1      0  53.1000                2         0   \n4         0       3  35.0      0      0   8.0500                2         1   \n\n   TitleUnusual  Cabin_Known  \n0             0            0  \n1             0            1  \n2             0            0  \n3             0            1  \n4             0            0  ",
                        "text/html": "<div>\n<style scoped>\n    .dataframe tbody tr th:only-of-type {\n        vertical-align: middle;\n    }\n\n    .dataframe tbody tr th {\n        vertical-align: top;\n    }\n\n    .dataframe thead th {\n        text-align: right;\n    }\n</style>\n<table border=\"1\" class=\"dataframe\">\n  <thead>\n    <tr style=\"text-align: right;\">\n      <th></th>\n      <th>Survived</th>\n      <th>Pclass</th>\n      <th>Age</th>\n      <th>SibSp</th>\n      <th>Parch</th>\n      <th>Fare</th>\n      <th>EmbarkedEncoded</th>\n      <th>Sex_male</th>\n      <th>TitleUnusual</th>\n      <th>Cabin_Known</th>\n    </tr>\n  </thead>\n  <tbody>\n    <tr>\n      <th>0</th>\n      <td>0</td>\n      <td>3</td>\n      <td>22.0</td>\n      <td>1</td>\n      <td>0</td>\n      <td>7.2500</td>\n      <td>2</td>\n      <td>1</td>\n      <td>0</td>\n      <td>0</td>\n    </tr>\n    <tr>\n      <th>1</th>\n      <td>1</td>\n      <td>1</td>\n      <td>38.0</td>\n      <td>1</td>\n      <td>0</td>\n      <td>71.2833</td>\n      <td>0</td>\n      <td>0</td>\n      <td>0</td>\n      <td>1</td>\n    </tr>\n    <tr>\n      <th>2</th>\n      <td>1</td>\n      <td>3</td>\n      <td>26.0</td>\n      <td>0</td>\n      <td>0</td>\n      <td>7.9250</td>\n      <td>2</td>\n      <td>0</td>\n      <td>0</td>\n      <td>0</td>\n    </tr>\n    <tr>\n      <th>3</th>\n      <td>1</td>\n      <td>1</td>\n      <td>35.0</td>\n      <td>1</td>\n      <td>0</td>\n      <td>53.1000</td>\n      <td>2</td>\n      <td>0</td>\n      <td>0</td>\n      <td>1</td>\n    </tr>\n    <tr>\n      <th>4</th>\n      <td>0</td>\n      <td>3</td>\n      <td>35.0</td>\n      <td>0</td>\n      <td>0</td>\n      <td>8.0500</td>\n      <td>2</td>\n      <td>1</td>\n      <td>0</td>\n      <td>0</td>\n    </tr>\n  </tbody>\n</table>\n</div>"
                    },
                    "metadata": {},
                    "execution_count": 57,
                    "output_type": "execute_result"
                }
            ],
            "execution_count": 57
        },
        {
            "cell_type": "markdown",
            "source": [
                "### 8. The target variable is Survived. You need to define the best subset of features, containing the most useful features and explain your reasons."
            ],
            "metadata": {
                "azdata_cell_guid": "f98c066e-0a2d-42ac-a12e-d9fe53b9a4bb"
            }
        },
        {
            "cell_type": "code",
            "source": [
                "features = df_new.columns\n",
                "features"
            ],
            "metadata": {
                "azdata_cell_guid": "d8e85b66-d8b5-4a6b-8e5e-cb310345b98c",
                "language": "python"
            },
            "outputs": [
                {
                    "data": {
                        "text/plain": "Index(['Survived', 'Pclass', 'Age', 'SibSp', 'Parch', 'Fare',\n       'EmbarkedEncoded', 'Sex_male', 'TitleUnusual', 'Cabin_Known'],\n      dtype='object')"
                    },
                    "metadata": {},
                    "execution_count": 58,
                    "output_type": "execute_result"
                }
            ],
            "execution_count": 58
        },
        {
            "cell_type": "code",
            "source": [
                "# Low Variance Filter\n",
                "def low_variance_filter(df_new, threshold):\n",
                "    variance = df_new.var()\n",
                "    features = df_new.columns\n",
                "    selectedVariables = []\n",
                "    for i in range(0, len(df_new.columns)):\n",
                "        if variance[i] >= threshold:\n",
                "            selectedVariables.append(features[i])\n",
                "    return selectedVariables"
            ],
            "metadata": {
                "azdata_cell_guid": "5517c818-583e-43f4-9362-f6d175785ca6",
                "language": "python"
            },
            "outputs": [],
            "execution_count": 59
        },
        {
            "cell_type": "code",
            "source": [
                "feature_selection_varianceThreshold = low_variance_filter(df_new, 0.2)\n",
                "df_new[feature_selection_varianceThreshold].shape"
            ],
            "metadata": {
                "azdata_cell_guid": "e81ef14f-d43b-4a75-89d5-808c4c4696cd",
                "language": "python"
            },
            "outputs": [
                {
                    "data": {
                        "text/plain": "(891, 8)"
                    },
                    "metadata": {},
                    "execution_count": 60,
                    "output_type": "execute_result"
                }
            ],
            "execution_count": 60
        },
        {
            "cell_type": "code",
            "source": [
                "from sklearn.feature_selection import VarianceThreshold\n",
                "\n",
                "selector = VarianceThreshold(threshold=0.2)\n",
                "selected_features = selector.fit_transform(df_new)\n",
                "selector.get_params()"
            ],
            "metadata": {
                "scrolled": true,
                "azdata_cell_guid": "87044d78-ec52-427d-a2cb-bb525076d241",
                "language": "python"
            },
            "outputs": [
                {
                    "data": {
                        "text/plain": "{'threshold': 0.2}"
                    },
                    "metadata": {},
                    "execution_count": 61,
                    "output_type": "execute_result"
                }
            ],
            "execution_count": 61
        },
        {
            "cell_type": "markdown",
            "source": [
                "Using Variance threshold filter method, the following Selected features are selected while removed those that are lower than set threshold. 0.20 is the threshold we've used. The assumption here is that those 8 features have higher variance possibly contain useful information for prediction. "
            ],
            "metadata": {
                "azdata_cell_guid": "6309f0ee-faa1-43e1-bf2c-c0df7ddc0e35"
            }
        },
        {
            "cell_type": "code",
            "source": [
                "from itertools import compress\n",
                "features_selected_VarianceThreshold = list(compress(df_new.columns, selector.get_support()))\n",
                "\n",
                "print(\"Selected Features:\")\n",
                "for i in range(len(features_selected_VarianceThreshold)):\n",
                "    print(features_selected_VarianceThreshold[i])"
            ],
            "metadata": {
                "azdata_cell_guid": "9c06674c-dc8f-4701-9d35-96304f32a1a9",
                "language": "python"
            },
            "outputs": [
                {
                    "name": "stdout",
                    "text": "Selected Features:\nSurvived\nPclass\nAge\nSibSp\nParch\nFare\nEmbarkedEncoded\nSex_male\n",
                    "output_type": "stream"
                }
            ],
            "execution_count": 62
        },
        {
            "cell_type": "markdown",
            "source": [
                "### 9. Fit the regression model and provide the performance measures."
            ],
            "metadata": {
                "azdata_cell_guid": "0af51e66-9b91-4b85-a428-54de3321b081"
            }
        },
        {
            "cell_type": "code",
            "source": [
                "from sklearn.model_selection import train_test_split\n",
                "\n",
                "# Create data and target variables\n",
                "df_new = df_new.filter(features_selected_VarianceThreshold)\n",
                "y_1 = df_new.loc[:, df_new.columns == 'Survived']\n",
                "x_1 = df_new.loc[:, df_new.columns != 'Survived']\n",
                "# x = df_new.loc[:, features_selected_VarianceThreshold.columns != 'Survived']\n",
                "\n",
                "\n",
                "# Split data into train and test\n",
                "x_1_train, x_1_test, y_1_train, y_1_test = train_test_split(x_1, y_1, test_size=0.3)"
            ],
            "metadata": {
                "azdata_cell_guid": "0950ec57-41bc-483a-96a2-e4fa4295381b",
                "language": "python"
            },
            "outputs": [],
            "execution_count": 63
        },
        {
            "cell_type": "code",
            "source": [
                "# Perform Logistic Regression\n",
                "from sklearn.linear_model import LogisticRegression\n",
                "\n",
                "lr_model = LogisticRegression(solver='lbfgs', max_iter=1000)\n",
                "lr_model.fit(x_1_train, y_1_train.values.ravel())"
            ],
            "metadata": {
                "azdata_cell_guid": "d4cfe124-ba2d-4976-aafc-6d50437a56d1",
                "language": "python"
            },
            "outputs": [
                {
                    "data": {
                        "text/plain": "LogisticRegression(max_iter=1000)"
                    },
                    "metadata": {},
                    "execution_count": 64,
                    "output_type": "execute_result"
                }
            ],
            "execution_count": 64
        },
        {
            "cell_type": "code",
            "source": [
                "# Import Performance measures\n",
                "from sklearn.metrics import classification_report, accuracy_score, mean_squared_error, confusion_matrix\n",
                "\n",
                "y_pred = lr_model.predict(x_1_test)"
            ],
            "metadata": {
                "azdata_cell_guid": "ce3de3f9-8c1f-4c14-88ee-91f12f808868",
                "language": "python"
            },
            "outputs": [],
            "execution_count": 65
        },
        {
            "cell_type": "code",
            "source": [
                "# Model Classification Report\n",
                "print(classification_report(y_1_test, y_pred))"
            ],
            "metadata": {
                "azdata_cell_guid": "710f9e57-0750-42fe-82e9-49c4c2f40138",
                "language": "python"
            },
            "outputs": [
                {
                    "name": "stdout",
                    "text": "              precision    recall  f1-score   support\n\n           0       0.80      0.84      0.82       162\n           1       0.73      0.68      0.71       106\n\n    accuracy                           0.78       268\n   macro avg       0.77      0.76      0.76       268\nweighted avg       0.77      0.78      0.77       268\n\n",
                    "output_type": "stream"
                }
            ],
            "execution_count": 66
        },
        {
            "cell_type": "code",
            "source": [
                "# Model Accuracy\n",
                "accuracy = accuracy_score(y_1_test, y_pred)\n",
                "print(\"Accuracy of the logistic regression model on test set: %3f\" %accuracy)"
            ],
            "metadata": {
                "azdata_cell_guid": "b5fc4714-fe9e-4b38-8006-70f7c24f6a59",
                "language": "python"
            },
            "outputs": [
                {
                    "name": "stdout",
                    "text": "Accuracy of the logistic regression model on test set: 0.776119\n",
                    "output_type": "stream"
                }
            ],
            "execution_count": 67
        },
        {
            "cell_type": "code",
            "source": [
                "# Calculate Mean Squared Error\n",
                "mse = mean_squared_error(y_1_test,y_pred)\n",
                "print(mse.round(3))"
            ],
            "metadata": {
                "azdata_cell_guid": "3aef161e-07a8-4a36-9892-db7b46e5ff47",
                "language": "python"
            },
            "outputs": [
                {
                    "name": "stdout",
                    "text": "0.224\n",
                    "output_type": "stream"
                }
            ],
            "execution_count": 68
        },
        {
            "cell_type": "code",
            "source": [
                "print(confusion_matrix(y_1_test, y_pred))"
            ],
            "metadata": {
                "azdata_cell_guid": "378f9291-b395-4ef6-b88b-cff15d3865f9",
                "language": "python"
            },
            "outputs": [
                {
                    "name": "stdout",
                    "text": "[[136  26]\n [ 34  72]]\n",
                    "output_type": "stream"
                }
            ],
            "execution_count": 69
        }
    ]
}