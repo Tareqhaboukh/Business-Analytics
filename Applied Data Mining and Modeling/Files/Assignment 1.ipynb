{
 "cells": [
  {
   "cell_type": "markdown",
   "id": "6c06add0",
   "metadata": {},
   "source": [
    "### Quiz 2 – Feature Selection\n",
    "Feature selection methods in Python<br>\n",
    "Tareq Haboukh\n",
    "\n",
    "### Instructions\n",
    "\n",
    "Download the dataset (Dataset.csv)"
   ]
  },
  {
   "cell_type": "markdown",
   "id": "92d7cd66",
   "metadata": {},
   "source": [
    "### Work in Python"
   ]
  },
  {
   "cell_type": "code",
   "execution_count": 2,
   "id": "b8df2188",
   "metadata": {},
   "outputs": [],
   "source": [
    "import pandas as pd\n",
    "import numpy as np\n",
    "import matplotlib.pyplot as plt\n",
    "\n",
    "from sklearn.feature_selection import VarianceThreshold\n",
    "from itertools import compress\n",
    "from sklearn.model_selection import train_test_split\n",
    "from sklearn.linear_model import LogisticRegression\n",
    "from sklearn.metrics import classification_report, accuracy_score, mean_squared_error, confusion_matrix\n",
    "\n",
    "Dataset = pd.read_csv(\"Dataset.csv\")\n",
    "df = pd.DataFrame(Dataset)"
   ]
  },
  {
   "cell_type": "code",
   "execution_count": 3,
   "id": "3d07d055",
   "metadata": {},
   "outputs": [],
   "source": [
    "def Logistic_Regression():\n",
    "\n",
    "    y = df.loc[:, df.columns == 'gnd']\n",
    "    x = df.loc[:, (df.columns != 'gnd') & (df.columns !='ID')]\n",
    "\n",
    "    x_train, x_test, y_train, y_test = train_test_split(x, y, test_size=0.3)\n",
    "    \n",
    "    lr_model = LogisticRegression(solver='lbfgs', max_iter=1000)\n",
    "    lr_model.fit(x_train, y_train.values.ravel())\n",
    "    \n",
    "    y_pred = lr_model.predict(x_test)\n",
    "    \n",
    "    accuracy = accuracy_score(y_test, y_pred)\n",
    "    print(\"Accuracy of the logistic regression model on test set: %3f\" %accuracy)"
   ]
  },
  {
   "cell_type": "code",
   "execution_count": 21,
   "id": "cf9d4807",
   "metadata": {},
   "outputs": [],
   "source": [
    "def Logistic_Regression_Variance_filter(VT):\n",
    "    selector = VarianceThreshold(threshold=VT)\n",
    "    selected_features = selector.fit_transform(df)\n",
    "    selector.get_params()\n",
    "\n",
    "    features_selected_VarianceThreshold = list(compress(df.columns, selector.get_support()))\n",
    "\n",
    "    df_new = df.filter(features_selected_VarianceThreshold)\n",
    "    y = df_new.loc[:, df_new.columns == 'gnd']\n",
    "    x = df_new.loc[:, (df_new.columns != 'gnd') & (df_new.columns !='ID')]\n",
    "\n",
    "    x_train, x_test, y_train, y_test = train_test_split(x, y, test_size=0.3)\n",
    "\n",
    "    lr_model = LogisticRegression(solver='lbfgs', max_iter=1000)\n",
    "    lr_model.fit(x_train, y_train.values.ravel())\n",
    "    \n",
    "    y_pred = lr_model.predict(x_test)    \n",
    "    \n",
    "    # Model Accuracy\n",
    "    accuracy = accuracy_score(y_test, y_pred)\n",
    "    return(VT,accuracy)"
   ]
  },
  {
   "cell_type": "code",
   "execution_count": 5,
   "id": "e31182dc",
   "metadata": {},
   "outputs": [],
   "source": [
    "# Low Variance Filter\n",
    "def low_variance_filter(threshold):\n",
    "    variance = df.var()\n",
    "    features = df.columns\n",
    "    selectedVariables = []\n",
    "    for i in range(0, len(df.columns)):\n",
    "        if variance[i] >= threshold:\n",
    "            selectedVariables.append(features[i])\n",
    "    return selectedVariables"
   ]
  },
  {
   "cell_type": "code",
   "execution_count": 6,
   "id": "d8c7729f",
   "metadata": {},
   "outputs": [],
   "source": [
    "df.rename(columns = {'Unnamed: 0' : 'ID'}, inplace = True)"
   ]
  },
  {
   "cell_type": "markdown",
   "id": "303aea26",
   "metadata": {},
   "source": [
    "#### 1. Look at the shape of the dataset and print out the number of features. (gnd is the target variable)"
   ]
  },
  {
   "cell_type": "code",
   "execution_count": 7,
   "id": "b679f576",
   "metadata": {},
   "outputs": [
    {
     "data": {
      "text/plain": [
       "(800, 258)"
      ]
     },
     "execution_count": 7,
     "metadata": {},
     "output_type": "execute_result"
    }
   ],
   "source": [
    "df.shape"
   ]
  },
  {
   "cell_type": "code",
   "execution_count": 8,
   "id": "2c44abe8",
   "metadata": {
    "scrolled": true
   },
   "outputs": [
    {
     "name": "stdout",
     "output_type": "stream",
     "text": [
      "The dataset has 256 features\n"
     ]
    }
   ],
   "source": [
    "features_count = df.columns.str.contains(\"fea.\").sum()\n",
    "print(\"The dataset has {}\".format(features_count) + \" features\")"
   ]
  },
  {
   "cell_type": "markdown",
   "id": "edb14be5",
   "metadata": {},
   "source": [
    "#### 2. Apply the Logistic Regression model on the given dataset and get the accuracy of the model."
   ]
  },
  {
   "cell_type": "code",
   "execution_count": 9,
   "id": "16b2ebb1",
   "metadata": {},
   "outputs": [
    {
     "name": "stdout",
     "output_type": "stream",
     "text": [
      "Accuracy of the logistic regression model on test set: 0.991667\n"
     ]
    }
   ],
   "source": [
    "Logistic_Regression()"
   ]
  },
  {
   "cell_type": "markdown",
   "id": "fc063309",
   "metadata": {},
   "source": [
    "#### 3. Remove low variance features set the threshold = 0.1, 0.2, 0.3, and 0.4"
   ]
  },
  {
   "cell_type": "code",
   "execution_count": 10,
   "id": "11bb1845",
   "metadata": {},
   "outputs": [],
   "source": [
    "# Threshold = 0.1\n",
    "Threshold_1 = low_variance_filter(0.1)\n",
    "\n",
    "# Threshold = 0.2\n",
    "Threshold_2 = low_variance_filter(0.2)\n",
    "\n",
    "# Threshold = 0.3\n",
    "Threshold_3 = low_variance_filter(0.3)\n",
    "\n",
    "# Threshold = 0.4\n",
    "Threshold_4 = low_variance_filter(0.4)"
   ]
  },
  {
   "cell_type": "markdown",
   "id": "e32d3460",
   "metadata": {},
   "source": [
    "#### 4. Print out the new datasets with selected features."
   ]
  },
  {
   "cell_type": "code",
   "execution_count": 11,
   "id": "5725dd3e",
   "metadata": {},
   "outputs": [
    {
     "data": {
      "text/html": [
       "<div>\n",
       "<style scoped>\n",
       "    .dataframe tbody tr th:only-of-type {\n",
       "        vertical-align: middle;\n",
       "    }\n",
       "\n",
       "    .dataframe tbody tr th {\n",
       "        vertical-align: top;\n",
       "    }\n",
       "\n",
       "    .dataframe thead th {\n",
       "        text-align: right;\n",
       "    }\n",
       "</style>\n",
       "<table border=\"1\" class=\"dataframe\">\n",
       "  <thead>\n",
       "    <tr style=\"text-align: right;\">\n",
       "      <th></th>\n",
       "      <th>ID</th>\n",
       "      <th>fea.5</th>\n",
       "      <th>fea.6</th>\n",
       "      <th>fea.7</th>\n",
       "      <th>fea.8</th>\n",
       "      <th>fea.9</th>\n",
       "      <th>fea.10</th>\n",
       "      <th>fea.11</th>\n",
       "      <th>fea.19</th>\n",
       "      <th>fea.20</th>\n",
       "      <th>...</th>\n",
       "      <th>fea.244</th>\n",
       "      <th>fea.245</th>\n",
       "      <th>fea.246</th>\n",
       "      <th>fea.247</th>\n",
       "      <th>fea.248</th>\n",
       "      <th>fea.249</th>\n",
       "      <th>fea.250</th>\n",
       "      <th>fea.251</th>\n",
       "      <th>fea.252</th>\n",
       "      <th>gnd</th>\n",
       "    </tr>\n",
       "  </thead>\n",
       "  <tbody>\n",
       "    <tr>\n",
       "      <th>0</th>\n",
       "      <td>1</td>\n",
       "      <td>-0.774192</td>\n",
       "      <td>-0.275283</td>\n",
       "      <td>0.034194</td>\n",
       "      <td>-0.399883</td>\n",
       "      <td>-0.815319</td>\n",
       "      <td>-0.955680</td>\n",
       "      <td>-0.989120</td>\n",
       "      <td>-0.987214</td>\n",
       "      <td>-0.844745</td>\n",
       "      <td>...</td>\n",
       "      <td>-0.183571</td>\n",
       "      <td>0.170864</td>\n",
       "      <td>0.365778</td>\n",
       "      <td>0.414430</td>\n",
       "      <td>0.427150</td>\n",
       "      <td>0.404087</td>\n",
       "      <td>0.213519</td>\n",
       "      <td>-0.104366</td>\n",
       "      <td>-0.444652</td>\n",
       "      <td>0</td>\n",
       "    </tr>\n",
       "    <tr>\n",
       "      <th>1</th>\n",
       "      <td>2</td>\n",
       "      <td>-0.901515</td>\n",
       "      <td>-0.545999</td>\n",
       "      <td>0.030940</td>\n",
       "      <td>0.411866</td>\n",
       "      <td>0.390567</td>\n",
       "      <td>0.008434</td>\n",
       "      <td>-0.502208</td>\n",
       "      <td>-0.997706</td>\n",
       "      <td>-0.952953</td>\n",
       "      <td>...</td>\n",
       "      <td>-0.979200</td>\n",
       "      <td>-0.858993</td>\n",
       "      <td>-0.527557</td>\n",
       "      <td>-0.043773</td>\n",
       "      <td>0.358344</td>\n",
       "      <td>0.374951</td>\n",
       "      <td>-0.040142</td>\n",
       "      <td>-0.586220</td>\n",
       "      <td>-0.911391</td>\n",
       "      <td>0</td>\n",
       "    </tr>\n",
       "  </tbody>\n",
       "</table>\n",
       "<p>2 rows × 209 columns</p>\n",
       "</div>"
      ],
      "text/plain": [
       "   ID     fea.5     fea.6     fea.7     fea.8     fea.9    fea.10    fea.11  \\\n",
       "0   1 -0.774192 -0.275283  0.034194 -0.399883 -0.815319 -0.955680 -0.989120   \n",
       "1   2 -0.901515 -0.545999  0.030940  0.411866  0.390567  0.008434 -0.502208   \n",
       "\n",
       "     fea.19    fea.20  ...   fea.244   fea.245   fea.246   fea.247   fea.248  \\\n",
       "0 -0.987214 -0.844745  ... -0.183571  0.170864  0.365778  0.414430  0.427150   \n",
       "1 -0.997706 -0.952953  ... -0.979200 -0.858993 -0.527557 -0.043773  0.358344   \n",
       "\n",
       "    fea.249   fea.250   fea.251   fea.252  gnd  \n",
       "0  0.404087  0.213519 -0.104366 -0.444652    0  \n",
       "1  0.374951 -0.040142 -0.586220 -0.911391    0  \n",
       "\n",
       "[2 rows x 209 columns]"
      ]
     },
     "execution_count": 11,
     "metadata": {},
     "output_type": "execute_result"
    }
   ],
   "source": [
    "# Dataset with 0.1 Variance Threshold\n",
    "df[Threshold_1].head(2)"
   ]
  },
  {
   "cell_type": "code",
   "execution_count": 12,
   "id": "5ed4080e",
   "metadata": {},
   "outputs": [
    {
     "data": {
      "text/html": [
       "<div>\n",
       "<style scoped>\n",
       "    .dataframe tbody tr th:only-of-type {\n",
       "        vertical-align: middle;\n",
       "    }\n",
       "\n",
       "    .dataframe tbody tr th {\n",
       "        vertical-align: top;\n",
       "    }\n",
       "\n",
       "    .dataframe thead th {\n",
       "        text-align: right;\n",
       "    }\n",
       "</style>\n",
       "<table border=\"1\" class=\"dataframe\">\n",
       "  <thead>\n",
       "    <tr style=\"text-align: right;\">\n",
       "      <th></th>\n",
       "      <th>ID</th>\n",
       "      <th>fea.6</th>\n",
       "      <th>fea.7</th>\n",
       "      <th>fea.20</th>\n",
       "      <th>fea.21</th>\n",
       "      <th>fea.22</th>\n",
       "      <th>fea.23</th>\n",
       "      <th>fea.24</th>\n",
       "      <th>fea.25</th>\n",
       "      <th>fea.26</th>\n",
       "      <th>...</th>\n",
       "      <th>fea.235</th>\n",
       "      <th>fea.236</th>\n",
       "      <th>fea.237</th>\n",
       "      <th>fea.245</th>\n",
       "      <th>fea.246</th>\n",
       "      <th>fea.247</th>\n",
       "      <th>fea.248</th>\n",
       "      <th>fea.249</th>\n",
       "      <th>fea.250</th>\n",
       "      <th>gnd</th>\n",
       "    </tr>\n",
       "  </thead>\n",
       "  <tbody>\n",
       "    <tr>\n",
       "      <th>0</th>\n",
       "      <td>1</td>\n",
       "      <td>-0.275283</td>\n",
       "      <td>0.034194</td>\n",
       "      <td>-0.844745</td>\n",
       "      <td>-0.336824</td>\n",
       "      <td>0.331032</td>\n",
       "      <td>0.504431</td>\n",
       "      <td>0.130807</td>\n",
       "      <td>-0.319797</td>\n",
       "      <td>-0.623297</td>\n",
       "      <td>...</td>\n",
       "      <td>0.522361</td>\n",
       "      <td>0.366751</td>\n",
       "      <td>-0.082735</td>\n",
       "      <td>0.170864</td>\n",
       "      <td>0.365778</td>\n",
       "      <td>0.414430</td>\n",
       "      <td>0.427150</td>\n",
       "      <td>0.404087</td>\n",
       "      <td>0.213519</td>\n",
       "      <td>0</td>\n",
       "    </tr>\n",
       "    <tr>\n",
       "      <th>1</th>\n",
       "      <td>2</td>\n",
       "      <td>-0.545999</td>\n",
       "      <td>0.030940</td>\n",
       "      <td>-0.952953</td>\n",
       "      <td>-0.659959</td>\n",
       "      <td>0.035736</td>\n",
       "      <td>0.653449</td>\n",
       "      <td>0.839105</td>\n",
       "      <td>0.688151</td>\n",
       "      <td>0.494709</td>\n",
       "      <td>...</td>\n",
       "      <td>0.013770</td>\n",
       "      <td>-0.672177</td>\n",
       "      <td>-0.956167</td>\n",
       "      <td>-0.858993</td>\n",
       "      <td>-0.527557</td>\n",
       "      <td>-0.043773</td>\n",
       "      <td>0.358344</td>\n",
       "      <td>0.374951</td>\n",
       "      <td>-0.040142</td>\n",
       "      <td>0</td>\n",
       "    </tr>\n",
       "  </tbody>\n",
       "</table>\n",
       "<p>2 rows × 182 columns</p>\n",
       "</div>"
      ],
      "text/plain": [
       "   ID     fea.6     fea.7    fea.20    fea.21    fea.22    fea.23    fea.24  \\\n",
       "0   1 -0.275283  0.034194 -0.844745 -0.336824  0.331032  0.504431  0.130807   \n",
       "1   2 -0.545999  0.030940 -0.952953 -0.659959  0.035736  0.653449  0.839105   \n",
       "\n",
       "     fea.25    fea.26  ...   fea.235   fea.236   fea.237   fea.245   fea.246  \\\n",
       "0 -0.319797 -0.623297  ...  0.522361  0.366751 -0.082735  0.170864  0.365778   \n",
       "1  0.688151  0.494709  ...  0.013770 -0.672177 -0.956167 -0.858993 -0.527557   \n",
       "\n",
       "    fea.247   fea.248   fea.249   fea.250  gnd  \n",
       "0  0.414430  0.427150  0.404087  0.213519    0  \n",
       "1 -0.043773  0.358344  0.374951 -0.040142    0  \n",
       "\n",
       "[2 rows x 182 columns]"
      ]
     },
     "execution_count": 12,
     "metadata": {},
     "output_type": "execute_result"
    }
   ],
   "source": [
    "# Dataset with 0.2 Variance Threshold\n",
    "df[Threshold_2].head(2)"
   ]
  },
  {
   "cell_type": "code",
   "execution_count": 13,
   "id": "dd49b731",
   "metadata": {},
   "outputs": [
    {
     "data": {
      "text/html": [
       "<div>\n",
       "<style scoped>\n",
       "    .dataframe tbody tr th:only-of-type {\n",
       "        vertical-align: middle;\n",
       "    }\n",
       "\n",
       "    .dataframe tbody tr th {\n",
       "        vertical-align: top;\n",
       "    }\n",
       "\n",
       "    .dataframe thead th {\n",
       "        text-align: right;\n",
       "    }\n",
       "</style>\n",
       "<table border=\"1\" class=\"dataframe\">\n",
       "  <thead>\n",
       "    <tr style=\"text-align: right;\">\n",
       "      <th></th>\n",
       "      <th>ID</th>\n",
       "      <th>fea.21</th>\n",
       "      <th>fea.22</th>\n",
       "      <th>fea.26</th>\n",
       "      <th>fea.27</th>\n",
       "      <th>fea.37</th>\n",
       "      <th>fea.38</th>\n",
       "      <th>fea.43</th>\n",
       "      <th>fea.44</th>\n",
       "      <th>fea.52</th>\n",
       "      <th>...</th>\n",
       "      <th>fea.220</th>\n",
       "      <th>fea.221</th>\n",
       "      <th>fea.228</th>\n",
       "      <th>fea.229</th>\n",
       "      <th>fea.230</th>\n",
       "      <th>fea.231</th>\n",
       "      <th>fea.234</th>\n",
       "      <th>fea.235</th>\n",
       "      <th>fea.236</th>\n",
       "      <th>gnd</th>\n",
       "    </tr>\n",
       "  </thead>\n",
       "  <tbody>\n",
       "    <tr>\n",
       "      <th>0</th>\n",
       "      <td>1</td>\n",
       "      <td>-0.336824</td>\n",
       "      <td>0.331032</td>\n",
       "      <td>-0.623297</td>\n",
       "      <td>-0.835472</td>\n",
       "      <td>0.235636</td>\n",
       "      <td>0.540066</td>\n",
       "      <td>-0.274300</td>\n",
       "      <td>-0.644889</td>\n",
       "      <td>-0.081776</td>\n",
       "      <td>...</td>\n",
       "      <td>0.505857</td>\n",
       "      <td>0.495046</td>\n",
       "      <td>0.339861</td>\n",
       "      <td>0.368924</td>\n",
       "      <td>0.320216</td>\n",
       "      <td>0.299545</td>\n",
       "      <td>0.518921</td>\n",
       "      <td>0.522361</td>\n",
       "      <td>0.366751</td>\n",
       "      <td>0</td>\n",
       "    </tr>\n",
       "    <tr>\n",
       "      <th>1</th>\n",
       "      <td>2</td>\n",
       "      <td>-0.659959</td>\n",
       "      <td>0.035736</td>\n",
       "      <td>0.494709</td>\n",
       "      <td>0.140118</td>\n",
       "      <td>-0.264202</td>\n",
       "      <td>0.538892</td>\n",
       "      <td>0.384775</td>\n",
       "      <td>-0.081463</td>\n",
       "      <td>-0.657173</td>\n",
       "      <td>...</td>\n",
       "      <td>-0.221164</td>\n",
       "      <td>-0.808547</td>\n",
       "      <td>-0.866280</td>\n",
       "      <td>-0.422491</td>\n",
       "      <td>0.192044</td>\n",
       "      <td>0.536542</td>\n",
       "      <td>0.611095</td>\n",
       "      <td>0.013770</td>\n",
       "      <td>-0.672177</td>\n",
       "      <td>0</td>\n",
       "    </tr>\n",
       "  </tbody>\n",
       "</table>\n",
       "<p>2 rows × 133 columns</p>\n",
       "</div>"
      ],
      "text/plain": [
       "   ID    fea.21    fea.22    fea.26    fea.27    fea.37    fea.38    fea.43  \\\n",
       "0   1 -0.336824  0.331032 -0.623297 -0.835472  0.235636  0.540066 -0.274300   \n",
       "1   2 -0.659959  0.035736  0.494709  0.140118 -0.264202  0.538892  0.384775   \n",
       "\n",
       "     fea.44    fea.52  ...   fea.220   fea.221   fea.228   fea.229   fea.230  \\\n",
       "0 -0.644889 -0.081776  ...  0.505857  0.495046  0.339861  0.368924  0.320216   \n",
       "1 -0.081463 -0.657173  ... -0.221164 -0.808547 -0.866280 -0.422491  0.192044   \n",
       "\n",
       "    fea.231   fea.234   fea.235   fea.236  gnd  \n",
       "0  0.299545  0.518921  0.522361  0.366751    0  \n",
       "1  0.536542  0.611095  0.013770 -0.672177    0  \n",
       "\n",
       "[2 rows x 133 columns]"
      ]
     },
     "execution_count": 13,
     "metadata": {},
     "output_type": "execute_result"
    }
   ],
   "source": [
    "# Dataset with 0.3 Variance Threshold\n",
    "df[Threshold_3].head(2)"
   ]
  },
  {
   "cell_type": "code",
   "execution_count": 14,
   "id": "cf44d6db",
   "metadata": {},
   "outputs": [
    {
     "data": {
      "text/html": [
       "<div>\n",
       "<style scoped>\n",
       "    .dataframe tbody tr th:only-of-type {\n",
       "        vertical-align: middle;\n",
       "    }\n",
       "\n",
       "    .dataframe tbody tr th {\n",
       "        vertical-align: top;\n",
       "    }\n",
       "\n",
       "    .dataframe thead th {\n",
       "        text-align: right;\n",
       "    }\n",
       "</style>\n",
       "<table border=\"1\" class=\"dataframe\">\n",
       "  <thead>\n",
       "    <tr style=\"text-align: right;\">\n",
       "      <th></th>\n",
       "      <th>ID</th>\n",
       "      <th>fea.43</th>\n",
       "      <th>fea.53</th>\n",
       "      <th>fea.54</th>\n",
       "      <th>fea.60</th>\n",
       "      <th>fea.69</th>\n",
       "      <th>fea.70</th>\n",
       "      <th>fea.72</th>\n",
       "      <th>fea.76</th>\n",
       "      <th>fea.85</th>\n",
       "      <th>...</th>\n",
       "      <th>fea.203</th>\n",
       "      <th>fea.204</th>\n",
       "      <th>fea.205</th>\n",
       "      <th>fea.212</th>\n",
       "      <th>fea.213</th>\n",
       "      <th>fea.219</th>\n",
       "      <th>fea.220</th>\n",
       "      <th>fea.229</th>\n",
       "      <th>fea.230</th>\n",
       "      <th>gnd</th>\n",
       "    </tr>\n",
       "  </thead>\n",
       "  <tbody>\n",
       "    <tr>\n",
       "      <th>0</th>\n",
       "      <td>1</td>\n",
       "      <td>-0.274300</td>\n",
       "      <td>0.537992</td>\n",
       "      <td>0.294486</td>\n",
       "      <td>0.015796</td>\n",
       "      <td>0.511609</td>\n",
       "      <td>-0.166338</td>\n",
       "      <td>-0.920920</td>\n",
       "      <td>0.186746</td>\n",
       "      <td>0.241829</td>\n",
       "      <td>...</td>\n",
       "      <td>-0.582717</td>\n",
       "      <td>-0.143460</td>\n",
       "      <td>0.405317</td>\n",
       "      <td>-0.050328</td>\n",
       "      <td>-0.430388</td>\n",
       "      <td>0.195612</td>\n",
       "      <td>0.505857</td>\n",
       "      <td>0.368924</td>\n",
       "      <td>0.320216</td>\n",
       "      <td>0</td>\n",
       "    </tr>\n",
       "    <tr>\n",
       "      <th>1</th>\n",
       "      <td>2</td>\n",
       "      <td>0.384775</td>\n",
       "      <td>0.166035</td>\n",
       "      <td>0.792276</td>\n",
       "      <td>0.293105</td>\n",
       "      <td>0.484311</td>\n",
       "      <td>0.875532</td>\n",
       "      <td>-0.293676</td>\n",
       "      <td>0.413152</td>\n",
       "      <td>0.618632</td>\n",
       "      <td>...</td>\n",
       "      <td>0.796826</td>\n",
       "      <td>0.345453</td>\n",
       "      <td>-0.523125</td>\n",
       "      <td>-0.599433</td>\n",
       "      <td>0.186843</td>\n",
       "      <td>0.518896</td>\n",
       "      <td>-0.221164</td>\n",
       "      <td>-0.422491</td>\n",
       "      <td>0.192044</td>\n",
       "      <td>0</td>\n",
       "    </tr>\n",
       "  </tbody>\n",
       "</table>\n",
       "<p>2 rows × 52 columns</p>\n",
       "</div>"
      ],
      "text/plain": [
       "   ID    fea.43    fea.53    fea.54    fea.60    fea.69    fea.70    fea.72  \\\n",
       "0   1 -0.274300  0.537992  0.294486  0.015796  0.511609 -0.166338 -0.920920   \n",
       "1   2  0.384775  0.166035  0.792276  0.293105  0.484311  0.875532 -0.293676   \n",
       "\n",
       "     fea.76    fea.85  ...   fea.203   fea.204   fea.205   fea.212   fea.213  \\\n",
       "0  0.186746  0.241829  ... -0.582717 -0.143460  0.405317 -0.050328 -0.430388   \n",
       "1  0.413152  0.618632  ...  0.796826  0.345453 -0.523125 -0.599433  0.186843   \n",
       "\n",
       "    fea.219   fea.220   fea.229   fea.230  gnd  \n",
       "0  0.195612  0.505857  0.368924  0.320216    0  \n",
       "1  0.518896 -0.221164 -0.422491  0.192044    0  \n",
       "\n",
       "[2 rows x 52 columns]"
      ]
     },
     "execution_count": 14,
     "metadata": {},
     "output_type": "execute_result"
    }
   ],
   "source": [
    "# Dataset with 0.4 Variance Threshold\n",
    "df[Threshold_4].head(2)"
   ]
  },
  {
   "cell_type": "markdown",
   "id": "4f148334",
   "metadata": {},
   "source": [
    "#### 5. Apply the Logistic Regression model on each of these datasets and get the accuracy scores."
   ]
  },
  {
   "cell_type": "code",
   "execution_count": 59,
   "id": "a8ddcc36",
   "metadata": {},
   "outputs": [
    {
     "name": "stdout",
     "output_type": "stream",
     "text": [
      "Variance: 0.1 Model Accuracy: 0.988\n",
      "Variance: 0.2 Model Accuracy: 0.988\n",
      "Variance: 0.3 Model Accuracy: 0.979\n",
      "Variance: 0.4 Model Accuracy: 0.958\n"
     ]
    }
   ],
   "source": [
    "yaxis = []\n",
    "xaxis = []\n",
    "\n",
    "variance_list = [0.1, 0.2, 0.3, 0.4]\n",
    "\n",
    "for i in variance_list:\n",
    "    x,y = Logistic_Regression_Variance_filter(i)\n",
    "    xaxis.append(x)\n",
    "    yaxis.append(y)\n",
    "    \n",
    "for i in range(len(xaxis)):\n",
    "    print(\"Variance: {} Model Accuracy: {}\".format(xaxis[i],yaxis[i].round(3)))"
   ]
  },
  {
   "cell_type": "markdown",
   "id": "d5817d9a",
   "metadata": {},
   "source": [
    "#### 6. Compare the accuracy scores and define does the feature selection improve the model or not."
   ]
  },
  {
   "cell_type": "markdown",
   "id": "a1a06cc2",
   "metadata": {},
   "source": [
    "The differences between accuracies are small but it is worth mentioning that by increasing the variance threshold the accuracy tends to go lower usually at 0.4."
   ]
  },
  {
   "cell_type": "markdown",
   "id": "affa9cf7",
   "metadata": {},
   "source": [
    "#### 7. Show the of accuracy scores on a plot (line chart)."
   ]
  },
  {
   "cell_type": "code",
   "execution_count": 60,
   "id": "719a4ef7",
   "metadata": {
    "scrolled": true
   },
   "outputs": [
    {
     "data": {
      "image/png": "[encoded data removed]",
      "text/plain": [
       "<Figure size 432x288 with 1 Axes>"
      ]
     },
     "metadata": {
      "needs_background": "light"
     },
     "output_type": "display_data"
    }
   ],
   "source": [
    "line_x = np.array(xaxis)\n",
    "line_y = np.array(yaxis)\n",
    "\n",
    "\n",
    "plt.plot(line_x,line_y)\n",
    "plt.title('Different Variance Accuracy Levels name')\n",
    "plt.xlabel('Var Threshold')\n",
    "plt.ylabel('Accuracy')\n",
    "plt.show()"
   ]
  },
  {
   "cell_type": "markdown",
   "id": "79e66e0b",
   "metadata": {},
   "source": [
    "### Submission Instructions:\n",
    "Please pay attention to the following tips.\n",
    "\n",
    "- This quiz is an individual exercise.\n",
    "- Please submit your work before the due date, March 6th, by the end of the day."
   ]
  }
 ],
 "metadata": {
  "kernelspec": {
   "display_name": "Python 3 (ipykernel)",
   "language": "python",
   "name": "python3"
  },
  "language_info": {
   "codemirror_mode": {
    "name": "ipython",
    "version": 3
   },
   "file_extension": ".py",
   "mimetype": "text/x-python",
   "name": "python",
   "nbconvert_exporter": "python",
   "pygments_lexer": "ipython3",
   "version": "3.8.11"
  }
 },
 "nbformat": 4,
 "nbformat_minor": 5
}
