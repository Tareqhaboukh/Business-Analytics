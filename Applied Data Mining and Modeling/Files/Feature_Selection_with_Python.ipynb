{
    "metadata": {
        "kernelspec": {
            "name": "python3",
            "display_name": "Python 3 (ipykernel)",
            "language": "python"
        },
        "language_info": {
            "name": "python",
            "version": "3.8.11",
            "mimetype": "text/x-python",
            "codemirror_mode": {
                "name": "ipython",
                "version": 3
            },
            "pygments_lexer": "ipython3",
            "nbconvert_exporter": "python",
            "file_extension": ".py"
        }
    },
    "nbformat_minor": 2,
    "nbformat": 4,
    "cells": [
        {
            "cell_type": "markdown",
            "source": [
                "### Feature Selection with Python\n",
                "\n",
                "Feature selection methods in Python  \n",
                "Tareq Haboukh"
            ],
            "metadata": {
                "azdata_cell_guid": "1647641c-931f-43ad-8472-6e92f13fddae"
            },
            "attachments": {}
        },
        {
            "cell_type": "code",
            "source": [
                "import pandas as pd\n",
                "import numpy as np\n",
                "import matplotlib.pyplot as plt\n",
                "\n",
                "from sklearn.feature_selection import VarianceThreshold\n",
                "from itertools import compress\n",
                "from sklearn.model_selection import train_test_split\n",
                "from sklearn.linear_model import LogisticRegression\n",
                "from sklearn.metrics import classification_report, accuracy_score, mean_squared_error, confusion_matrix\n",
                "\n",
                "Dataset = pd.read_csv(\"Dataset.csv\")\n",
                "df = pd.DataFrame(Dataset)"
            ],
            "metadata": {
                "azdata_cell_guid": "731c9d88-3a78-4081-b6d9-811404fd614a",
                "language": "python"
            },
            "outputs": [],
            "execution_count": 5
        },
        {
            "cell_type": "code",
            "source": [
                "def Logistic_Regression():\n",
                "\n",
                "    y = df.loc[:, df.columns == 'gnd']\n",
                "    x = df.loc[:, (df.columns != 'gnd') & (df.columns !='ID')]\n",
                "\n",
                "    x_train, x_test, y_train, y_test = train_test_split(x, y, test_size=0.3)\n",
                "    \n",
                "    lr_model = LogisticRegression(solver='lbfgs', max_iter=1000)\n",
                "    lr_model.fit(x_train, y_train.values.ravel())\n",
                "    \n",
                "    y_pred = lr_model.predict(x_test)\n",
                "    \n",
                "    accuracy = accuracy_score(y_test, y_pred)\n",
                "    print(\"Accuracy of the logistic regression model on test set: %3f\" %accuracy)"
            ],
            "metadata": {
                "azdata_cell_guid": "022ac6f6-1653-4c66-b867-69fc3247cd32",
                "language": "python"
            },
            "outputs": [],
            "execution_count": 1
        },
        {
            "cell_type": "code",
            "source": [
                "def Logistic_Regression_Variance_filter(VT):\n",
                "    selector = VarianceThreshold(threshold=VT)\n",
                "    selected_features = selector.fit_transform(df)\n",
                "    selector.get_params()\n",
                "\n",
                "    features_selected_VarianceThreshold = list(compress(df.columns, selector.get_support()))\n",
                "\n",
                "    df_new = df.filter(features_selected_VarianceThreshold)\n",
                "    y = df_new.loc[:, df_new.columns == 'gnd']\n",
                "    x = df_new.loc[:, (df_new.columns != 'gnd') & (df_new.columns !='ID')]\n",
                "\n",
                "    x_train, x_test, y_train, y_test = train_test_split(x, y, test_size=0.3)\n",
                "\n",
                "    lr_model = LogisticRegression(solver='lbfgs', max_iter=1000)\n",
                "    lr_model.fit(x_train, y_train.values.ravel())\n",
                "    \n",
                "    y_pred = lr_model.predict(x_test)    \n",
                "    \n",
                "    # Model Accuracy\n",
                "    accuracy = accuracy_score(y_test, y_pred)\n",
                "    return(VT,accuracy)"
            ],
            "metadata": {
                "azdata_cell_guid": "3d94d00e-4433-4002-97be-a492ed578d1c",
                "language": "python"
            },
            "outputs": [],
            "execution_count": 2
        },
        {
            "cell_type": "code",
            "source": [
                "# Low Variance Filter\n",
                "def low_variance_filter(threshold):\n",
                "    variance = df.var()\n",
                "    features = df.columns\n",
                "    selectedVariables = []\n",
                "    for i in range(0, len(df.columns)):\n",
                "        if variance[i] >= threshold:\n",
                "            selectedVariables.append(features[i])\n",
                "    return selectedVariables"
            ],
            "metadata": {
                "azdata_cell_guid": "31c2c53b-36cf-438b-a799-06ebc282ce76",
                "language": "python"
            },
            "outputs": [],
            "execution_count": 3
        },
        {
            "cell_type": "code",
            "source": [
                "df.rename(columns = {'Unnamed: 0' : 'ID'}, inplace = True)"
            ],
            "metadata": {
                "azdata_cell_guid": "b14704dc-a2b9-48ce-b446-7f85a1b75f3f",
                "language": "python"
            },
            "outputs": [],
            "execution_count": 6
        },
        {
            "cell_type": "markdown",
            "source": [
                "#### 1. Look at the shape of the dataset and print out the number of features. (gnd is the target variable)"
            ],
            "metadata": {
                "azdata_cell_guid": "26d931e8-c1cb-4204-baa9-1d6e6380ecde"
            }
        },
        {
            "cell_type": "code",
            "source": [
                "df.shape"
            ],
            "metadata": {
                "azdata_cell_guid": "c7252e7c-2977-49e5-a05b-04226c9582f5",
                "language": "python"
            },
            "outputs": [
                {
                    "output_type": "execute_result",
                    "execution_count": 7,
                    "data": {
                        "text/plain": "(800, 258)"
                    },
                    "metadata": {}
                }
            ],
            "execution_count": 7
        },
        {
            "cell_type": "code",
            "source": [
                "features_count = df.columns.str.contains(\"fea.\").sum()\n",
                "print(\"The dataset has {}\".format(features_count) + \" features\")"
            ],
            "metadata": {
                "scrolled": true,
                "azdata_cell_guid": "aa79c246-653f-4ff6-a468-969f30fe3c48",
                "language": "python"
            },
            "outputs": [
                {
                    "output_type": "stream",
                    "name": "stdout",
                    "text": "The dataset has 256 features\n"
                }
            ],
            "execution_count": 8
        },
        {
            "cell_type": "markdown",
            "source": [
                "#### 2. Apply the Logistic Regression model on the given dataset and get the accuracy of the model."
            ],
            "metadata": {
                "azdata_cell_guid": "b821ec79-d1b8-4784-9241-93916fbcf9fb"
            }
        },
        {
            "cell_type": "code",
            "source": [
                "Logistic_Regression()"
            ],
            "metadata": {
                "azdata_cell_guid": "d34ecc5e-2a21-429e-b30c-8b0e801eebab",
                "language": "python"
            },
            "outputs": [
                {
                    "output_type": "stream",
                    "name": "stdout",
                    "text": "Accuracy of the logistic regression model on test set: 0.987500\n"
                }
            ],
            "execution_count": 9
        },
        {
            "cell_type": "markdown",
            "source": [
                "#### 3. Remove low variance features set the threshold = 0.1, 0.2, 0.3, and 0.4"
            ],
            "metadata": {
                "azdata_cell_guid": "14402a80-ee4a-4d46-8de9-abc9ebe4b7a7"
            }
        },
        {
            "cell_type": "code",
            "source": [
                "# Threshold = 0.1\n",
                "Threshold_1 = low_variance_filter(0.1)\n",
                "\n",
                "# Threshold = 0.2\n",
                "Threshold_2 = low_variance_filter(0.2)\n",
                "\n",
                "# Threshold = 0.3\n",
                "Threshold_3 = low_variance_filter(0.3)\n",
                "\n",
                "# Threshold = 0.4\n",
                "Threshold_4 = low_variance_filter(0.4)"
            ],
            "metadata": {
                "azdata_cell_guid": "dbdc2f74-3732-431c-a223-20470272ffd7",
                "language": "python"
            },
            "outputs": [],
            "execution_count": 11
        },
        {
            "cell_type": "markdown",
            "source": [
                "#### 4. Print out the new datasets with selected features."
            ],
            "metadata": {
                "azdata_cell_guid": "6c479a19-410b-4fb2-8dac-15a6aa23cb32"
            }
        },
        {
            "cell_type": "code",
            "source": [
                "# Dataset with 0.1 Variance Threshold\n",
                "df[Threshold_1].head()"
            ],
            "metadata": {
                "azdata_cell_guid": "3a50bb9c-3337-4687-b2d8-bb495c4d14a4",
                "language": "python"
            },
            "outputs": [
                {
                    "output_type": "execute_result",
                    "execution_count": 13,
                    "data": {
                        "text/plain": "   ID     fea.5     fea.6     fea.7     fea.8     fea.9    fea.10    fea.11  \\\n0   1 -0.774192 -0.275283  0.034194 -0.399883 -0.815319 -0.955680 -0.989120   \n1   2 -0.901515 -0.545999  0.030940  0.411866  0.390567  0.008434 -0.502208   \n2   3 -0.961828 -0.717215 -0.144694  0.092191 -0.260683 -0.687438 -0.925676   \n3   4 -0.832602 -0.368054 -0.080497 -0.246663 -0.263954 -0.317376 -0.699568   \n4   5 -0.988678 -0.829627 -0.330878  0.013998 -0.345315 -0.803120 -0.973332   \n\n     fea.19    fea.20  ...   fea.244   fea.245   fea.246   fea.247   fea.248  \\\n0 -0.987214 -0.844745  ... -0.183571  0.170864  0.365778  0.414430  0.427150   \n1 -0.997706 -0.952953  ... -0.979200 -0.858993 -0.527557 -0.043773  0.358344   \n2 -0.986465 -0.932243  ... -0.894444 -0.636530 -0.257442  0.153603  0.414912   \n3 -0.999915 -0.992487  ... -0.942932 -0.684969 -0.164910  0.306974  0.480128   \n4 -0.999992 -0.999126  ... -0.999747 -0.988999 -0.851968 -0.406307  0.080920   \n\n    fea.249   fea.250   fea.251   fea.252  gnd  \n0  0.404087  0.213519 -0.104366 -0.444652    0  \n1  0.374951 -0.040142 -0.586220 -0.911391    0  \n2  0.334299 -0.060454 -0.541605 -0.867137    0  \n3  0.487418  0.356270 -0.015310 -0.530088    0  \n4  0.086649 -0.458626 -0.885111 -0.993165    0  \n\n[5 rows x 209 columns]",
                        "text/html": "<div>\n<style scoped>\n    .dataframe tbody tr th:only-of-type {\n        vertical-align: middle;\n    }\n\n    .dataframe tbody tr th {\n        vertical-align: top;\n    }\n\n    .dataframe thead th {\n        text-align: right;\n    }\n</style>\n<table border=\"1\" class=\"dataframe\">\n  <thead>\n    <tr style=\"text-align: right;\">\n      <th></th>\n      <th>ID</th>\n      <th>fea.5</th>\n      <th>fea.6</th>\n      <th>fea.7</th>\n      <th>fea.8</th>\n      <th>fea.9</th>\n      <th>fea.10</th>\n      <th>fea.11</th>\n      <th>fea.19</th>\n      <th>fea.20</th>\n      <th>...</th>\n      <th>fea.244</th>\n      <th>fea.245</th>\n      <th>fea.246</th>\n      <th>fea.247</th>\n      <th>fea.248</th>\n      <th>fea.249</th>\n      <th>fea.250</th>\n      <th>fea.251</th>\n      <th>fea.252</th>\n      <th>gnd</th>\n    </tr>\n  </thead>\n  <tbody>\n    <tr>\n      <th>0</th>\n      <td>1</td>\n      <td>-0.774192</td>\n      <td>-0.275283</td>\n      <td>0.034194</td>\n      <td>-0.399883</td>\n      <td>-0.815319</td>\n      <td>-0.955680</td>\n      <td>-0.989120</td>\n      <td>-0.987214</td>\n      <td>-0.844745</td>\n      <td>...</td>\n      <td>-0.183571</td>\n      <td>0.170864</td>\n      <td>0.365778</td>\n      <td>0.414430</td>\n      <td>0.427150</td>\n      <td>0.404087</td>\n      <td>0.213519</td>\n      <td>-0.104366</td>\n      <td>-0.444652</td>\n      <td>0</td>\n    </tr>\n    <tr>\n      <th>1</th>\n      <td>2</td>\n      <td>-0.901515</td>\n      <td>-0.545999</td>\n      <td>0.030940</td>\n      <td>0.411866</td>\n      <td>0.390567</td>\n      <td>0.008434</td>\n      <td>-0.502208</td>\n      <td>-0.997706</td>\n      <td>-0.952953</td>\n      <td>...</td>\n      <td>-0.979200</td>\n      <td>-0.858993</td>\n      <td>-0.527557</td>\n      <td>-0.043773</td>\n      <td>0.358344</td>\n      <td>0.374951</td>\n      <td>-0.040142</td>\n      <td>-0.586220</td>\n      <td>-0.911391</td>\n      <td>0</td>\n    </tr>\n    <tr>\n      <th>2</th>\n      <td>3</td>\n      <td>-0.961828</td>\n      <td>-0.717215</td>\n      <td>-0.144694</td>\n      <td>0.092191</td>\n      <td>-0.260683</td>\n      <td>-0.687438</td>\n      <td>-0.925676</td>\n      <td>-0.986465</td>\n      <td>-0.932243</td>\n      <td>...</td>\n      <td>-0.894444</td>\n      <td>-0.636530</td>\n      <td>-0.257442</td>\n      <td>0.153603</td>\n      <td>0.414912</td>\n      <td>0.334299</td>\n      <td>-0.060454</td>\n      <td>-0.541605</td>\n      <td>-0.867137</td>\n      <td>0</td>\n    </tr>\n    <tr>\n      <th>3</th>\n      <td>4</td>\n      <td>-0.832602</td>\n      <td>-0.368054</td>\n      <td>-0.080497</td>\n      <td>-0.246663</td>\n      <td>-0.263954</td>\n      <td>-0.317376</td>\n      <td>-0.699568</td>\n      <td>-0.999915</td>\n      <td>-0.992487</td>\n      <td>...</td>\n      <td>-0.942932</td>\n      <td>-0.684969</td>\n      <td>-0.164910</td>\n      <td>0.306974</td>\n      <td>0.480128</td>\n      <td>0.487418</td>\n      <td>0.356270</td>\n      <td>-0.015310</td>\n      <td>-0.530088</td>\n      <td>0</td>\n    </tr>\n    <tr>\n      <th>4</th>\n      <td>5</td>\n      <td>-0.988678</td>\n      <td>-0.829627</td>\n      <td>-0.330878</td>\n      <td>0.013998</td>\n      <td>-0.345315</td>\n      <td>-0.803120</td>\n      <td>-0.973332</td>\n      <td>-0.999992</td>\n      <td>-0.999126</td>\n      <td>...</td>\n      <td>-0.999747</td>\n      <td>-0.988999</td>\n      <td>-0.851968</td>\n      <td>-0.406307</td>\n      <td>0.080920</td>\n      <td>0.086649</td>\n      <td>-0.458626</td>\n      <td>-0.885111</td>\n      <td>-0.993165</td>\n      <td>0</td>\n    </tr>\n  </tbody>\n</table>\n<p>5 rows × 209 columns</p>\n</div>"
                    },
                    "metadata": {}
                }
            ],
            "execution_count": 13
        },
        {
            "cell_type": "code",
            "source": [
                "# Dataset with 0.2 Variance Threshold\n",
                "df[Threshold_2].head()"
            ],
            "metadata": {
                "azdata_cell_guid": "718facb2-f7ec-4970-92e3-addb02627a9b",
                "language": "python"
            },
            "outputs": [
                {
                    "output_type": "execute_result",
                    "execution_count": 14,
                    "data": {
                        "text/plain": "   ID     fea.6     fea.7    fea.20    fea.21    fea.22    fea.23    fea.24  \\\n0   1 -0.275283  0.034194 -0.844745 -0.336824  0.331032  0.504431  0.130807   \n1   2 -0.545999  0.030940 -0.952953 -0.659959  0.035736  0.653449  0.839105   \n2   3 -0.717215 -0.144694 -0.932243 -0.783630 -0.349874  0.450019  0.764206   \n3   4 -0.368054 -0.080497 -0.992487 -0.873086 -0.403134  0.222510  0.448349   \n4   5 -0.829627 -0.330878 -0.999126 -0.970712 -0.667495  0.090387  0.504988   \n\n     fea.25    fea.26  ...   fea.235   fea.236   fea.237   fea.245   fea.246  \\\n0 -0.319797 -0.623297  ...  0.522361  0.366751 -0.082735  0.170864  0.365778   \n1  0.688151  0.494709  ...  0.013770 -0.672177 -0.956167 -0.858993 -0.527557   \n2  0.530335 -0.029652  ...  0.208939 -0.459925 -0.888110 -0.636530 -0.257442   \n3  0.516625  0.364233  ...  0.632486  0.047866 -0.706772 -0.684969 -0.164910   \n4  0.267632 -0.399843  ... -0.718008 -0.980233 -0.999657 -0.988999 -0.851968   \n\n    fea.247   fea.248   fea.249   fea.250  gnd  \n0  0.414430  0.427150  0.404087  0.213519    0  \n1 -0.043773  0.358344  0.374951 -0.040142    0  \n2  0.153603  0.414912  0.334299 -0.060454    0  \n3  0.306974  0.480128  0.487418  0.356270    0  \n4 -0.406307  0.080920  0.086649 -0.458626    0  \n\n[5 rows x 182 columns]",
                        "text/html": "<div>\n<style scoped>\n    .dataframe tbody tr th:only-of-type {\n        vertical-align: middle;\n    }\n\n    .dataframe tbody tr th {\n        vertical-align: top;\n    }\n\n    .dataframe thead th {\n        text-align: right;\n    }\n</style>\n<table border=\"1\" class=\"dataframe\">\n  <thead>\n    <tr style=\"text-align: right;\">\n      <th></th>\n      <th>ID</th>\n      <th>fea.6</th>\n      <th>fea.7</th>\n      <th>fea.20</th>\n      <th>fea.21</th>\n      <th>fea.22</th>\n      <th>fea.23</th>\n      <th>fea.24</th>\n      <th>fea.25</th>\n      <th>fea.26</th>\n      <th>...</th>\n      <th>fea.235</th>\n      <th>fea.236</th>\n      <th>fea.237</th>\n      <th>fea.245</th>\n      <th>fea.246</th>\n      <th>fea.247</th>\n      <th>fea.248</th>\n      <th>fea.249</th>\n      <th>fea.250</th>\n      <th>gnd</th>\n    </tr>\n  </thead>\n  <tbody>\n    <tr>\n      <th>0</th>\n      <td>1</td>\n      <td>-0.275283</td>\n      <td>0.034194</td>\n      <td>-0.844745</td>\n      <td>-0.336824</td>\n      <td>0.331032</td>\n      <td>0.504431</td>\n      <td>0.130807</td>\n      <td>-0.319797</td>\n      <td>-0.623297</td>\n      <td>...</td>\n      <td>0.522361</td>\n      <td>0.366751</td>\n      <td>-0.082735</td>\n      <td>0.170864</td>\n      <td>0.365778</td>\n      <td>0.414430</td>\n      <td>0.427150</td>\n      <td>0.404087</td>\n      <td>0.213519</td>\n      <td>0</td>\n    </tr>\n    <tr>\n      <th>1</th>\n      <td>2</td>\n      <td>-0.545999</td>\n      <td>0.030940</td>\n      <td>-0.952953</td>\n      <td>-0.659959</td>\n      <td>0.035736</td>\n      <td>0.653449</td>\n      <td>0.839105</td>\n      <td>0.688151</td>\n      <td>0.494709</td>\n      <td>...</td>\n      <td>0.013770</td>\n      <td>-0.672177</td>\n      <td>-0.956167</td>\n      <td>-0.858993</td>\n      <td>-0.527557</td>\n      <td>-0.043773</td>\n      <td>0.358344</td>\n      <td>0.374951</td>\n      <td>-0.040142</td>\n      <td>0</td>\n    </tr>\n    <tr>\n      <th>2</th>\n      <td>3</td>\n      <td>-0.717215</td>\n      <td>-0.144694</td>\n      <td>-0.932243</td>\n      <td>-0.783630</td>\n      <td>-0.349874</td>\n      <td>0.450019</td>\n      <td>0.764206</td>\n      <td>0.530335</td>\n      <td>-0.029652</td>\n      <td>...</td>\n      <td>0.208939</td>\n      <td>-0.459925</td>\n      <td>-0.888110</td>\n      <td>-0.636530</td>\n      <td>-0.257442</td>\n      <td>0.153603</td>\n      <td>0.414912</td>\n      <td>0.334299</td>\n      <td>-0.060454</td>\n      <td>0</td>\n    </tr>\n    <tr>\n      <th>3</th>\n      <td>4</td>\n      <td>-0.368054</td>\n      <td>-0.080497</td>\n      <td>-0.992487</td>\n      <td>-0.873086</td>\n      <td>-0.403134</td>\n      <td>0.222510</td>\n      <td>0.448349</td>\n      <td>0.516625</td>\n      <td>0.364233</td>\n      <td>...</td>\n      <td>0.632486</td>\n      <td>0.047866</td>\n      <td>-0.706772</td>\n      <td>-0.684969</td>\n      <td>-0.164910</td>\n      <td>0.306974</td>\n      <td>0.480128</td>\n      <td>0.487418</td>\n      <td>0.356270</td>\n      <td>0</td>\n    </tr>\n    <tr>\n      <th>4</th>\n      <td>5</td>\n      <td>-0.829627</td>\n      <td>-0.330878</td>\n      <td>-0.999126</td>\n      <td>-0.970712</td>\n      <td>-0.667495</td>\n      <td>0.090387</td>\n      <td>0.504988</td>\n      <td>0.267632</td>\n      <td>-0.399843</td>\n      <td>...</td>\n      <td>-0.718008</td>\n      <td>-0.980233</td>\n      <td>-0.999657</td>\n      <td>-0.988999</td>\n      <td>-0.851968</td>\n      <td>-0.406307</td>\n      <td>0.080920</td>\n      <td>0.086649</td>\n      <td>-0.458626</td>\n      <td>0</td>\n    </tr>\n  </tbody>\n</table>\n<p>5 rows × 182 columns</p>\n</div>"
                    },
                    "metadata": {}
                }
            ],
            "execution_count": 14
        },
        {
            "cell_type": "code",
            "source": [
                "# Dataset with 0.3 Variance Threshold\n",
                "df[Threshold_3].head()"
            ],
            "metadata": {
                "azdata_cell_guid": "380b71eb-a886-405c-ab8c-032c11ba565a",
                "language": "python"
            },
            "outputs": [
                {
                    "output_type": "execute_result",
                    "execution_count": 15,
                    "data": {
                        "text/plain": "   ID    fea.21    fea.22    fea.26    fea.27    fea.37    fea.38    fea.43  \\\n0   1 -0.336824  0.331032 -0.623297 -0.835472  0.235636  0.540066 -0.274300   \n1   2 -0.659959  0.035736  0.494709  0.140118 -0.264202  0.538892  0.384775   \n2   3 -0.783630 -0.349874 -0.029652 -0.631342 -0.200933  0.200376 -0.038264   \n3   4 -0.873086 -0.403134  0.364233 -0.333441 -0.960678 -0.708190 -0.296770   \n4   5 -0.970712 -0.667495 -0.399843 -0.870560 -0.939941 -0.507406 -0.656211   \n\n     fea.44    fea.52  ...   fea.220   fea.221   fea.228   fea.229   fea.230  \\\n0 -0.644889 -0.081776  ...  0.505857  0.495046  0.339861  0.368924  0.320216   \n1 -0.081463 -0.657173  ... -0.221164 -0.808547 -0.866280 -0.422491  0.192044   \n2 -0.642408  0.240669  ...  0.051250 -0.718346 -0.482285  0.110328  0.541402   \n3 -0.865733 -0.999613  ...  0.376856 -0.547731 -0.787279 -0.161113  0.451871   \n4 -0.963497 -0.993818  ... -0.949420 -0.997999 -0.997320 -0.943469 -0.586251   \n\n    fea.231   fea.234   fea.235   fea.236  gnd  \n0  0.299545  0.518921  0.522361  0.366751    0  \n1  0.536542  0.611095  0.013770 -0.672177    0  \n2  0.769359  0.670917  0.208939 -0.459925    0  \n3  0.598882  0.788175  0.632486  0.047866    0  \n4  0.118789 -0.001911 -0.718008 -0.980233    0  \n\n[5 rows x 133 columns]",
                        "text/html": "<div>\n<style scoped>\n    .dataframe tbody tr th:only-of-type {\n        vertical-align: middle;\n    }\n\n    .dataframe tbody tr th {\n        vertical-align: top;\n    }\n\n    .dataframe thead th {\n        text-align: right;\n    }\n</style>\n<table border=\"1\" class=\"dataframe\">\n  <thead>\n    <tr style=\"text-align: right;\">\n      <th></th>\n      <th>ID</th>\n      <th>fea.21</th>\n      <th>fea.22</th>\n      <th>fea.26</th>\n      <th>fea.27</th>\n      <th>fea.37</th>\n      <th>fea.38</th>\n      <th>fea.43</th>\n      <th>fea.44</th>\n      <th>fea.52</th>\n      <th>...</th>\n      <th>fea.220</th>\n      <th>fea.221</th>\n      <th>fea.228</th>\n      <th>fea.229</th>\n      <th>fea.230</th>\n      <th>fea.231</th>\n      <th>fea.234</th>\n      <th>fea.235</th>\n      <th>fea.236</th>\n      <th>gnd</th>\n    </tr>\n  </thead>\n  <tbody>\n    <tr>\n      <th>0</th>\n      <td>1</td>\n      <td>-0.336824</td>\n      <td>0.331032</td>\n      <td>-0.623297</td>\n      <td>-0.835472</td>\n      <td>0.235636</td>\n      <td>0.540066</td>\n      <td>-0.274300</td>\n      <td>-0.644889</td>\n      <td>-0.081776</td>\n      <td>...</td>\n      <td>0.505857</td>\n      <td>0.495046</td>\n      <td>0.339861</td>\n      <td>0.368924</td>\n      <td>0.320216</td>\n      <td>0.299545</td>\n      <td>0.518921</td>\n      <td>0.522361</td>\n      <td>0.366751</td>\n      <td>0</td>\n    </tr>\n    <tr>\n      <th>1</th>\n      <td>2</td>\n      <td>-0.659959</td>\n      <td>0.035736</td>\n      <td>0.494709</td>\n      <td>0.140118</td>\n      <td>-0.264202</td>\n      <td>0.538892</td>\n      <td>0.384775</td>\n      <td>-0.081463</td>\n      <td>-0.657173</td>\n      <td>...</td>\n      <td>-0.221164</td>\n      <td>-0.808547</td>\n      <td>-0.866280</td>\n      <td>-0.422491</td>\n      <td>0.192044</td>\n      <td>0.536542</td>\n      <td>0.611095</td>\n      <td>0.013770</td>\n      <td>-0.672177</td>\n      <td>0</td>\n    </tr>\n    <tr>\n      <th>2</th>\n      <td>3</td>\n      <td>-0.783630</td>\n      <td>-0.349874</td>\n      <td>-0.029652</td>\n      <td>-0.631342</td>\n      <td>-0.200933</td>\n      <td>0.200376</td>\n      <td>-0.038264</td>\n      <td>-0.642408</td>\n      <td>0.240669</td>\n      <td>...</td>\n      <td>0.051250</td>\n      <td>-0.718346</td>\n      <td>-0.482285</td>\n      <td>0.110328</td>\n      <td>0.541402</td>\n      <td>0.769359</td>\n      <td>0.670917</td>\n      <td>0.208939</td>\n      <td>-0.459925</td>\n      <td>0</td>\n    </tr>\n    <tr>\n      <th>3</th>\n      <td>4</td>\n      <td>-0.873086</td>\n      <td>-0.403134</td>\n      <td>0.364233</td>\n      <td>-0.333441</td>\n      <td>-0.960678</td>\n      <td>-0.708190</td>\n      <td>-0.296770</td>\n      <td>-0.865733</td>\n      <td>-0.999613</td>\n      <td>...</td>\n      <td>0.376856</td>\n      <td>-0.547731</td>\n      <td>-0.787279</td>\n      <td>-0.161113</td>\n      <td>0.451871</td>\n      <td>0.598882</td>\n      <td>0.788175</td>\n      <td>0.632486</td>\n      <td>0.047866</td>\n      <td>0</td>\n    </tr>\n    <tr>\n      <th>4</th>\n      <td>5</td>\n      <td>-0.970712</td>\n      <td>-0.667495</td>\n      <td>-0.399843</td>\n      <td>-0.870560</td>\n      <td>-0.939941</td>\n      <td>-0.507406</td>\n      <td>-0.656211</td>\n      <td>-0.963497</td>\n      <td>-0.993818</td>\n      <td>...</td>\n      <td>-0.949420</td>\n      <td>-0.997999</td>\n      <td>-0.997320</td>\n      <td>-0.943469</td>\n      <td>-0.586251</td>\n      <td>0.118789</td>\n      <td>-0.001911</td>\n      <td>-0.718008</td>\n      <td>-0.980233</td>\n      <td>0</td>\n    </tr>\n  </tbody>\n</table>\n<p>5 rows × 133 columns</p>\n</div>"
                    },
                    "metadata": {}
                }
            ],
            "execution_count": 15
        },
        {
            "cell_type": "code",
            "source": [
                "# Dataset with 0.4 Variance Threshold\n",
                "df[Threshold_4].head()"
            ],
            "metadata": {
                "azdata_cell_guid": "0282fe39-b7ee-4dcd-a1ea-6faf52e06f40",
                "language": "python"
            },
            "outputs": [
                {
                    "output_type": "execute_result",
                    "execution_count": 16,
                    "data": {
                        "text/plain": "   ID    fea.43    fea.53    fea.54    fea.60    fea.69    fea.70    fea.72  \\\n0   1 -0.274300  0.537992  0.294486  0.015796  0.511609 -0.166338 -0.920920   \n1   2  0.384775  0.166035  0.792276  0.293105  0.484311  0.875532 -0.293676   \n2   3 -0.038264  0.613838  0.783930 -0.054780  0.950433  0.970910  0.861389   \n3   4 -0.296770 -0.984852 -0.800620 -0.927408 -0.945566 -0.611553  0.795796   \n4   5 -0.656211 -0.886214 -0.360784 -0.883866 -0.775522 -0.106894 -0.419718   \n\n     fea.76    fea.85  ...   fea.203   fea.204   fea.205   fea.212   fea.213  \\\n0  0.186746  0.241829  ... -0.582717 -0.143460  0.405317 -0.050328 -0.430388   \n1  0.413152  0.618632  ...  0.796826  0.345453 -0.523125 -0.599433  0.186843   \n2  0.546542  0.936660  ...  0.842856  0.311613 -0.580125  0.199657  0.624014   \n3 -0.885091 -0.822636  ...  0.544515  0.510231 -0.398164 -0.583682  0.302478   \n4 -0.759592 -0.685957  ... -0.349981 -0.878587 -0.993249 -0.989981 -0.832672   \n\n    fea.219   fea.220   fea.229   fea.230  gnd  \n0  0.195612  0.505857  0.368924  0.320216    0  \n1  0.518896 -0.221164 -0.422491  0.192044    0  \n2  0.713256  0.051250  0.110328  0.541402    0  \n3  0.749417  0.376856 -0.161113  0.451871    0  \n4 -0.549340 -0.949420 -0.943469 -0.586251    0  \n\n[5 rows x 52 columns]",
                        "text/html": "<div>\n<style scoped>\n    .dataframe tbody tr th:only-of-type {\n        vertical-align: middle;\n    }\n\n    .dataframe tbody tr th {\n        vertical-align: top;\n    }\n\n    .dataframe thead th {\n        text-align: right;\n    }\n</style>\n<table border=\"1\" class=\"dataframe\">\n  <thead>\n    <tr style=\"text-align: right;\">\n      <th></th>\n      <th>ID</th>\n      <th>fea.43</th>\n      <th>fea.53</th>\n      <th>fea.54</th>\n      <th>fea.60</th>\n      <th>fea.69</th>\n      <th>fea.70</th>\n      <th>fea.72</th>\n      <th>fea.76</th>\n      <th>fea.85</th>\n      <th>...</th>\n      <th>fea.203</th>\n      <th>fea.204</th>\n      <th>fea.205</th>\n      <th>fea.212</th>\n      <th>fea.213</th>\n      <th>fea.219</th>\n      <th>fea.220</th>\n      <th>fea.229</th>\n      <th>fea.230</th>\n      <th>gnd</th>\n    </tr>\n  </thead>\n  <tbody>\n    <tr>\n      <th>0</th>\n      <td>1</td>\n      <td>-0.274300</td>\n      <td>0.537992</td>\n      <td>0.294486</td>\n      <td>0.015796</td>\n      <td>0.511609</td>\n      <td>-0.166338</td>\n      <td>-0.920920</td>\n      <td>0.186746</td>\n      <td>0.241829</td>\n      <td>...</td>\n      <td>-0.582717</td>\n      <td>-0.143460</td>\n      <td>0.405317</td>\n      <td>-0.050328</td>\n      <td>-0.430388</td>\n      <td>0.195612</td>\n      <td>0.505857</td>\n      <td>0.368924</td>\n      <td>0.320216</td>\n      <td>0</td>\n    </tr>\n    <tr>\n      <th>1</th>\n      <td>2</td>\n      <td>0.384775</td>\n      <td>0.166035</td>\n      <td>0.792276</td>\n      <td>0.293105</td>\n      <td>0.484311</td>\n      <td>0.875532</td>\n      <td>-0.293676</td>\n      <td>0.413152</td>\n      <td>0.618632</td>\n      <td>...</td>\n      <td>0.796826</td>\n      <td>0.345453</td>\n      <td>-0.523125</td>\n      <td>-0.599433</td>\n      <td>0.186843</td>\n      <td>0.518896</td>\n      <td>-0.221164</td>\n      <td>-0.422491</td>\n      <td>0.192044</td>\n      <td>0</td>\n    </tr>\n    <tr>\n      <th>2</th>\n      <td>3</td>\n      <td>-0.038264</td>\n      <td>0.613838</td>\n      <td>0.783930</td>\n      <td>-0.054780</td>\n      <td>0.950433</td>\n      <td>0.970910</td>\n      <td>0.861389</td>\n      <td>0.546542</td>\n      <td>0.936660</td>\n      <td>...</td>\n      <td>0.842856</td>\n      <td>0.311613</td>\n      <td>-0.580125</td>\n      <td>0.199657</td>\n      <td>0.624014</td>\n      <td>0.713256</td>\n      <td>0.051250</td>\n      <td>0.110328</td>\n      <td>0.541402</td>\n      <td>0</td>\n    </tr>\n    <tr>\n      <th>3</th>\n      <td>4</td>\n      <td>-0.296770</td>\n      <td>-0.984852</td>\n      <td>-0.800620</td>\n      <td>-0.927408</td>\n      <td>-0.945566</td>\n      <td>-0.611553</td>\n      <td>0.795796</td>\n      <td>-0.885091</td>\n      <td>-0.822636</td>\n      <td>...</td>\n      <td>0.544515</td>\n      <td>0.510231</td>\n      <td>-0.398164</td>\n      <td>-0.583682</td>\n      <td>0.302478</td>\n      <td>0.749417</td>\n      <td>0.376856</td>\n      <td>-0.161113</td>\n      <td>0.451871</td>\n      <td>0</td>\n    </tr>\n    <tr>\n      <th>4</th>\n      <td>5</td>\n      <td>-0.656211</td>\n      <td>-0.886214</td>\n      <td>-0.360784</td>\n      <td>-0.883866</td>\n      <td>-0.775522</td>\n      <td>-0.106894</td>\n      <td>-0.419718</td>\n      <td>-0.759592</td>\n      <td>-0.685957</td>\n      <td>...</td>\n      <td>-0.349981</td>\n      <td>-0.878587</td>\n      <td>-0.993249</td>\n      <td>-0.989981</td>\n      <td>-0.832672</td>\n      <td>-0.549340</td>\n      <td>-0.949420</td>\n      <td>-0.943469</td>\n      <td>-0.586251</td>\n      <td>0</td>\n    </tr>\n  </tbody>\n</table>\n<p>5 rows × 52 columns</p>\n</div>"
                    },
                    "metadata": {}
                }
            ],
            "execution_count": 16
        },
        {
            "cell_type": "markdown",
            "source": [
                "#### 5. Apply the Logistic Regression model on each of these datasets and get the accuracy scores."
            ],
            "metadata": {
                "azdata_cell_guid": "7ef777c7-62ef-4b9d-bee5-00da132b5839"
            }
        },
        {
            "cell_type": "code",
            "source": [
                "yaxis = []\n",
                "xaxis = []\n",
                "\n",
                "variance_list = [0.1, 0.2, 0.3, 0.4]\n",
                "\n",
                "for i in variance_list:\n",
                "    x,y = Logistic_Regression_Variance_filter(i)\n",
                "    xaxis.append(x)\n",
                "    yaxis.append(y)\n",
                "    \n",
                "for i in range(len(xaxis)):\n",
                "    print(\"Variance: {} Model Accuracy: {}\".format(xaxis[i],yaxis[i].round(3)))"
            ],
            "metadata": {
                "azdata_cell_guid": "0b6d5c75-5531-4bf7-aaa6-5965b589a883",
                "language": "python"
            },
            "outputs": [
                {
                    "output_type": "stream",
                    "name": "stdout",
                    "text": "Variance: 0.1 Model Accuracy: 0.988\nVariance: 0.2 Model Accuracy: 0.992\nVariance: 0.3 Model Accuracy: 0.988\nVariance: 0.4 Model Accuracy: 0.946\n"
                }
            ],
            "execution_count": 17
        },
        {
            "cell_type": "markdown",
            "source": [
                "#### 6. Compare the accuracy scores and define does the feature selection improve the model or not."
            ],
            "metadata": {
                "azdata_cell_guid": "a1b0735d-d299-46fb-a32a-b3f0c88ad247"
            }
        },
        {
            "cell_type": "markdown",
            "source": [
                "The differences between accuracies are small but it is worth mentioning that by increasing the variance threshold the accuracy tends to go lower usually at 0.4."
            ],
            "metadata": {
                "azdata_cell_guid": "0a8aa92b-6552-419f-ae27-bc24d2da5c55"
            }
        },
        {
            "cell_type": "markdown",
            "source": [
                "#### 7. Show the of accuracy scores on a plot (line chart)."
            ],
            "metadata": {
                "azdata_cell_guid": "ee2a9092-fd6f-4cf0-9654-135dcfb82949"
            }
        },
        {
            "cell_type": "code",
            "source": [
                "line_x = np.array(xaxis)\n",
                "line_y = np.array(yaxis)\n",
                "\n",
                "\n",
                "plt.plot(line_x,line_y)\n",
                "plt.title('Different Variance Accuracy Levels name')\n",
                "plt.xlabel('Var Threshold')\n",
                "plt.ylabel('Accuracy')\n",
                "plt.show()"
            ],
            "metadata": {
                "scrolled": true,
                "azdata_cell_guid": "2f3d8eb8-cc33-4572-a7e8-05d7bc266c65",
                "language": "python"
            },
            "outputs": [
                {
                    "output_type": "display_data",
                    "data": {
                        "text/plain": "<Figure size 432x288 with 1 Axes>",
                        "image/png": "[encoded data removed]"
                    },
                    "metadata": {
                        "needs_background": "light"
                    }
                }
            ],
            "execution_count": 18
        }
    ]
}