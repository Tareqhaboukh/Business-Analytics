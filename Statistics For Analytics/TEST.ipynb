{
    "cells": [
        {
            "attachments": {},
            "cell_type": "markdown",
            "metadata": {
                "azdata_cell_guid": "88ef0761-0620-4485-97e4-6bdf96b003fe"
            },
            "source": [
                "<h3> BAN 100 Assignment: 1993 Cars Analysis</h3>\n",
                "\n",
                "<p>In this data audit report, we will be analyzing a data set from a client that contains information about 1993 vehicles to understand it more clearly as well as explore its statistical characteristics. This data set has <b>93 rows</b> and <b>26 columns</b> as the table below describes the meaning of each column.<p>"
            ]
        },
        {
            "attachments": {},
            "cell_type": "markdown",
            "metadata": {
                "azdata_cell_guid": "0805dccb-aec0-4290-bd46-3e387371ee90"
            },
            "source": [
                "| Variable      | Description   | Type          | Type          | Unit          |\n",
                "| ------------- | ------------- | ------------- | ------------- | ------------- |\n",
                "| Manufacturer  | The brand name of the vehicle manufacturer | Character | Nominal |||\n",
                "| Model         | The name of the vehicle product line | Character | Nominal |||\n",
                "| Category      | Vehicle category classification (Midsize, Compact, large, Sporty, Van) |Character       | Nominal|||\n",
                "| Min_Price     | The lowest selling price of the vehicle | Numric | Continuous | Thousand Dollars |\n",
                "| Mid_Price     | The middile selling price of the vehicle | Numric | Continuous | Thousand Dollars |\n",
                "| Max_Price     | The highest selling price of the vehicle | Numric | Continuous |Thousand Dollars|\n",
                "| City_Fuel     | The distance in miles that a vehicle can travel per gallon in city conditions | Numric |Discrete| Miles per Gallon|\n",
                "| Hwy_Fuel      | The distance in miles that a vehicle can travel per gallon in on highway conditions| Numric | Discrete| Miles per Gallon |\n",
                "| Air_Bags      | Number of Airbags installed in the vehicle | Numric | Discrete|||\n",
                "| Drive_Train   | Number of Drivetrain installed in the vehicle| Numric | Discrete|||\n",
                "| Cylinders     | Number of Cylinders the vehicle engine has | Numric| Discrete|||\n",
                "| Engine_Size   | The measurement of the total volume of the cylinders in the engine| Numric| Continuous| Liters|\n",
                "| Max_HP        | The maximum amount of horsepower the engine can produce | Numric | Discrete| HP|||\n",
                "| Max_HP_RPM    |The engine RPM (rotation per minute) at the highest Horse power| Numric | Discrete | RPM |\n",
                "| RPM_high      | | Numric| Discrete | RPM |\n",
                "| Manual        | If the vehicle has a manual transmition (1 is True, 0 is Flase) | Character | Nominal | 1 = True, 2 = False |||\n",
                "| Fuel_Tank     | The volume capacity of a vehicle's fuel tank in gallons| Numric | Continuous | Gallons |\n",
                "| Passenger\t    | The maximum number of passengers |Numric| Discrete |\n",
                "| Length        | The length of a vehicle in inches | Numric |Discrete | Inches |\n",
                "| Wheel_Base    | The horizontal distance between the centers of the front and rear wheels|\tNumric | Discrete| Inches |\n",
                "| Width         | The width of a vehicle in inches | Numric | Discrete | Inches |\n",
                "| U_Turn_Diam   | The minimum diameter of available space required for a vehicle to make a U turn | Numric | Discrete | Feet |\n",
                "| Rear_Room\t    | The volume capacity of the rear seate area in cubic feet | Numric | Continuous | Cubic Feet |\n",
                "| Luggage       | The volume capacity of the lugguage area in cubic feet | Numric |\tDiscrete | Cubic Feet |\n",
                "| Weight        | The weight of the car in pounds | Numric | Discrete |Pounds|\n",
                "| Domestic      | If the vehicle was manufactured in the United States (1 is Ture, 0 is False) | Character | Nominal | 1 = True, 2 = False|\n",
                "\n",
                "\n",
                "\n",
                "* More information needed for the RPM_high variable as it is not clear\n"
            ]
        },
        {
            "attachments": {},
            "cell_type": "markdown",
            "metadata": {
                "azdata_cell_guid": "df46de1d-512c-4d52-b8cd-9b8420f63452"
            },
            "source": []
        }
    ],
    "metadata": {
        "kernelspec": {
            "display_name": "SQL",
            "language": "sql",
            "name": "SQL"
        },
        "language_info": {
            "name": "sql",
            "version": ""
        }
    },
    "nbformat": 4,
    "nbformat_minor": 2
}
