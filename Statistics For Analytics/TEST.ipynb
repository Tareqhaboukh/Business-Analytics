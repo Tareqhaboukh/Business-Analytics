{
    "metadata": {
        "kernelspec": {
            "name": "SQL",
            "display_name": "SQL",
            "language": "sql"
        },
        "language_info": {
            "name": "sql",
            "version": ""
        }
    },
    "nbformat_minor": 2,
    "nbformat": 4,
    "cells": [
        {
            "cell_type": "markdown",
            "source": [
                "<h3> BAN 100 Assignment: 1993 Cars Analysis</h3>\r\n",
                "\r\n",
                "<p>In this data audit report, we will be analyzing a data set from a client that contains information about 1993 vehicles to understand it more clearly as well as explore its statistical characteristics. This data set has <b>93 rows</b> and <b>26 columns</b> as the table below describes the meaning of each column.<p>"
            ],
            "metadata": {
                "azdata_cell_guid": "88ef0761-0620-4485-97e4-6bdf96b003fe"
            },
            "attachments": {}
        },
        {
            "cell_type": "markdown",
            "source": [
                "| Variable | Description | Type | | Unit | | Manufacturer | The brand name of the vehicle manufacturer | Character | Nominal | | | Model | The name of the vehicle product line | Character | Nominal | | | Category | Vehicle category classification (Midsize, Compact, large, Sporty, Van) | Character | Nominal | | | Min\\_Price | The lowest selling price of the vehicle | Numric | Continuous | Thousand Dollars | | Mid\\_Price | The middile selling price of the vehicle | Numric | Continuous | Thousand Dollars | | Max\\_Price | The highest selling price of the vehicle | Numric | Continuous | Thousand Dollars | | City\\_Fuel | The distance in miles that a vehicle can travel per gallon in city conditions | Numric | Discrete | Miles per Gallon | | Hwy\\_Fuel | The distance in miles that a vehicle can travel per gallon in on highway conditions | Numric | Discrete | Miles per Gallon | | Air\\_Bags | Number of Airbags installed in the vehicle | Numric | Discrete | | | Drive\\_Train | Number of Drivetrain installed in the vehicle | Numric | Discrete | | | Cylinders | Number of Cylinders the vehicle engine has | Numric | Discrete | | | Engine\\_Size | The measurement of the total volume of the cylinders in the engine | Numric | Continuous | Liters | | Max\\_HP | The maximum amount of horsepower the engine can produce | Numric | Discrete | HP | | Max\\_HP\\_RPM | The engine RPM (rotation per minute) at the highest Horse power | Numric | Discrete | RPM | | RPM\\_high | | Numric | Discrete | RPM | | Manual | If the vehicle has a manual transmition (1 is True, 0 is Flase) | Character | Nominal | 1 = True, 2 = False | | Fuel\\_Tank | The volume capacity of a vehicle's fuel tank in gallons | Numric | Continuous | Gallons | | Passenger | The maximum number of passengers | Numric | Discrete | | | Length | The length of a vehicle in inches | Numric | Discrete | Inches | | Wheel\\_Base | The horizontal distance between the centers of the front and rear wheels | Numric | Discrete | Inches | | Width | The width of a vehicle in inches | Numric | Discrete | Inches | | U\\_Turn\\_Diam | The minimum diameter of available space required for a vehicle to make a U turn | Numric | Discrete | Feet | | Rear\\_Room | The volume capacity of the rear seate area in cubic feet | Numric | Continuous | Cubic Feet | | Luggage | The volume capacity of the lugguage area in cubic feet | Numric | Discrete | Cubic Feet | | Weight | The weight of the car in pounds | Numric | Discrete | Pounds | | Domestic | If the vehicle was manufactured in the United States (1 is Ture, 0 is False) | Character | Nominal | 1 = True, 2 = False |"
            ],
            "metadata": {
                "azdata_cell_guid": "dd0147d8-908f-4559-9f54-6bd3f62eff0d",
                "language": ""
            },
            "attachments": {}
        }
    ]
}