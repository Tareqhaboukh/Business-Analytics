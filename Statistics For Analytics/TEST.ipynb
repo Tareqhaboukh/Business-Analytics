{
    "metadata": {
        "kernelspec": {
            "name": "SQL",
            "display_name": "SQL",
            "language": "sql"
        },
        "language_info": {
            "name": "sql",
            "version": ""
        }
    },
    "nbformat_minor": 2,
    "nbformat": 4,
    "cells": [
        {
            "cell_type": "markdown",
            "source": [
                "<h3> BAN 100 Assignment: 1993 Cars Analysis</h3>\r\n",
                "\r\n",
                "<p>In this data audit report, we will be analyzing a data set from a client that contains information about 1993 vehicles to understand it more clearly as well as explore its statistical characteristics. This data set has <b>93 rows</b> and <b>26 columns</b> as the table below describes the meaning of each column.<p>"
            ],
            "metadata": {
                "azdata_cell_guid": "88ef0761-0620-4485-97e4-6bdf96b003fe"
            },
            "attachments": {}
        },
        {
            "cell_type": "markdown",
            "source": [
                "```\n",
                "| First Header  | Second Header |\n",
                "| ------------- | ------------- |\n",
                "| Content Cell  | Content Cell  |\n",
                "| Content Cell  | Content Cell  |\n",
                "```"
            ],
            "metadata": {
                "azdata_cell_guid": "0805dccb-aec0-4290-bd46-3e387371ee90"
            },
            "attachments": {}
        }
    ]
}