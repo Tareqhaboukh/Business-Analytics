{
    "metadata": {
        "kernelspec": {
            "name": "python3",
            "display_name": "Python 3 (ipykernel)",
            "language": "python"
        },
        "language_info": {
            "name": "python",
            "version": "3.8.11",
            "mimetype": "text/x-python",
            "codemirror_mode": {
                "name": "ipython",
                "version": 3
            },
            "pygments_lexer": "ipython3",
            "nbconvert_exporter": "python",
            "file_extension": ".py"
        }
    },
    "nbformat_minor": 2,
    "nbformat": 4,
    "cells": [
        {
            "cell_type": "markdown",
            "source": [
                "# TMDb Movie Data Analysis\n",
                "\n",
                "## Table of Contents\n",
                "<ul>\n",
                "<li><a href=\"#intro\">Introduction</a></li>\n",
                "<li><a href=\"#wrangling\">Data Wrangling</a></li>\n",
                "<li><a href=\"#eda\">Exploratory Data Analysis</a></li>\n",
                "<li><a href=\"#conclusions\">Conclusions</a></li>\n",
                "</ul>\n",
                "\n",
                "<a id='intro'></a>\n",
                "## Introduction\n",
                "\n",
                "### Dataset Description \n",
                "\n",
                "In this project we will be analyzing a dataset from The Movie Database (TMDb) that contains information about more than 10,000 movies. we are interested in finding trends and patterns between different genres, popularity, budgets and the effect of these factors on revenues.\n",
                "\n",
                "This dataset has the following 21 columns with 10866 rows:\n",
                "<ul>\n",
                "    <li>id</li>\n",
                "    <li>imdb_id</li>\n",
                "    <li>popularity</li>\n",
                "    <li>budget</li>\n",
                "    <li>revenue</li>\n",
                "    <li>original_title</li>\n",
                "    <li>cast</li>\n",
                "    <li>homepage</li>\n",
                "    <li>director</li>\n",
                "    <li>tagline</li>\n",
                "    <li>keywords</li>\n",
                "    <li>overview</li>\n",
                "    <li>runtime</li>\n",
                "    <li>genres</li>\n",
                "    <li>production_companies</li>\n",
                "    <li>release_date</li>\n",
                "    <li>vote_count</li>\n",
                "    <li>vote_average</li>\n",
                "    <li>release_year</li>\n",
                "    <li>budget_adj</li>\n",
                "    <li>revenue_adj</li>\n",
                "</ul>\n",
                "\n",
                "\n",
                "### Question(s) for Analysis\n",
                "\n",
                "Average Runtime by Genre<br>\n",
                "Average Runtime By Most liked Genres<br>\n",
                "Is there a relation between Runtime and Average Vote<br>"
            ],
            "metadata": {
                "azdata_cell_guid": "ce2a6f62-0f46-4c57-938b-ae747142bd3b"
            }
        },
        {
            "cell_type": "code",
            "source": [
                "#Import panda,numpy, matplotlib\n",
                "import pandas as pd\n",
                "import numpy as np\n",
                "import matplotlib.pyplot as plt\n",
                "%matplotlib inline"
            ],
            "metadata": {
                "azdata_cell_guid": "1bd8aefb-4be4-434c-b411-a4964daece9e",
                "language": "python"
            },
            "outputs": [],
            "execution_count": 1
        },
        {
            "cell_type": "markdown",
            "source": [
                "<a id='wrangling'></a>\n",
                "## Data Wrangling\n",
                "\n",
                "### General Properties\n",
                "<ul>\n",
                "    <li> <b>53%</b> of the data have possibly wrong values for the budget and revenue columns (where budget less than 5,000 usd). the data must be cleaned and stored in a seperate dataframe before answering questions related to revenue</li>\n",
                "    <li>Column labels and data types are good, there is no need to change anything.</li>\n",
                "    <li>Columns <b>(imdb_id, cast, homepage, director, tagline, keywords, overview, production_companies)</b> are <b>irrelevant</b> for this analysis and will be drop from the dataset.</li>\n",
                "    <li>There are 23 missing data rows in the column <b>genres</b> and after going through them, I decided to drop them due to bad quality</li>\n",
                "    <li><b>genres</b> are collected into one column and delimited by <b>colon</b>, in order to to analyse different genres we need to be split them into seperate rows for the same rows</li>\n",
                "    <li> only one duplicated data found</li>\n",
                "</ul>"
            ],
            "metadata": {
                "azdata_cell_guid": "4c14fc58-46ca-4b78-ae4b-14ce24d65a11"
            }
        },
        {
            "cell_type": "code",
            "source": [
                "# This cell is to read from the dataset.\n",
                "df_movies = pd.read_csv('tmdb-movies.csv')\n",
                "\n",
                "# To show a sample of the data.\n",
                "df_movies.head()"
            ],
            "metadata": {
                "scrolled": true,
                "azdata_cell_guid": "0ed09c5c-048f-4802-9012-936d7b4b2dd5",
                "language": "python"
            },
            "outputs": [
                {
                    "data": {
                        "text/plain": "       id    imdb_id  popularity     budget     revenue  \\\n0  135397  tt0369610   32.985763  150000000  1513528810   \n1   76341  tt1392190   28.419936  150000000   378436354   \n2  262500  tt2908446   13.112507  110000000   295238201   \n3  140607  tt2488496   11.173104  200000000  2068178225   \n4  168259  tt2820852    9.335014  190000000  1506249360   \n\n                 original_title  \\\n0                Jurassic World   \n1            Mad Max: Fury Road   \n2                     Insurgent   \n3  Star Wars: The Force Awakens   \n4                     Furious 7   \n\n                                                cast  \\\n0  Chris Pratt|Bryce Dallas Howard|Irrfan Khan|Vi...   \n1  Tom Hardy|Charlize Theron|Hugh Keays-Byrne|Nic...   \n2  Shailene Woodley|Theo James|Kate Winslet|Ansel...   \n3  Harrison Ford|Mark Hamill|Carrie Fisher|Adam D...   \n4  Vin Diesel|Paul Walker|Jason Statham|Michelle ...   \n\n                                            homepage          director  \\\n0                      http://www.jurassicworld.com/   Colin Trevorrow   \n1                        http://www.madmaxmovie.com/     George Miller   \n2     http://www.thedivergentseries.movie/#insurgent  Robert Schwentke   \n3  http://www.starwars.com/films/star-wars-episod...       J.J. Abrams   \n4                           http://www.furious7.com/         James Wan   \n\n                         tagline  ...  \\\n0              The park is open.  ...   \n1             What a Lovely Day.  ...   \n2     One Choice Can Destroy You  ...   \n3  Every generation has a story.  ...   \n4            Vengeance Hits Home  ...   \n\n                                            overview runtime  \\\n0  Twenty-two years after the events of Jurassic ...     124   \n1  An apocalyptic story set in the furthest reach...     120   \n2  Beatrice Prior must confront her inner demons ...     119   \n3  Thirty years after defeating the Galactic Empi...     136   \n4  Deckard Shaw seeks revenge against Dominic Tor...     137   \n\n                                      genres  \\\n0  Action|Adventure|Science Fiction|Thriller   \n1  Action|Adventure|Science Fiction|Thriller   \n2         Adventure|Science Fiction|Thriller   \n3   Action|Adventure|Science Fiction|Fantasy   \n4                      Action|Crime|Thriller   \n\n                                production_companies release_date vote_count  \\\n0  Universal Studios|Amblin Entertainment|Legenda...       6/9/15       5562   \n1  Village Roadshow Pictures|Kennedy Miller Produ...      5/13/15       6185   \n2  Summit Entertainment|Mandeville Films|Red Wago...      3/18/15       2480   \n3          Lucasfilm|Truenorth Productions|Bad Robot     12/15/15       5292   \n4  Universal Pictures|Original Film|Media Rights ...       4/1/15       2947   \n\n   vote_average  release_year    budget_adj   revenue_adj  \n0           6.5          2015  1.379999e+08  1.392446e+09  \n1           7.1          2015  1.379999e+08  3.481613e+08  \n2           6.3          2015  1.012000e+08  2.716190e+08  \n3           7.5          2015  1.839999e+08  1.902723e+09  \n4           7.3          2015  1.747999e+08  1.385749e+09  \n\n[5 rows x 21 columns]",
                        "text/html": "<div>\n<style scoped>\n    .dataframe tbody tr th:only-of-type {\n        vertical-align: middle;\n    }\n\n    .dataframe tbody tr th {\n        vertical-align: top;\n    }\n\n    .dataframe thead th {\n        text-align: right;\n    }\n</style>\n<table border=\"1\" class=\"dataframe\">\n  <thead>\n    <tr style=\"text-align: right;\">\n      <th></th>\n      <th>id</th>\n      <th>imdb_id</th>\n      <th>popularity</th>\n      <th>budget</th>\n      <th>revenue</th>\n      <th>original_title</th>\n      <th>cast</th>\n      <th>homepage</th>\n      <th>director</th>\n      <th>tagline</th>\n      <th>...</th>\n      <th>overview</th>\n      <th>runtime</th>\n      <th>genres</th>\n      <th>production_companies</th>\n      <th>release_date</th>\n      <th>vote_count</th>\n      <th>vote_average</th>\n      <th>release_year</th>\n      <th>budget_adj</th>\n      <th>revenue_adj</th>\n    </tr>\n  </thead>\n  <tbody>\n    <tr>\n      <th>0</th>\n      <td>135397</td>\n      <td>tt0369610</td>\n      <td>32.985763</td>\n      <td>150000000</td>\n      <td>1513528810</td>\n      <td>Jurassic World</td>\n      <td>Chris Pratt|Bryce Dallas Howard|Irrfan Khan|Vi...</td>\n      <td>http://www.jurassicworld.com/</td>\n      <td>Colin Trevorrow</td>\n      <td>The park is open.</td>\n      <td>...</td>\n      <td>Twenty-two years after the events of Jurassic ...</td>\n      <td>124</td>\n      <td>Action|Adventure|Science Fiction|Thriller</td>\n      <td>Universal Studios|Amblin Entertainment|Legenda...</td>\n      <td>6/9/15</td>\n      <td>5562</td>\n      <td>6.5</td>\n      <td>2015</td>\n      <td>1.379999e+08</td>\n      <td>1.392446e+09</td>\n    </tr>\n    <tr>\n      <th>1</th>\n      <td>76341</td>\n      <td>tt1392190</td>\n      <td>28.419936</td>\n      <td>150000000</td>\n      <td>378436354</td>\n      <td>Mad Max: Fury Road</td>\n      <td>Tom Hardy|Charlize Theron|Hugh Keays-Byrne|Nic...</td>\n      <td>http://www.madmaxmovie.com/</td>\n      <td>George Miller</td>\n      <td>What a Lovely Day.</td>\n      <td>...</td>\n      <td>An apocalyptic story set in the furthest reach...</td>\n      <td>120</td>\n      <td>Action|Adventure|Science Fiction|Thriller</td>\n      <td>Village Roadshow Pictures|Kennedy Miller Produ...</td>\n      <td>5/13/15</td>\n      <td>6185</td>\n      <td>7.1</td>\n      <td>2015</td>\n      <td>1.379999e+08</td>\n      <td>3.481613e+08</td>\n    </tr>\n    <tr>\n      <th>2</th>\n      <td>262500</td>\n      <td>tt2908446</td>\n      <td>13.112507</td>\n      <td>110000000</td>\n      <td>295238201</td>\n      <td>Insurgent</td>\n      <td>Shailene Woodley|Theo James|Kate Winslet|Ansel...</td>\n      <td>http://www.thedivergentseries.movie/#insurgent</td>\n      <td>Robert Schwentke</td>\n      <td>One Choice Can Destroy You</td>\n      <td>...</td>\n      <td>Beatrice Prior must confront her inner demons ...</td>\n      <td>119</td>\n      <td>Adventure|Science Fiction|Thriller</td>\n      <td>Summit Entertainment|Mandeville Films|Red Wago...</td>\n      <td>3/18/15</td>\n      <td>2480</td>\n      <td>6.3</td>\n      <td>2015</td>\n      <td>1.012000e+08</td>\n      <td>2.716190e+08</td>\n    </tr>\n    <tr>\n      <th>3</th>\n      <td>140607</td>\n      <td>tt2488496</td>\n      <td>11.173104</td>\n      <td>200000000</td>\n      <td>2068178225</td>\n      <td>Star Wars: The Force Awakens</td>\n      <td>Harrison Ford|Mark Hamill|Carrie Fisher|Adam D...</td>\n      <td>http://www.starwars.com/films/star-wars-episod...</td>\n      <td>J.J. Abrams</td>\n      <td>Every generation has a story.</td>\n      <td>...</td>\n      <td>Thirty years after defeating the Galactic Empi...</td>\n      <td>136</td>\n      <td>Action|Adventure|Science Fiction|Fantasy</td>\n      <td>Lucasfilm|Truenorth Productions|Bad Robot</td>\n      <td>12/15/15</td>\n      <td>5292</td>\n      <td>7.5</td>\n      <td>2015</td>\n      <td>1.839999e+08</td>\n      <td>1.902723e+09</td>\n    </tr>\n    <tr>\n      <th>4</th>\n      <td>168259</td>\n      <td>tt2820852</td>\n      <td>9.335014</td>\n      <td>190000000</td>\n      <td>1506249360</td>\n      <td>Furious 7</td>\n      <td>Vin Diesel|Paul Walker|Jason Statham|Michelle ...</td>\n      <td>http://www.furious7.com/</td>\n      <td>James Wan</td>\n      <td>Vengeance Hits Home</td>\n      <td>...</td>\n      <td>Deckard Shaw seeks revenge against Dominic Tor...</td>\n      <td>137</td>\n      <td>Action|Crime|Thriller</td>\n      <td>Universal Pictures|Original Film|Media Rights ...</td>\n      <td>4/1/15</td>\n      <td>2947</td>\n      <td>7.3</td>\n      <td>2015</td>\n      <td>1.747999e+08</td>\n      <td>1.385749e+09</td>\n    </tr>\n  </tbody>\n</table>\n<p>5 rows × 21 columns</p>\n</div>"
                    },
                    "metadata": {},
                    "execution_count": 3,
                    "output_type": "execute_result"
                }
            ],
            "execution_count": 3
        },
        {
            "cell_type": "markdown",
            "source": [
                "The only significant column with missing data are in the <b>genres</b> column, most of the rest will be dropped.<br>\n",
                "Column names and data types are good."
            ],
            "metadata": {
                "azdata_cell_guid": "c2d0f00b-224a-494e-90c0-477573a575fd"
            }
        },
        {
            "cell_type": "code",
            "source": [
                "# The info method to list column names, check data types and missing data\n",
                "df_movies.info()"
            ],
            "metadata": {
                "scrolled": true,
                "azdata_cell_guid": "a2db711a-3628-4239-8678-1283ce3ee314",
                "language": "python"
            },
            "outputs": [
                {
                    "name": "stdout",
                    "text": "<class 'pandas.core.frame.DataFrame'>\nRangeIndex: 10866 entries, 0 to 10865\nData columns (total 21 columns):\n #   Column                Non-Null Count  Dtype  \n---  ------                --------------  -----  \n 0   id                    10866 non-null  int64  \n 1   imdb_id               10856 non-null  object \n 2   popularity            10866 non-null  float64\n 3   budget                10866 non-null  int64  \n 4   revenue               10866 non-null  int64  \n 5   original_title        10866 non-null  object \n 6   cast                  10790 non-null  object \n 7   homepage              2936 non-null   object \n 8   director              10822 non-null  object \n 9   tagline               8042 non-null   object \n 10  keywords              9373 non-null   object \n 11  overview              10862 non-null  object \n 12  runtime               10866 non-null  int64  \n 13  genres                10843 non-null  object \n 14  production_companies  9836 non-null   object \n 15  release_date          10866 non-null  object \n 16  vote_count            10866 non-null  int64  \n 17  vote_average          10866 non-null  float64\n 18  release_year          10866 non-null  int64  \n 19  budget_adj            10866 non-null  float64\n 20  revenue_adj           10866 non-null  float64\ndtypes: float64(4), int64(6), object(11)\nmemory usage: 1.7+ MB\n",
                    "output_type": "stream"
                }
            ],
            "execution_count": 4
        },
        {
            "cell_type": "markdown",
            "source": [
                "By looking information from the describe method<br>\n",
                "<b>50%</b> of the values in <b>budget</b>, <b>revenue</b> and <b>popularity</b> is <b>0</b> which indicates missing values thus further investigation required"
            ],
            "metadata": {
                "azdata_cell_guid": "8c12ed91-1dd6-4d70-98cf-f3671e33a32e"
            }
        },
        {
            "cell_type": "code",
            "source": [
                "df_movies.describe().astype(float).round()"
            ],
            "metadata": {
                "scrolled": true,
                "azdata_cell_guid": "3b144bb1-4a1b-407b-b478-97ae2ea5344b",
                "language": "python"
            },
            "outputs": [
                {
                    "data": {
                        "text/plain": "             id  popularity       budget       revenue  runtime  vote_count  \\\ncount   10866.0     10866.0      10866.0  1.086600e+04  10866.0     10866.0   \nmean    66064.0         1.0   14625701.0  3.982332e+07    102.0       217.0   \nstd     92130.0         1.0   30913214.0  1.170035e+08     31.0       576.0   \nmin         5.0         0.0          0.0  0.000000e+00      0.0        10.0   \n25%     10596.0         0.0          0.0  0.000000e+00     90.0        17.0   \n50%     20669.0         0.0          0.0  0.000000e+00     99.0        38.0   \n75%     75610.0         1.0   15000000.0  2.400000e+07    111.0       146.0   \nmax    417859.0        33.0  425000000.0  2.781506e+09    900.0      9767.0   \n\n       vote_average  release_year   budget_adj   revenue_adj  \ncount       10866.0       10866.0      10866.0  1.086600e+04  \nmean            6.0        2001.0   17551040.0  5.136436e+07  \nstd             1.0          13.0   34306156.0  1.446325e+08  \nmin             2.0        1960.0          0.0  0.000000e+00  \n25%             5.0        1995.0          0.0  0.000000e+00  \n50%             6.0        2006.0          0.0  0.000000e+00  \n75%             7.0        2011.0   20853251.0  3.369710e+07  \nmax             9.0        2015.0  425000000.0  2.827124e+09  ",
                        "text/html": "<div>\n<style scoped>\n    .dataframe tbody tr th:only-of-type {\n        vertical-align: middle;\n    }\n\n    .dataframe tbody tr th {\n        vertical-align: top;\n    }\n\n    .dataframe thead th {\n        text-align: right;\n    }\n</style>\n<table border=\"1\" class=\"dataframe\">\n  <thead>\n    <tr style=\"text-align: right;\">\n      <th></th>\n      <th>id</th>\n      <th>popularity</th>\n      <th>budget</th>\n      <th>revenue</th>\n      <th>runtime</th>\n      <th>vote_count</th>\n      <th>vote_average</th>\n      <th>release_year</th>\n      <th>budget_adj</th>\n      <th>revenue_adj</th>\n    </tr>\n  </thead>\n  <tbody>\n    <tr>\n      <th>count</th>\n      <td>10866.0</td>\n      <td>10866.0</td>\n      <td>10866.0</td>\n      <td>1.086600e+04</td>\n      <td>10866.0</td>\n      <td>10866.0</td>\n      <td>10866.0</td>\n      <td>10866.0</td>\n      <td>10866.0</td>\n      <td>1.086600e+04</td>\n    </tr>\n    <tr>\n      <th>mean</th>\n      <td>66064.0</td>\n      <td>1.0</td>\n      <td>14625701.0</td>\n      <td>3.982332e+07</td>\n      <td>102.0</td>\n      <td>217.0</td>\n      <td>6.0</td>\n      <td>2001.0</td>\n      <td>17551040.0</td>\n      <td>5.136436e+07</td>\n    </tr>\n    <tr>\n      <th>std</th>\n      <td>92130.0</td>\n      <td>1.0</td>\n      <td>30913214.0</td>\n      <td>1.170035e+08</td>\n      <td>31.0</td>\n      <td>576.0</td>\n      <td>1.0</td>\n      <td>13.0</td>\n      <td>34306156.0</td>\n      <td>1.446325e+08</td>\n    </tr>\n    <tr>\n      <th>min</th>\n      <td>5.0</td>\n      <td>0.0</td>\n      <td>0.0</td>\n      <td>0.000000e+00</td>\n      <td>0.0</td>\n      <td>10.0</td>\n      <td>2.0</td>\n      <td>1960.0</td>\n      <td>0.0</td>\n      <td>0.000000e+00</td>\n    </tr>\n    <tr>\n      <th>25%</th>\n      <td>10596.0</td>\n      <td>0.0</td>\n      <td>0.0</td>\n      <td>0.000000e+00</td>\n      <td>90.0</td>\n      <td>17.0</td>\n      <td>5.0</td>\n      <td>1995.0</td>\n      <td>0.0</td>\n      <td>0.000000e+00</td>\n    </tr>\n    <tr>\n      <th>50%</th>\n      <td>20669.0</td>\n      <td>0.0</td>\n      <td>0.0</td>\n      <td>0.000000e+00</td>\n      <td>99.0</td>\n      <td>38.0</td>\n      <td>6.0</td>\n      <td>2006.0</td>\n      <td>0.0</td>\n      <td>0.000000e+00</td>\n    </tr>\n    <tr>\n      <th>75%</th>\n      <td>75610.0</td>\n      <td>1.0</td>\n      <td>15000000.0</td>\n      <td>2.400000e+07</td>\n      <td>111.0</td>\n      <td>146.0</td>\n      <td>7.0</td>\n      <td>2011.0</td>\n      <td>20853251.0</td>\n      <td>3.369710e+07</td>\n    </tr>\n    <tr>\n      <th>max</th>\n      <td>417859.0</td>\n      <td>33.0</td>\n      <td>425000000.0</td>\n      <td>2.781506e+09</td>\n      <td>900.0</td>\n      <td>9767.0</td>\n      <td>9.0</td>\n      <td>2015.0</td>\n      <td>425000000.0</td>\n      <td>2.827124e+09</td>\n    </tr>\n  </tbody>\n</table>\n</div>"
                    },
                    "metadata": {},
                    "execution_count": 5,
                    "output_type": "execute_result"
                }
            ],
            "execution_count": 5
        },
        {
            "cell_type": "markdown",
            "source": [
                "53% of the data has <b>budget</b> lower than $5,000"
            ],
            "metadata": {
                "azdata_cell_guid": "bfe90482-8db9-4133-8b40-c691ba969373"
            }
        },
        {
            "cell_type": "code",
            "source": [
                "# returns budgets that are less than 5000 and devide it by number of rows \n",
                "(df_movies.query('budget < 5000').budget.count()/df_movies.budget.count())"
            ],
            "metadata": {
                "azdata_cell_guid": "1ae577e9-5cdd-4568-900f-fc7183f50506",
                "language": "python"
            },
            "outputs": [
                {
                    "data": {
                        "text/plain": "0.5298177802319161"
                    },
                    "metadata": {},
                    "execution_count": 6,
                    "output_type": "execute_result"
                }
            ],
            "execution_count": 6
        },
        {
            "cell_type": "markdown",
            "source": [
                "Only one duplicated row found"
            ],
            "metadata": {
                "azdata_cell_guid": "dd83ba77-af0c-4781-b197-15db00efb892"
            }
        },
        {
            "cell_type": "code",
            "source": [
                "# Check for duplicated data\n",
                "df_movies.duplicated().sum()"
            ],
            "metadata": {
                "azdata_cell_guid": "68a28931-2b42-40aa-99f9-c41766727480",
                "language": "python"
            },
            "outputs": [
                {
                    "data": {
                        "text/plain": "1"
                    },
                    "metadata": {},
                    "execution_count": 7,
                    "output_type": "execute_result"
                }
            ],
            "execution_count": 7
        },
        {
            "cell_type": "markdown",
            "source": [
                "Columns <b>(imdb_id, cast, homepage, director, tagline, keywords, overview)</b> are irrelevant for this analysis and needs to dropped from the dataset.<br>\n",
                "    \n",
                "There are 23 missing data rows in genres and after going through I think it is better to drop them for the first question due to their bad quality"
            ],
            "metadata": {
                "azdata_cell_guid": "252f0c62-e5d2-4048-a840-fe052a4a5952"
            }
        },
        {
            "cell_type": "code",
            "source": [
                "#isnull to identify missing rows in the genres column\n",
                "df_movies[df_movies.genres.isnull()]"
            ],
            "metadata": {
                "azdata_cell_guid": "50ad334d-6493-431b-b630-4fe9b36277fa",
                "language": "python"
            },
            "outputs": [
                {
                    "data": {
                        "text/plain": "           id    imdb_id  popularity  budget  revenue  \\\n424    363869  tt4835298    0.244648       0        0   \n620    361043  tt5022680    0.129696       0        0   \n997    287663        NaN    0.330431       0        0   \n1712    21634  tt1073510    0.302095       0        0   \n1897    40534  tt1229827    0.020701       0        0   \n2370   127717  tt1525359    0.081892       0        0   \n2376   315620  tt1672218    0.068411       0        0   \n2853    57892  tt0270053    0.130018       0        0   \n3279    54330  tt1720044    0.145331       0        0   \n4547   123024  tt2305700    0.520520       0        0   \n4732   139463  tt2084977    0.235911       0        0   \n4797   369145        NaN    0.167501       0        0   \n4890   126909  tt2219564    0.083202       0        0   \n5830   282848  tt2986512    0.248944       0        0   \n5934   200204  tt2808968    0.067433       0        0   \n6043   190940  tt2797242    0.039080       0        0   \n6530   168891  tt0818519    0.092724       0        0   \n8234    56804  tt0114844    0.028874       0        0   \n8614    65595  tt0117880    0.273934       0        0   \n8878    92208  tt0250593    0.038045       0        0   \n9307   141859  tt0097446    0.094652       0        0   \n9799    48847  tt0193716    0.175008       0        0   \n10659    4255  tt0065904    0.344172    5000        0   \n\n                                          original_title  \\\n424                                       Belli di papÃ    \n620                                   All Hallows' Eve 2   \n997                 Star Wars Rebels: Spark of Rebellion   \n1712                                   Prayers for Bobby   \n1897              Jonas Brothers: The Concert Experience   \n2370                                     Freshman Father   \n2376                       Doctor Who: A Christmas Carol   \n2853                                           Vizontele   \n3279                                       ì•„ê¸°ì™€ ë‚˜   \n4547   London 2012 Olympic Opening Ceremony: Isles of...   \n4732                                       The Scapegoat   \n4797                             Doctor Who: The Snowmen   \n4890                          Cousin Ben Troop Screening   \n5830                  Doctor Who: The Time of the Doctor   \n5934                                        Prada: Candy   \n6043                                      Bombay Talkies   \n6530                                         Saw Rebirth   \n8234                                     Viaggi di nozze   \n8614                          T2 3-D: Battle Across Time   \n8878                     Mom's Got a Date With a Vampire   \n9307                                           Goldeneye   \n9799                                         The Amputee   \n10659                      The Party at Kitty and Stud's   \n\n                                                    cast  \\\n424    Diego Abatantuono|Matilde Gioli|Andrea Pisani|...   \n620                                                  NaN   \n997    Freddie Prinze Jr.|Vanessa Marshall|Steve Blum...   \n1712   Ryan Kelley|Sigourney Weaver|Henry Czerny|Dan ...   \n1897   Nick Jonas|Joe Jonas|Kevin Jonas|John Lloyd Ta...   \n2370   Britt Irvin|Merrilyn Gann|Barbara Tyson|Anthon...   \n2376   Matt Smith|Karen Gillan|Arthur Darvill|Michael...   \n2853   YÄ±lmaz ErdoÄŸan|Demet Akbag|Altan Erkekli|Cem...   \n3279            Jang Keun-suk|Song Ha-yoon|Kim Jeong-Nan   \n4547   Queen Elizabeth II|Mike Oldfield|Kenneth Brana...   \n4732   Andrew Scott|Jodhi May|Eileen Atkins|Matthew R...   \n4797   Matt Smith|Jenna Coleman|Richard E. Grant|Ian ...   \n4890                                   Jason Schwartzman   \n5830                            Matt Smith|Jenna Coleman   \n5934            Peter Gadiot|Rodolphe Pauly|LÃ©a Seydoux   \n6043   Aamir Khan|Rani Mukerji|Randeep Hooda|Saqib Sa...   \n6530   Whit Anderson|Stan Kirsch|Jeff Shuter|George W...   \n8234   Carlo Verdone|Claudia Gerini|Veronica Pivetti|...   \n8614   Arnold Schwarzenegger|Linda Hamilton|Edward Fu...   \n8878   Matt O'Leary|Laura Vandervoort|Myles Jeffrey|C...   \n9307   Charles Dance|Phyllis Logan|Patrick Ryecart|La...   \n9799                    Catherine E. Coulson|David Lynch   \n10659  Sylvester Stallone|Henrietta Holm|Nicholas War...   \n\n                                                homepage  \\\n424                                                  NaN   \n620                                                  NaN   \n997                                                  NaN   \n1712                     http://www.prayersforbobby.com/   \n1897                                                 NaN   \n2370                                                 NaN   \n2376                                                 NaN   \n2853                                                 NaN   \n3279                                                 NaN   \n4547                          http://www.london2012.com/   \n4732   http://www.island-pictures.co.uk/extras/the-sc...   \n4797                                                 NaN   \n4890   http://www.funnyordie.com/videos/fc132ce8b2/co...   \n5830                                                 NaN   \n5934                                                 NaN   \n6043   http://en.wikipedia.org/wiki/Bombay_Talkies_%2...   \n6530                                                 NaN   \n8234                                                 NaN   \n8614                                                 NaN   \n8878                                                 NaN   \n9307                                                 NaN   \n9799                                                 NaN   \n10659                                                NaN   \n\n                                                director  \\\n424                                         Guido Chiesa   \n620    Antonio Padovan|Bryan Norton|Marc Roussel|Ryan...   \n997                            Steward Lee|Steven G. Lee   \n1712                                     Russell Mulcahy   \n1897                                     Bruce Hendricks   \n2370                                       Michael Scott   \n2376                                                 NaN   \n2853                                    YÄ±lmaz ErdoÄŸan   \n3279                                       Kim Jin-Yeong   \n4547                                         Danny Boyle   \n4732                                   Charles Sturridge   \n4797                                                 NaN   \n4890                                        Wes Anderson   \n5830                                         James Payne   \n5934                          Wes Anderson|Roman Coppola   \n6043   Anurag Kashyap|Dibakar Banerjee|Zoya Akhtar|Ka...   \n6530                            Jeff Shuter|Daniel Viney   \n8234                                       Carlo Verdone   \n8614                                       James Cameron   \n8878                                         Steve Boyum   \n9307                                            Don Boyd   \n9799                                         David Lynch   \n10659                                       Morton Lewis   \n\n                                                 tagline  ...  \\\n424                                                  NaN  ...   \n620                                                  NaN  ...   \n997                                                  NaN  ...   \n1712   Before you echo \"amen\" in your home and place ...  ...   \n1897                                                 NaN  ...   \n2370                                                 NaN  ...   \n2376                                                 NaN  ...   \n2853                                                 NaN  ...   \n3279                                                 NaN  ...   \n4547                               Inspire a generation.  ...   \n4732                                                 NaN  ...   \n4797                                                 NaN  ...   \n4890                                                 NaN  ...   \n5830                        A change is going to come...  ...   \n5934                                               short  ...   \n6043                                                 NaN  ...   \n6530     Somewhere... Somehow... Something went wrong...  ...   \n8234                                                 NaN  ...   \n8614                                                 NaN  ...   \n8878                                                 NaN  ...   \n9307                                                 NaN  ...   \n9799                                                 NaN  ...   \n10659                                                NaN  ...   \n\n                                                overview runtime  genres  \\\n424    Italian remake of the Mexican 2013 hit, \"We th...     100     NaN   \n620    A woman finds a VHS tape on her doorstep that ...      90     NaN   \n997    A Long Time Ago In A Galaxy Far, Far Awayâ€¦ A...      44     NaN   \n1712   True story of Mary Griffith, gay rights crusad...      88     NaN   \n1897   Secure your VIP pass to a once-in-a-lifetime e...      76     NaN   \n2370                                                 NaN       0     NaN   \n2376   Amy Pond and Rory Williams are trapped on a cr...      62     NaN   \n2853   The story takes place in a small town (called ...     110     NaN   \n3279   Joon-soo (Jang Geun -Seok) is a rebellious hig...      96     NaN   \n4547   The London 2012 Olympic Games Opening Ceremony...     220     NaN   \n4732   Set in 1952, as England prepares for the coron...     100     NaN   \n4797   Christmas Eve, 1892, and the falling snow is t...      60     NaN   \n4890   Cousin Ben hosts a screening of Wes Anderson's...       2     NaN   \n5830   Orbiting a quiet backwater planet, the massed ...      60     NaN   \n5934   Candy is a modern chic french woman. She meets...       3     NaN   \n6043   One hundred years of Hindi cinema is celebrate...     127     NaN   \n6530   This comic, set in the world of SAW goes back ...       6     NaN   \n8234   Le vicessitudini di tre coppie di novelli spos...     103     NaN   \n8614   Three freedom fighters attack a large corporat...      12     NaN   \n8878   The Hansen kids are in a jam. Adam and his bes...      85     NaN   \n9307   Fact-based biography of James Bond author, Ian...     105     NaN   \n9799   A double leg amputated woman sits and writes a...       5     NaN   \n10659  Kitty and Stud are lovers. They enjoy a robust...      71     NaN   \n\n                     production_companies release_date vote_count  \\\n424                                   NaN     10/29/15         21   \n620    Ruthless Pictures|Hollywood Shorts      10/6/15         13   \n997                                   NaN      10/3/14         13   \n1712          Daniel Sladek Entertainment      2/27/09         57   \n1897                                  NaN      2/27/09         11   \n2370                                  NaN       6/5/10         12   \n2376                                  NaN     12/25/10         11   \n2853                                  NaN       2/2/01         12   \n3279                                  NaN      8/13/08         11   \n4547                                  BBC      7/27/12         12   \n4732                      Island Pictures       9/9/12         12   \n4797                    BBC Television UK     12/25/12         10   \n4890                                  NaN       1/1/12         14   \n5830                                  NaN     12/25/13         26   \n5934                                  NaN      3/25/13         27   \n6043            Viacom 18 Motion Pictures       5/3/13         12   \n6530                                  NaN     10/24/05         24   \n8234                                  NaN     12/15/95         44   \n8614                                  NaN       1/1/96         14   \n8878                 Walt Disney Pictures     10/13/00         16   \n9307                    Anglia Television      8/26/89         10   \n9799                                  NaN       1/1/74         11   \n10659             Stallion Releasing Inc.      2/10/70         10   \n\n       vote_average  release_year   budget_adj  revenue_adj  \n424             6.1          2015      0.00000          0.0  \n620             5.0          2015      0.00000          0.0  \n997             6.8          2014      0.00000          0.0  \n1712            7.4          2009      0.00000          0.0  \n1897            7.0          2009      0.00000          0.0  \n2370            5.8          2010      0.00000          0.0  \n2376            7.7          2010      0.00000          0.0  \n2853            7.2          2001      0.00000          0.0  \n3279            6.1          2008      0.00000          0.0  \n4547            8.3          2012      0.00000          0.0  \n4732            6.2          2012      0.00000          0.0  \n4797            7.8          2012      0.00000          0.0  \n4890            7.0          2012      0.00000          0.0  \n5830            8.5          2013      0.00000          0.0  \n5934            6.9          2013      0.00000          0.0  \n6043            5.9          2013      0.00000          0.0  \n6530            5.9          2005      0.00000          0.0  \n8234            6.7          1995      0.00000          0.0  \n8614            6.7          1996      0.00000          0.0  \n8878            5.4          2000      0.00000          0.0  \n9307            5.3          1989      0.00000          0.0  \n9799            5.0          1974      0.00000          0.0  \n10659           3.0          1970  28081.84172          0.0  \n\n[23 rows x 21 columns]",
                        "text/html": "<div>\n<style scoped>\n    .dataframe tbody tr th:only-of-type {\n        vertical-align: middle;\n    }\n\n    .dataframe tbody tr th {\n        vertical-align: top;\n    }\n\n    .dataframe thead th {\n        text-align: right;\n    }\n</style>\n<table border=\"1\" class=\"dataframe\">\n  <thead>\n    <tr style=\"text-align: right;\">\n      <th></th>\n      <th>id</th>\n      <th>imdb_id</th>\n      <th>popularity</th>\n      <th>budget</th>\n      <th>revenue</th>\n      <th>original_title</th>\n      <th>cast</th>\n      <th>homepage</th>\n      <th>director</th>\n      <th>tagline</th>\n      <th>...</th>\n      <th>overview</th>\n      <th>runtime</th>\n      <th>genres</th>\n      <th>production_companies</th>\n      <th>release_date</th>\n      <th>vote_count</th>\n      <th>vote_average</th>\n      <th>release_year</th>\n      <th>budget_adj</th>\n      <th>revenue_adj</th>\n    </tr>\n  </thead>\n  <tbody>\n    <tr>\n      <th>424</th>\n      <td>363869</td>\n      <td>tt4835298</td>\n      <td>0.244648</td>\n      <td>0</td>\n      <td>0</td>\n      <td>Belli di papÃ</td>\n      <td>Diego Abatantuono|Matilde Gioli|Andrea Pisani|...</td>\n      <td>NaN</td>\n      <td>Guido Chiesa</td>\n      <td>NaN</td>\n      <td>...</td>\n      <td>Italian remake of the Mexican 2013 hit, \"We th...</td>\n      <td>100</td>\n      <td>NaN</td>\n      <td>NaN</td>\n      <td>10/29/15</td>\n      <td>21</td>\n      <td>6.1</td>\n      <td>2015</td>\n      <td>0.00000</td>\n      <td>0.0</td>\n    </tr>\n    <tr>\n      <th>620</th>\n      <td>361043</td>\n      <td>tt5022680</td>\n      <td>0.129696</td>\n      <td>0</td>\n      <td>0</td>\n      <td>All Hallows' Eve 2</td>\n      <td>NaN</td>\n      <td>NaN</td>\n      <td>Antonio Padovan|Bryan Norton|Marc Roussel|Ryan...</td>\n      <td>NaN</td>\n      <td>...</td>\n      <td>A woman finds a VHS tape on her doorstep that ...</td>\n      <td>90</td>\n      <td>NaN</td>\n      <td>Ruthless Pictures|Hollywood Shorts</td>\n      <td>10/6/15</td>\n      <td>13</td>\n      <td>5.0</td>\n      <td>2015</td>\n      <td>0.00000</td>\n      <td>0.0</td>\n    </tr>\n    <tr>\n      <th>997</th>\n      <td>287663</td>\n      <td>NaN</td>\n      <td>0.330431</td>\n      <td>0</td>\n      <td>0</td>\n      <td>Star Wars Rebels: Spark of Rebellion</td>\n      <td>Freddie Prinze Jr.|Vanessa Marshall|Steve Blum...</td>\n      <td>NaN</td>\n      <td>Steward Lee|Steven G. Lee</td>\n      <td>NaN</td>\n      <td>...</td>\n      <td>A Long Time Ago In A Galaxy Far, Far Awayâ€¦ A...</td>\n      <td>44</td>\n      <td>NaN</td>\n      <td>NaN</td>\n      <td>10/3/14</td>\n      <td>13</td>\n      <td>6.8</td>\n      <td>2014</td>\n      <td>0.00000</td>\n      <td>0.0</td>\n    </tr>\n    <tr>\n      <th>1712</th>\n      <td>21634</td>\n      <td>tt1073510</td>\n      <td>0.302095</td>\n      <td>0</td>\n      <td>0</td>\n      <td>Prayers for Bobby</td>\n      <td>Ryan Kelley|Sigourney Weaver|Henry Czerny|Dan ...</td>\n      <td>http://www.prayersforbobby.com/</td>\n      <td>Russell Mulcahy</td>\n      <td>Before you echo \"amen\" in your home and place ...</td>\n      <td>...</td>\n      <td>True story of Mary Griffith, gay rights crusad...</td>\n      <td>88</td>\n      <td>NaN</td>\n      <td>Daniel Sladek Entertainment</td>\n      <td>2/27/09</td>\n      <td>57</td>\n      <td>7.4</td>\n      <td>2009</td>\n      <td>0.00000</td>\n      <td>0.0</td>\n    </tr>\n    <tr>\n      <th>1897</th>\n      <td>40534</td>\n      <td>tt1229827</td>\n      <td>0.020701</td>\n      <td>0</td>\n      <td>0</td>\n      <td>Jonas Brothers: The Concert Experience</td>\n      <td>Nick Jonas|Joe Jonas|Kevin Jonas|John Lloyd Ta...</td>\n      <td>NaN</td>\n      <td>Bruce Hendricks</td>\n      <td>NaN</td>\n      <td>...</td>\n      <td>Secure your VIP pass to a once-in-a-lifetime e...</td>\n      <td>76</td>\n      <td>NaN</td>\n      <td>NaN</td>\n      <td>2/27/09</td>\n      <td>11</td>\n      <td>7.0</td>\n      <td>2009</td>\n      <td>0.00000</td>\n      <td>0.0</td>\n    </tr>\n    <tr>\n      <th>2370</th>\n      <td>127717</td>\n      <td>tt1525359</td>\n      <td>0.081892</td>\n      <td>0</td>\n      <td>0</td>\n      <td>Freshman Father</td>\n      <td>Britt Irvin|Merrilyn Gann|Barbara Tyson|Anthon...</td>\n      <td>NaN</td>\n      <td>Michael Scott</td>\n      <td>NaN</td>\n      <td>...</td>\n      <td>NaN</td>\n      <td>0</td>\n      <td>NaN</td>\n      <td>NaN</td>\n      <td>6/5/10</td>\n      <td>12</td>\n      <td>5.8</td>\n      <td>2010</td>\n      <td>0.00000</td>\n      <td>0.0</td>\n    </tr>\n    <tr>\n      <th>2376</th>\n      <td>315620</td>\n      <td>tt1672218</td>\n      <td>0.068411</td>\n      <td>0</td>\n      <td>0</td>\n      <td>Doctor Who: A Christmas Carol</td>\n      <td>Matt Smith|Karen Gillan|Arthur Darvill|Michael...</td>\n      <td>NaN</td>\n      <td>NaN</td>\n      <td>NaN</td>\n      <td>...</td>\n      <td>Amy Pond and Rory Williams are trapped on a cr...</td>\n      <td>62</td>\n      <td>NaN</td>\n      <td>NaN</td>\n      <td>12/25/10</td>\n      <td>11</td>\n      <td>7.7</td>\n      <td>2010</td>\n      <td>0.00000</td>\n      <td>0.0</td>\n    </tr>\n    <tr>\n      <th>2853</th>\n      <td>57892</td>\n      <td>tt0270053</td>\n      <td>0.130018</td>\n      <td>0</td>\n      <td>0</td>\n      <td>Vizontele</td>\n      <td>YÄ±lmaz ErdoÄŸan|Demet Akbag|Altan Erkekli|Cem...</td>\n      <td>NaN</td>\n      <td>YÄ±lmaz ErdoÄŸan</td>\n      <td>NaN</td>\n      <td>...</td>\n      <td>The story takes place in a small town (called ...</td>\n      <td>110</td>\n      <td>NaN</td>\n      <td>NaN</td>\n      <td>2/2/01</td>\n      <td>12</td>\n      <td>7.2</td>\n      <td>2001</td>\n      <td>0.00000</td>\n      <td>0.0</td>\n    </tr>\n    <tr>\n      <th>3279</th>\n      <td>54330</td>\n      <td>tt1720044</td>\n      <td>0.145331</td>\n      <td>0</td>\n      <td>0</td>\n      <td>ì•„ê¸°ì™€ ë‚˜</td>\n      <td>Jang Keun-suk|Song Ha-yoon|Kim Jeong-Nan</td>\n      <td>NaN</td>\n      <td>Kim Jin-Yeong</td>\n      <td>NaN</td>\n      <td>...</td>\n      <td>Joon-soo (Jang Geun -Seok) is a rebellious hig...</td>\n      <td>96</td>\n      <td>NaN</td>\n      <td>NaN</td>\n      <td>8/13/08</td>\n      <td>11</td>\n      <td>6.1</td>\n      <td>2008</td>\n      <td>0.00000</td>\n      <td>0.0</td>\n    </tr>\n    <tr>\n      <th>4547</th>\n      <td>123024</td>\n      <td>tt2305700</td>\n      <td>0.520520</td>\n      <td>0</td>\n      <td>0</td>\n      <td>London 2012 Olympic Opening Ceremony: Isles of...</td>\n      <td>Queen Elizabeth II|Mike Oldfield|Kenneth Brana...</td>\n      <td>http://www.london2012.com/</td>\n      <td>Danny Boyle</td>\n      <td>Inspire a generation.</td>\n      <td>...</td>\n      <td>The London 2012 Olympic Games Opening Ceremony...</td>\n      <td>220</td>\n      <td>NaN</td>\n      <td>BBC</td>\n      <td>7/27/12</td>\n      <td>12</td>\n      <td>8.3</td>\n      <td>2012</td>\n      <td>0.00000</td>\n      <td>0.0</td>\n    </tr>\n    <tr>\n      <th>4732</th>\n      <td>139463</td>\n      <td>tt2084977</td>\n      <td>0.235911</td>\n      <td>0</td>\n      <td>0</td>\n      <td>The Scapegoat</td>\n      <td>Andrew Scott|Jodhi May|Eileen Atkins|Matthew R...</td>\n      <td>http://www.island-pictures.co.uk/extras/the-sc...</td>\n      <td>Charles Sturridge</td>\n      <td>NaN</td>\n      <td>...</td>\n      <td>Set in 1952, as England prepares for the coron...</td>\n      <td>100</td>\n      <td>NaN</td>\n      <td>Island Pictures</td>\n      <td>9/9/12</td>\n      <td>12</td>\n      <td>6.2</td>\n      <td>2012</td>\n      <td>0.00000</td>\n      <td>0.0</td>\n    </tr>\n    <tr>\n      <th>4797</th>\n      <td>369145</td>\n      <td>NaN</td>\n      <td>0.167501</td>\n      <td>0</td>\n      <td>0</td>\n      <td>Doctor Who: The Snowmen</td>\n      <td>Matt Smith|Jenna Coleman|Richard E. Grant|Ian ...</td>\n      <td>NaN</td>\n      <td>NaN</td>\n      <td>NaN</td>\n      <td>...</td>\n      <td>Christmas Eve, 1892, and the falling snow is t...</td>\n      <td>60</td>\n      <td>NaN</td>\n      <td>BBC Television UK</td>\n      <td>12/25/12</td>\n      <td>10</td>\n      <td>7.8</td>\n      <td>2012</td>\n      <td>0.00000</td>\n      <td>0.0</td>\n    </tr>\n    <tr>\n      <th>4890</th>\n      <td>126909</td>\n      <td>tt2219564</td>\n      <td>0.083202</td>\n      <td>0</td>\n      <td>0</td>\n      <td>Cousin Ben Troop Screening</td>\n      <td>Jason Schwartzman</td>\n      <td>http://www.funnyordie.com/videos/fc132ce8b2/co...</td>\n      <td>Wes Anderson</td>\n      <td>NaN</td>\n      <td>...</td>\n      <td>Cousin Ben hosts a screening of Wes Anderson's...</td>\n      <td>2</td>\n      <td>NaN</td>\n      <td>NaN</td>\n      <td>1/1/12</td>\n      <td>14</td>\n      <td>7.0</td>\n      <td>2012</td>\n      <td>0.00000</td>\n      <td>0.0</td>\n    </tr>\n    <tr>\n      <th>5830</th>\n      <td>282848</td>\n      <td>tt2986512</td>\n      <td>0.248944</td>\n      <td>0</td>\n      <td>0</td>\n      <td>Doctor Who: The Time of the Doctor</td>\n      <td>Matt Smith|Jenna Coleman</td>\n      <td>NaN</td>\n      <td>James Payne</td>\n      <td>A change is going to come...</td>\n      <td>...</td>\n      <td>Orbiting a quiet backwater planet, the massed ...</td>\n      <td>60</td>\n      <td>NaN</td>\n      <td>NaN</td>\n      <td>12/25/13</td>\n      <td>26</td>\n      <td>8.5</td>\n      <td>2013</td>\n      <td>0.00000</td>\n      <td>0.0</td>\n    </tr>\n    <tr>\n      <th>5934</th>\n      <td>200204</td>\n      <td>tt2808968</td>\n      <td>0.067433</td>\n      <td>0</td>\n      <td>0</td>\n      <td>Prada: Candy</td>\n      <td>Peter Gadiot|Rodolphe Pauly|LÃ©a Seydoux</td>\n      <td>NaN</td>\n      <td>Wes Anderson|Roman Coppola</td>\n      <td>short</td>\n      <td>...</td>\n      <td>Candy is a modern chic french woman. She meets...</td>\n      <td>3</td>\n      <td>NaN</td>\n      <td>NaN</td>\n      <td>3/25/13</td>\n      <td>27</td>\n      <td>6.9</td>\n      <td>2013</td>\n      <td>0.00000</td>\n      <td>0.0</td>\n    </tr>\n    <tr>\n      <th>6043</th>\n      <td>190940</td>\n      <td>tt2797242</td>\n      <td>0.039080</td>\n      <td>0</td>\n      <td>0</td>\n      <td>Bombay Talkies</td>\n      <td>Aamir Khan|Rani Mukerji|Randeep Hooda|Saqib Sa...</td>\n      <td>http://en.wikipedia.org/wiki/Bombay_Talkies_%2...</td>\n      <td>Anurag Kashyap|Dibakar Banerjee|Zoya Akhtar|Ka...</td>\n      <td>NaN</td>\n      <td>...</td>\n      <td>One hundred years of Hindi cinema is celebrate...</td>\n      <td>127</td>\n      <td>NaN</td>\n      <td>Viacom 18 Motion Pictures</td>\n      <td>5/3/13</td>\n      <td>12</td>\n      <td>5.9</td>\n      <td>2013</td>\n      <td>0.00000</td>\n      <td>0.0</td>\n    </tr>\n    <tr>\n      <th>6530</th>\n      <td>168891</td>\n      <td>tt0818519</td>\n      <td>0.092724</td>\n      <td>0</td>\n      <td>0</td>\n      <td>Saw Rebirth</td>\n      <td>Whit Anderson|Stan Kirsch|Jeff Shuter|George W...</td>\n      <td>NaN</td>\n      <td>Jeff Shuter|Daniel Viney</td>\n      <td>Somewhere... Somehow... Something went wrong...</td>\n      <td>...</td>\n      <td>This comic, set in the world of SAW goes back ...</td>\n      <td>6</td>\n      <td>NaN</td>\n      <td>NaN</td>\n      <td>10/24/05</td>\n      <td>24</td>\n      <td>5.9</td>\n      <td>2005</td>\n      <td>0.00000</td>\n      <td>0.0</td>\n    </tr>\n    <tr>\n      <th>8234</th>\n      <td>56804</td>\n      <td>tt0114844</td>\n      <td>0.028874</td>\n      <td>0</td>\n      <td>0</td>\n      <td>Viaggi di nozze</td>\n      <td>Carlo Verdone|Claudia Gerini|Veronica Pivetti|...</td>\n      <td>NaN</td>\n      <td>Carlo Verdone</td>\n      <td>NaN</td>\n      <td>...</td>\n      <td>Le vicessitudini di tre coppie di novelli spos...</td>\n      <td>103</td>\n      <td>NaN</td>\n      <td>NaN</td>\n      <td>12/15/95</td>\n      <td>44</td>\n      <td>6.7</td>\n      <td>1995</td>\n      <td>0.00000</td>\n      <td>0.0</td>\n    </tr>\n    <tr>\n      <th>8614</th>\n      <td>65595</td>\n      <td>tt0117880</td>\n      <td>0.273934</td>\n      <td>0</td>\n      <td>0</td>\n      <td>T2 3-D: Battle Across Time</td>\n      <td>Arnold Schwarzenegger|Linda Hamilton|Edward Fu...</td>\n      <td>NaN</td>\n      <td>James Cameron</td>\n      <td>NaN</td>\n      <td>...</td>\n      <td>Three freedom fighters attack a large corporat...</td>\n      <td>12</td>\n      <td>NaN</td>\n      <td>NaN</td>\n      <td>1/1/96</td>\n      <td>14</td>\n      <td>6.7</td>\n      <td>1996</td>\n      <td>0.00000</td>\n      <td>0.0</td>\n    </tr>\n    <tr>\n      <th>8878</th>\n      <td>92208</td>\n      <td>tt0250593</td>\n      <td>0.038045</td>\n      <td>0</td>\n      <td>0</td>\n      <td>Mom's Got a Date With a Vampire</td>\n      <td>Matt O'Leary|Laura Vandervoort|Myles Jeffrey|C...</td>\n      <td>NaN</td>\n      <td>Steve Boyum</td>\n      <td>NaN</td>\n      <td>...</td>\n      <td>The Hansen kids are in a jam. Adam and his bes...</td>\n      <td>85</td>\n      <td>NaN</td>\n      <td>Walt Disney Pictures</td>\n      <td>10/13/00</td>\n      <td>16</td>\n      <td>5.4</td>\n      <td>2000</td>\n      <td>0.00000</td>\n      <td>0.0</td>\n    </tr>\n    <tr>\n      <th>9307</th>\n      <td>141859</td>\n      <td>tt0097446</td>\n      <td>0.094652</td>\n      <td>0</td>\n      <td>0</td>\n      <td>Goldeneye</td>\n      <td>Charles Dance|Phyllis Logan|Patrick Ryecart|La...</td>\n      <td>NaN</td>\n      <td>Don Boyd</td>\n      <td>NaN</td>\n      <td>...</td>\n      <td>Fact-based biography of James Bond author, Ian...</td>\n      <td>105</td>\n      <td>NaN</td>\n      <td>Anglia Television</td>\n      <td>8/26/89</td>\n      <td>10</td>\n      <td>5.3</td>\n      <td>1989</td>\n      <td>0.00000</td>\n      <td>0.0</td>\n    </tr>\n    <tr>\n      <th>9799</th>\n      <td>48847</td>\n      <td>tt0193716</td>\n      <td>0.175008</td>\n      <td>0</td>\n      <td>0</td>\n      <td>The Amputee</td>\n      <td>Catherine E. Coulson|David Lynch</td>\n      <td>NaN</td>\n      <td>David Lynch</td>\n      <td>NaN</td>\n      <td>...</td>\n      <td>A double leg amputated woman sits and writes a...</td>\n      <td>5</td>\n      <td>NaN</td>\n      <td>NaN</td>\n      <td>1/1/74</td>\n      <td>11</td>\n      <td>5.0</td>\n      <td>1974</td>\n      <td>0.00000</td>\n      <td>0.0</td>\n    </tr>\n    <tr>\n      <th>10659</th>\n      <td>4255</td>\n      <td>tt0065904</td>\n      <td>0.344172</td>\n      <td>5000</td>\n      <td>0</td>\n      <td>The Party at Kitty and Stud's</td>\n      <td>Sylvester Stallone|Henrietta Holm|Nicholas War...</td>\n      <td>NaN</td>\n      <td>Morton Lewis</td>\n      <td>NaN</td>\n      <td>...</td>\n      <td>Kitty and Stud are lovers. They enjoy a robust...</td>\n      <td>71</td>\n      <td>NaN</td>\n      <td>Stallion Releasing Inc.</td>\n      <td>2/10/70</td>\n      <td>10</td>\n      <td>3.0</td>\n      <td>1970</td>\n      <td>28081.84172</td>\n      <td>0.0</td>\n    </tr>\n  </tbody>\n</table>\n<p>23 rows × 21 columns</p>\n</div>"
                    },
                    "metadata": {},
                    "execution_count": 8,
                    "output_type": "execute_result"
                }
            ],
            "execution_count": 8
        },
        {
            "cell_type": "markdown",
            "source": [
                "\n",
                "### Data Cleaning\n",
                " "
            ],
            "metadata": {
                "azdata_cell_guid": "4c73f7ed-3128-4f52-b41c-da883a04d309"
            }
        },
        {
            "cell_type": "markdown",
            "source": [
                "First, I dropped unwanted columns:<br>\n",
                "imdb_id, cast, homepage, director, tagline, keywords, overview"
            ],
            "metadata": {
                "azdata_cell_guid": "c9ae4612-149b-4661-ab3a-9f63d729ce3b"
            }
        },
        {
            "cell_type": "code",
            "source": [
                "# drop unwanted columns\n",
                "df_movies.drop(['imdb_id', 'cast', 'homepage', 'director', 'tagline', 'keywords', 'overview','production_companies'], axis=1, inplace=True)\n",
                "\n",
                "#check columns after drop\n",
                "df_movies.head(1)"
            ],
            "metadata": {
                "azdata_cell_guid": "2d056c02-1366-4ddd-a32c-c98d52aa7d9f",
                "language": "python"
            },
            "outputs": [
                {
                    "data": {
                        "text/plain": "       id  popularity     budget     revenue  original_title  runtime  \\\n0  135397   32.985763  150000000  1513528810  Jurassic World      124   \n\n                                      genres release_date  vote_count  \\\n0  Action|Adventure|Science Fiction|Thriller       6/9/15        5562   \n\n   vote_average  release_year    budget_adj   revenue_adj  \n0           6.5          2015  1.379999e+08  1.392446e+09  ",
                        "text/html": "<div>\n<style scoped>\n    .dataframe tbody tr th:only-of-type {\n        vertical-align: middle;\n    }\n\n    .dataframe tbody tr th {\n        vertical-align: top;\n    }\n\n    .dataframe thead th {\n        text-align: right;\n    }\n</style>\n<table border=\"1\" class=\"dataframe\">\n  <thead>\n    <tr style=\"text-align: right;\">\n      <th></th>\n      <th>id</th>\n      <th>popularity</th>\n      <th>budget</th>\n      <th>revenue</th>\n      <th>original_title</th>\n      <th>runtime</th>\n      <th>genres</th>\n      <th>release_date</th>\n      <th>vote_count</th>\n      <th>vote_average</th>\n      <th>release_year</th>\n      <th>budget_adj</th>\n      <th>revenue_adj</th>\n    </tr>\n  </thead>\n  <tbody>\n    <tr>\n      <th>0</th>\n      <td>135397</td>\n      <td>32.985763</td>\n      <td>150000000</td>\n      <td>1513528810</td>\n      <td>Jurassic World</td>\n      <td>124</td>\n      <td>Action|Adventure|Science Fiction|Thriller</td>\n      <td>6/9/15</td>\n      <td>5562</td>\n      <td>6.5</td>\n      <td>2015</td>\n      <td>1.379999e+08</td>\n      <td>1.392446e+09</td>\n    </tr>\n  </tbody>\n</table>\n</div>"
                    },
                    "metadata": {},
                    "execution_count": 9,
                    "output_type": "execute_result"
                }
            ],
            "execution_count": 9
        },
        {
            "cell_type": "markdown",
            "source": [
                "Then dropped duplicated values"
            ],
            "metadata": {
                "azdata_cell_guid": "7bfc7f40-e64b-487c-be8d-af421bb98b9b"
            }
        },
        {
            "cell_type": "code",
            "source": [
                "# drop duplicated value\n",
                "df_movies.drop_duplicates(inplace=True)\n",
                "\n",
                "# check if it worked\n",
                "df_movies.duplicated().sum()"
            ],
            "metadata": {
                "azdata_cell_guid": "cd565979-cd12-4493-9a8e-1d25e27daf99",
                "language": "python"
            },
            "outputs": [
                {
                    "data": {
                        "text/plain": "0"
                    },
                    "metadata": {},
                    "execution_count": 10,
                    "output_type": "execute_result"
                }
            ],
            "execution_count": 10
        },
        {
            "cell_type": "markdown",
            "source": [
                "Finally, I dropped rows with missing genre values"
            ],
            "metadata": {
                "azdata_cell_guid": "8bb231d1-2d7c-44da-992e-6ea9c93d8879"
            }
        },
        {
            "cell_type": "code",
            "source": [
                "# drop rows with missing genres value\n",
                "df_movies.dropna(subset=['genres'], inplace=True)\n",
                "\n",
                "# check number of values\n",
                "df_movies.info()"
            ],
            "metadata": {
                "azdata_cell_guid": "ea55290d-3060-46ea-b2f4-c56dfde2e7fd",
                "language": "python"
            },
            "outputs": [
                {
                    "name": "stdout",
                    "text": "<class 'pandas.core.frame.DataFrame'>\nInt64Index: 10842 entries, 0 to 10865\nData columns (total 13 columns):\n #   Column          Non-Null Count  Dtype  \n---  ------          --------------  -----  \n 0   id              10842 non-null  int64  \n 1   popularity      10842 non-null  float64\n 2   budget          10842 non-null  int64  \n 3   revenue         10842 non-null  int64  \n 4   original_title  10842 non-null  object \n 5   runtime         10842 non-null  int64  \n 6   genres          10842 non-null  object \n 7   release_date    10842 non-null  object \n 8   vote_count      10842 non-null  int64  \n 9   vote_average    10842 non-null  float64\n 10  release_year    10842 non-null  int64  \n 11  budget_adj      10842 non-null  float64\n 12  revenue_adj     10842 non-null  float64\ndtypes: float64(4), int64(6), object(3)\nmemory usage: 1.2+ MB\n",
                    "output_type": "stream"
                }
            ],
            "execution_count": 11
        },
        {
            "cell_type": "markdown",
            "source": [
                "Now we create a new dataframe to split different genres for the same movie into seperate columns by their delimitar using the split and explode methods"
            ],
            "metadata": {
                "azdata_cell_guid": "0cd5a643-f48b-4679-bc75-7f4b8f5a9c9d"
            }
        },
        {
            "cell_type": "code",
            "source": [
                "# split genres into a group within the same column\n",
                "df_movies['genres'] = df_movies['genres'].str.split('|')"
            ],
            "metadata": {
                "azdata_cell_guid": "1ecfa7ce-4fe6-4346-bf0a-2018cf6827bc",
                "language": "python"
            },
            "outputs": [],
            "execution_count": 12
        },
        {
            "cell_type": "code",
            "source": [
                "df_movies.head()"
            ],
            "metadata": {
                "azdata_cell_guid": "036e6231-31d8-4fb5-95ef-d4d0a7fabdbf",
                "language": "python"
            },
            "outputs": [
                {
                    "data": {
                        "text/plain": "       id  popularity     budget     revenue                original_title  \\\n0  135397   32.985763  150000000  1513528810                Jurassic World   \n1   76341   28.419936  150000000   378436354            Mad Max: Fury Road   \n2  262500   13.112507  110000000   295238201                     Insurgent   \n3  140607   11.173104  200000000  2068178225  Star Wars: The Force Awakens   \n4  168259    9.335014  190000000  1506249360                     Furious 7   \n\n   runtime                                          genres release_date  \\\n0      124  [Action, Adventure, Science Fiction, Thriller]       6/9/15   \n1      120  [Action, Adventure, Science Fiction, Thriller]      5/13/15   \n2      119          [Adventure, Science Fiction, Thriller]      3/18/15   \n3      136   [Action, Adventure, Science Fiction, Fantasy]     12/15/15   \n4      137                       [Action, Crime, Thriller]       4/1/15   \n\n   vote_count  vote_average  release_year    budget_adj   revenue_adj  \n0        5562           6.5          2015  1.379999e+08  1.392446e+09  \n1        6185           7.1          2015  1.379999e+08  3.481613e+08  \n2        2480           6.3          2015  1.012000e+08  2.716190e+08  \n3        5292           7.5          2015  1.839999e+08  1.902723e+09  \n4        2947           7.3          2015  1.747999e+08  1.385749e+09  ",
                        "text/html": "<div>\n<style scoped>\n    .dataframe tbody tr th:only-of-type {\n        vertical-align: middle;\n    }\n\n    .dataframe tbody tr th {\n        vertical-align: top;\n    }\n\n    .dataframe thead th {\n        text-align: right;\n    }\n</style>\n<table border=\"1\" class=\"dataframe\">\n  <thead>\n    <tr style=\"text-align: right;\">\n      <th></th>\n      <th>id</th>\n      <th>popularity</th>\n      <th>budget</th>\n      <th>revenue</th>\n      <th>original_title</th>\n      <th>runtime</th>\n      <th>genres</th>\n      <th>release_date</th>\n      <th>vote_count</th>\n      <th>vote_average</th>\n      <th>release_year</th>\n      <th>budget_adj</th>\n      <th>revenue_adj</th>\n    </tr>\n  </thead>\n  <tbody>\n    <tr>\n      <th>0</th>\n      <td>135397</td>\n      <td>32.985763</td>\n      <td>150000000</td>\n      <td>1513528810</td>\n      <td>Jurassic World</td>\n      <td>124</td>\n      <td>[Action, Adventure, Science Fiction, Thriller]</td>\n      <td>6/9/15</td>\n      <td>5562</td>\n      <td>6.5</td>\n      <td>2015</td>\n      <td>1.379999e+08</td>\n      <td>1.392446e+09</td>\n    </tr>\n    <tr>\n      <th>1</th>\n      <td>76341</td>\n      <td>28.419936</td>\n      <td>150000000</td>\n      <td>378436354</td>\n      <td>Mad Max: Fury Road</td>\n      <td>120</td>\n      <td>[Action, Adventure, Science Fiction, Thriller]</td>\n      <td>5/13/15</td>\n      <td>6185</td>\n      <td>7.1</td>\n      <td>2015</td>\n      <td>1.379999e+08</td>\n      <td>3.481613e+08</td>\n    </tr>\n    <tr>\n      <th>2</th>\n      <td>262500</td>\n      <td>13.112507</td>\n      <td>110000000</td>\n      <td>295238201</td>\n      <td>Insurgent</td>\n      <td>119</td>\n      <td>[Adventure, Science Fiction, Thriller]</td>\n      <td>3/18/15</td>\n      <td>2480</td>\n      <td>6.3</td>\n      <td>2015</td>\n      <td>1.012000e+08</td>\n      <td>2.716190e+08</td>\n    </tr>\n    <tr>\n      <th>3</th>\n      <td>140607</td>\n      <td>11.173104</td>\n      <td>200000000</td>\n      <td>2068178225</td>\n      <td>Star Wars: The Force Awakens</td>\n      <td>136</td>\n      <td>[Action, Adventure, Science Fiction, Fantasy]</td>\n      <td>12/15/15</td>\n      <td>5292</td>\n      <td>7.5</td>\n      <td>2015</td>\n      <td>1.839999e+08</td>\n      <td>1.902723e+09</td>\n    </tr>\n    <tr>\n      <th>4</th>\n      <td>168259</td>\n      <td>9.335014</td>\n      <td>190000000</td>\n      <td>1506249360</td>\n      <td>Furious 7</td>\n      <td>137</td>\n      <td>[Action, Crime, Thriller]</td>\n      <td>4/1/15</td>\n      <td>2947</td>\n      <td>7.3</td>\n      <td>2015</td>\n      <td>1.747999e+08</td>\n      <td>1.385749e+09</td>\n    </tr>\n  </tbody>\n</table>\n</div>"
                    },
                    "metadata": {},
                    "execution_count": 14,
                    "output_type": "execute_result"
                }
            ],
            "execution_count": 14
        },
        {
            "cell_type": "code",
            "source": [
                "# Creates new rows for every genre for the same row\n",
                "df_movies_genres = df_movies.explode('genres')"
            ],
            "metadata": {
                "azdata_cell_guid": "3ad459b7-1004-446b-bac7-7ee07c91375b",
                "language": "python"
            },
            "outputs": [],
            "execution_count": 15
        },
        {
            "cell_type": "code",
            "source": [
                "# check if it worked\n",
                "df_movies_genres.query(\"original_title == 'Jurassic World'\")"
            ],
            "metadata": {
                "azdata_cell_guid": "bf3ba142-675b-4d48-83d9-53aa573580de",
                "language": "python"
            },
            "outputs": [
                {
                    "data": {
                        "text/plain": "       id  popularity     budget     revenue  original_title  runtime  \\\n0  135397   32.985763  150000000  1513528810  Jurassic World      124   \n0  135397   32.985763  150000000  1513528810  Jurassic World      124   \n0  135397   32.985763  150000000  1513528810  Jurassic World      124   \n0  135397   32.985763  150000000  1513528810  Jurassic World      124   \n\n            genres release_date  vote_count  vote_average  release_year  \\\n0           Action       6/9/15        5562           6.5          2015   \n0        Adventure       6/9/15        5562           6.5          2015   \n0  Science Fiction       6/9/15        5562           6.5          2015   \n0         Thriller       6/9/15        5562           6.5          2015   \n\n     budget_adj   revenue_adj  \n0  1.379999e+08  1.392446e+09  \n0  1.379999e+08  1.392446e+09  \n0  1.379999e+08  1.392446e+09  \n0  1.379999e+08  1.392446e+09  ",
                        "text/html": "<div>\n<style scoped>\n    .dataframe tbody tr th:only-of-type {\n        vertical-align: middle;\n    }\n\n    .dataframe tbody tr th {\n        vertical-align: top;\n    }\n\n    .dataframe thead th {\n        text-align: right;\n    }\n</style>\n<table border=\"1\" class=\"dataframe\">\n  <thead>\n    <tr style=\"text-align: right;\">\n      <th></th>\n      <th>id</th>\n      <th>popularity</th>\n      <th>budget</th>\n      <th>revenue</th>\n      <th>original_title</th>\n      <th>runtime</th>\n      <th>genres</th>\n      <th>release_date</th>\n      <th>vote_count</th>\n      <th>vote_average</th>\n      <th>release_year</th>\n      <th>budget_adj</th>\n      <th>revenue_adj</th>\n    </tr>\n  </thead>\n  <tbody>\n    <tr>\n      <th>0</th>\n      <td>135397</td>\n      <td>32.985763</td>\n      <td>150000000</td>\n      <td>1513528810</td>\n      <td>Jurassic World</td>\n      <td>124</td>\n      <td>Action</td>\n      <td>6/9/15</td>\n      <td>5562</td>\n      <td>6.5</td>\n      <td>2015</td>\n      <td>1.379999e+08</td>\n      <td>1.392446e+09</td>\n    </tr>\n    <tr>\n      <th>0</th>\n      <td>135397</td>\n      <td>32.985763</td>\n      <td>150000000</td>\n      <td>1513528810</td>\n      <td>Jurassic World</td>\n      <td>124</td>\n      <td>Adventure</td>\n      <td>6/9/15</td>\n      <td>5562</td>\n      <td>6.5</td>\n      <td>2015</td>\n      <td>1.379999e+08</td>\n      <td>1.392446e+09</td>\n    </tr>\n    <tr>\n      <th>0</th>\n      <td>135397</td>\n      <td>32.985763</td>\n      <td>150000000</td>\n      <td>1513528810</td>\n      <td>Jurassic World</td>\n      <td>124</td>\n      <td>Science Fiction</td>\n      <td>6/9/15</td>\n      <td>5562</td>\n      <td>6.5</td>\n      <td>2015</td>\n      <td>1.379999e+08</td>\n      <td>1.392446e+09</td>\n    </tr>\n    <tr>\n      <th>0</th>\n      <td>135397</td>\n      <td>32.985763</td>\n      <td>150000000</td>\n      <td>1513528810</td>\n      <td>Jurassic World</td>\n      <td>124</td>\n      <td>Thriller</td>\n      <td>6/9/15</td>\n      <td>5562</td>\n      <td>6.5</td>\n      <td>2015</td>\n      <td>1.379999e+08</td>\n      <td>1.392446e+09</td>\n    </tr>\n  </tbody>\n</table>\n</div>"
                    },
                    "metadata": {},
                    "execution_count": 16,
                    "output_type": "execute_result"
                }
            ],
            "execution_count": 16
        },
        {
            "cell_type": "markdown",
            "source": [
                "We need to create a new dataframe for revenue related analysis which will exclude data with budget or revenue less than $5,000"
            ],
            "metadata": {
                "azdata_cell_guid": "c68abe79-6fe1-4b15-8d37-c98be824b2f2"
            }
        },
        {
            "cell_type": "code",
            "source": [
                "# create new dataframe\n",
                "df_movies_revenue = df_movies.query('budget >= 5000')"
            ],
            "metadata": {
                "azdata_cell_guid": "5e004e54-2822-4c8d-b903-be461ab04182",
                "language": "python"
            },
            "outputs": [],
            "execution_count": 17
        },
        {
            "cell_type": "markdown",
            "source": [
                "<a id='eda'></a>\n",
                "## Exploratory Data Analysis\n",
                "\n",
                "### Average runtime per genre?"
            ],
            "metadata": {
                "azdata_cell_guid": "4d14f847-06bb-4a13-8cfe-eef4e024f409"
            }
        },
        {
            "cell_type": "markdown",
            "source": [
                "First we create genres_runtime_mean variable the contains the mean of runtime for each genre sorted in desc"
            ],
            "metadata": {
                "azdata_cell_guid": "5b88eecf-e4c0-4781-81a9-cf62e5bc8a8d"
            }
        },
        {
            "cell_type": "code",
            "source": [
                "runtime_mean = df_movies_genres.groupby('genres').runtime.mean().sort_values(ascending=False).to_dict()"
            ],
            "metadata": {
                "azdata_cell_guid": "aee89cd8-918c-4968-bca8-f5ff52fcda14",
                "language": "python"
            },
            "outputs": [],
            "execution_count": 18
        },
        {
            "cell_type": "code",
            "source": [
                "#width = runtime_mean.to_dict.keys()\n",
                "plt.figure(figsize=(25,10))\n",
                "plt.bar(runtime_mean.keys(), runtime_mean.values())\n",
                "plt.title('Average Runtime By Genre')\n",
                "plt.xlabel('Genre')\n",
                "plt.ylabel('Runtime');"
            ],
            "metadata": {
                "azdata_cell_guid": "5a39deb8-8db6-4a50-9b48-105eab5c9e92",
                "language": "python"
            },
            "outputs": [
                {
                    "data": {
                        "text/plain": "<Figure size 1800x720 with 1 Axes>",
                        "image/png": "[encoded data removed]"
                    },
                    "metadata": {
                        "needs_background": "light"
                    },
                    "output_type": "display_data"
                }
            ],
            "execution_count": 19
        },
        {
            "cell_type": "markdown",
            "source": [
                "Now we need to find the best five Genres"
            ],
            "metadata": {
                "azdata_cell_guid": "b6732340-985f-482f-a125-b8d29cc769c9"
            }
        },
        {
            "cell_type": "code",
            "source": [
                "# Create a dictionary with last 5 values of vote average mean ordered descinding\n",
                "genre_vote_avg = df_movies_genres.groupby('genres').vote_average.mean().sort_values().tail(5).to_dict()"
            ],
            "metadata": {
                "azdata_cell_guid": "85dcc7cd-9346-4b4a-be18-2ad8cfada304",
                "language": "python"
            },
            "outputs": [],
            "execution_count": 20
        },
        {
            "cell_type": "code",
            "source": [
                "# match each best 5 genre with it's runtime\n",
                "best_runtime = {}\n",
                "\n",
                "for i in genre_vote_avg:\n",
                "    if i in runtime_mean:\n",
                "        best_runtime[i]= runtime_mean[i]"
            ],
            "metadata": {
                "azdata_cell_guid": "05f3d67e-a461-43c3-a5ae-4ec67ab347d0",
                "language": "python"
            },
            "outputs": [],
            "execution_count": 21
        },
        {
            "cell_type": "markdown",
            "source": [
                "### Average Runtime By Most liked Genres?"
            ],
            "metadata": {
                "azdata_cell_guid": "aa059fef-9635-4d65-9b81-91616e71808c"
            }
        },
        {
            "cell_type": "markdown",
            "source": [
                "Now we need to plot the best five genres and their runtime"
            ],
            "metadata": {
                "azdata_cell_guid": "8a93d7cf-9aa9-451a-a09f-f9f9283743fa"
            }
        },
        {
            "cell_type": "code",
            "source": [
                "plt.figure(figsize=(8,6))\n",
                "plt.bar(best_runtime.keys(), best_runtime.values())\n",
                "plt.title('Average Runtime For Most Favorite Genres')\n",
                "plt.xlabel('Genre')\n",
                "plt.ylabel('Runtime');"
            ],
            "metadata": {
                "azdata_cell_guid": "ade5a7ed-4b80-4430-abd1-94c433778358",
                "language": "python"
            },
            "outputs": [
                {
                    "data": {
                        "text/plain": "<Figure size 576x432 with 1 Axes>",
                        "image/png": "[encoded data removed]"
                    },
                    "metadata": {
                        "needs_background": "light"
                    },
                    "output_type": "display_data"
                }
            ],
            "execution_count": 22
        },
        {
            "cell_type": "markdown",
            "source": [
                "### Is there a relation between Runtime and Average Vote"
            ],
            "metadata": {
                "azdata_cell_guid": "6f1f5b64-4448-41d1-9bf8-49cde9ac475f"
            }
        },
        {
            "cell_type": "markdown",
            "source": [
                "We need to use scatter plot for a new filtered dataframe that only includes the best genres"
            ],
            "metadata": {
                "azdata_cell_guid": "d47735b4-d76f-4511-abad-98f71ce6d2fc"
            }
        },
        {
            "cell_type": "code",
            "source": [
                "# this will filter the data for only the highest vote genres\n",
                "df_best_five = df_movies_genres.query(\"genres in ['War', 'Animation', 'History', 'Music', 'Documentary']\")"
            ],
            "metadata": {
                "azdata_cell_guid": "840299e0-8bfe-4fff-9647-12b47e10d96c",
                "language": "python"
            },
            "outputs": [],
            "execution_count": 23
        },
        {
            "cell_type": "code",
            "source": [
                "# This will scatter plot highest vote genres runtime and average vote\n",
                "df_best_five.plot(y='runtime', x='vote_average', kind='scatter',figsize=(12,6));"
            ],
            "metadata": {
                "azdata_cell_guid": "1d4cd18f-8856-40a7-890f-7e0feab067c5",
                "language": "python"
            },
            "outputs": [
                {
                    "data": {
                        "text/plain": "<Figure size 864x432 with 1 Axes>",
                        "image/png": "[encoded data removed]"
                    },
                    "metadata": {
                        "needs_background": "light"
                    },
                    "output_type": "display_data"
                }
            ],
            "execution_count": 24
        },
        {
            "cell_type": "markdown",
            "source": [
                "<a id='conclusions'></a>\n",
                "## Conclusions\n",
                "\n",
                "<ul>\n",
                "    <li>First graph shows the average runtime for every genre, where History is the highest at 136 minutes and animation the lowet at 68 minutes</li>\n",
                "<li>Most favorite <b>Genres are History 136m, War 127m, Music 105m, Documentry 102m, Animation 68m</b></li>\n",
                "<li>There is a relation between average vote and runtime as movies that run at armound 100 minutes gets the most votes</li>\n",
                "    <li>Most movies runtime is around that time between 100 and 110 minutes</li>\n",
                "</ul>\n",
                "\n",
                "### Limitations\n",
                "\n",
                "The data for revenue and budget dose not feel accurate and needs further investigation which is beyond the scope of this analysis."
            ],
            "metadata": {
                "azdata_cell_guid": "95de5c23-b6b4-4b8d-85f6-417464f6ad4d"
            }
        },
        {
            "cell_type": "code",
            "source": [
                "\n",
                "from subprocess import call\n",
                "call(['python', '-m', 'nbconvert', 'Investigate_a_Dataset.ipynb'])"
            ],
            "metadata": {
                "azdata_cell_guid": "b9dcabbe-1cb8-41bb-8d85-6280cc6a5792",
                "language": "python",
                "tags": [
                    "hide_input"
                ]
            },
            "outputs": [
                {
                    "output_type": "execute_result",
                    "execution_count": 368,
                    "data": {
                        "text/plain": "1"
                    },
                    "metadata": {}
                }
            ],
            "execution_count": 368
        }
    ]
}